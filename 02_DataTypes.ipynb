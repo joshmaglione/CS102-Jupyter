{
 "cells": [
  {
   "cell_type": "markdown",
   "metadata": {},
   "source": [
    "[![Binder](https://mybinder.org/badge_logo.svg)](https://mybinder.org/v2/gh/joshmaglione/CS102-Jupyter/main?labpath=.%2FWeek02.ipynb)\n",
    "\n",
    "<a href=\"https://colab.research.google.com/github/joshmaglione/CS102-Jupyter/blob/main/Week02.ipynb\"><img src=\"https://colab.research.google.com/assets/colab-badge.svg\" alt=\"Open In Colab\"/></a>\n",
    "\n",
    "[View on GitHub](https://github.com/joshmaglione/CS102-Jupyter/blob/main/Week02.ipynb)"
   ]
  },
  {
   "cell_type": "markdown",
   "metadata": {},
   "source": [
    "# Week 2: Understanding Data Types in Python"
   ]
  },
  {
   "cell_type": "markdown",
   "metadata": {},
   "source": [
    "Effective data-driven science and computation requires understanding how data is stored and manipulated."
   ]
  },
  {
   "cell_type": "markdown",
   "metadata": {},
   "source": [
    "## Dynamic vs Static typing\n",
    "\n",
    "In `Python`, data is *dynamically typed*. This means that variable types are determined and checked at **runtime**. \n",
    "\n",
    "In `C`, data is *statically typed*. This means that variable types are determined and checked during **compilation**."
   ]
  },
  {
   "cell_type": "markdown",
   "metadata": {},
   "source": [
    "For example, one operation in `C` might go as follows:\n",
    "\n",
    "```C\n",
    "/* C code */\n",
    "int result = 0;\n",
    "for(int i=0; i<100; i++){\n",
    "    result += i;\n",
    "}\n",
    "```"
   ]
  },
  {
   "cell_type": "markdown",
   "metadata": {},
   "source": [
    "The same operation in `Python` would look like:\n",
    "\n",
    "```python\n",
    "# Python code\n",
    "result = 0\n",
    "for i in range(100):\n",
    "    result += i\n",
    "```"
   ]
  },
  {
   "cell_type": "markdown",
   "metadata": {},
   "source": [
    "Notice `result` was declared an `int` in `C`, whereas in `Python` it was not."
   ]
  },
  {
   "cell_type": "markdown",
   "metadata": {},
   "source": [
    "As another example, the following code will run properly in `Python`, but in `C` it won't compile."
   ]
  },
  {
   "cell_type": "code",
   "execution_count": null,
   "metadata": {},
   "outputs": [],
   "source": [
    "x = 4\n",
    "x = \"four\"\n",
    "x == [4]"
   ]
  },
  {
   "cell_type": "markdown",
   "metadata": {},
   "source": [
    "There is more going on under the hood of a Python type."
   ]
  },
  {
   "cell_type": "markdown",
   "metadata": {},
   "source": [
    "## More than they seem"
   ]
  },
  {
   "cell_type": "markdown",
   "metadata": {},
   "source": [
    "The standard `Python` implementation is written in `C`.\n",
    "\n",
    "Every `Python` object is a `C` structure. \n",
    "\n",
    "Consider an `int` for example. \n",
    "\n",
    "In `C`, an `int` is essentially a label for a location in memory whose bytes encode the value.\n",
    "\n",
    "Looking at the `Python` 3.12.1 [source code](https://github.com/python/cpython/blob/main/Objects/clinic/longobject.c.h), an integer is encoded as a 'longobject', and the definition looks essentially like\n",
    "\n",
    "```C\n",
    "struct _longobject {\n",
    "    long ob_refcnt;\n",
    "    PyTypeObject *ob_type;\n",
    "    size_t ob_size;\n",
    "    long ob_digit[1];\n",
    "};\n",
    "```"
   ]
  },
  {
   "cell_type": "markdown",
   "metadata": {},
   "source": [
    "A single integer in Python actually contains four pieces:\n",
    "- `ob_refcnt` : reference count that helps Python silently handle memory allocation and deallocation\n",
    "- `ob_type` : encodes the type of the variable\n",
    "- `ob_size` : specifies the size of the following data members\n",
    "- `ob_digit` : contains the actual integer value that we expect the Python variable to represent.\n",
    "\n",
    "Therefore, `Python` integers take more data than `C` integers. "
   ]
  },
  {
   "cell_type": "markdown",
   "metadata": {},
   "source": [
    "The following illustrates the two different encodings of the integer `1`\n",
    "\n",
    "![](imgs/cint_vs_pyint.png)\n",
    "\n",
    "Here '`PyObject_HEAD`' is a container for `ob_refcnt`, `ob_type`, and `ob_size`."
   ]
  },
  {
   "cell_type": "markdown",
   "metadata": {},
   "source": [
    "We can simply see this. In `C` an `int` takes 4 bytes. In `Python`, we can use the `sys` package to check."
   ]
  },
  {
   "cell_type": "code",
   "execution_count": null,
   "metadata": {},
   "outputs": [],
   "source": [
    "from sys import getsizeof\n",
    "print(getsizeof(1))         # Number of bytes for 1"
   ]
  },
  {
   "cell_type": "markdown",
   "metadata": {},
   "source": [
    "## Lists in Python"
   ]
  },
  {
   "cell_type": "markdown",
   "metadata": {},
   "source": [
    "Dynamic typing allows for *heterogeneous* lists."
   ]
  },
  {
   "cell_type": "code",
   "execution_count": null,
   "metadata": {},
   "outputs": [],
   "source": [
    "L = [True, 1, \"one\", [1], 1.0]\n",
    "[(x, type(x)) for x in L]"
   ]
  },
  {
   "cell_type": "code",
   "execution_count": null,
   "metadata": {},
   "outputs": [],
   "source": [
    "print(f\"Number of bytes for L : {getsizeof(L)}\")\n",
    "[(x, type(x), getsizeof(x)) for x in L]"
   ]
  },
  {
   "cell_type": "markdown",
   "metadata": {},
   "source": [
    "Consider just keeping the type the same in one list."
   ]
  },
  {
   "cell_type": "code",
   "execution_count": null,
   "metadata": {},
   "outputs": [],
   "source": [
    "P = [2, 3, 5, 7, 11, 13, 17, 19]\n",
    "print(f\"Number of bytes for P : {getsizeof(P)}\")\n",
    "[getsizeof(x) for x in P]"
   ]
  },
  {
   "cell_type": "markdown",
   "metadata": {},
   "source": [
    "We could expect more efficiency since much of the overhead is redundant. "
   ]
  },
  {
   "cell_type": "markdown",
   "metadata": {},
   "source": [
    "One way to get better storage efficiency is to use Python's `array` module (built-in)\n",
    "\n",
    "Since we want to do operations on arrays, `numpy` is the better approach."
   ]
  },
  {
   "cell_type": "markdown",
   "metadata": {},
   "source": [
    "## NumPy arrays"
   ]
  },
  {
   "cell_type": "markdown",
   "metadata": {},
   "source": [
    "If you want to expand upon the foundations here, check out [Numpy Fundamentals](https://numpy.org/doc/stable/user/basics.html) to learn more about, well, the fundamental ideas and philosophy present in NumPy."
   ]
  },
  {
   "cell_type": "markdown",
   "metadata": {},
   "source": [
    "Python lists contain a pointer to a block of pointers, each of which points to a full Python object (like the Python integer that we saw earlier).\n",
    "\n",
    "Numpy arrays are fixed type and are essentially pointers to a contiguous block of data.\n",
    "\n",
    "![](imgs/array_vs_list.png)"
   ]
  },
  {
   "cell_type": "markdown",
   "metadata": {},
   "source": [
    "We import `numpy` as follows."
   ]
  },
  {
   "cell_type": "code",
   "execution_count": 6,
   "metadata": {},
   "outputs": [],
   "source": [
    "import numpy as np"
   ]
  },
  {
   "cell_type": "markdown",
   "metadata": {},
   "source": [
    "We have standards. \n",
    "\n",
    "We don't use anything else other than `np` for abbreviating `numpy`.\n",
    "\n",
    "Code can get **hard** to read. By sticking to this standard, you never have to think when you see `np`."
   ]
  },
  {
   "cell_type": "markdown",
   "metadata": {},
   "source": [
    "We can construct `numpy` arrays, called `ndarray`, from Python lists. "
   ]
  },
  {
   "cell_type": "code",
   "execution_count": null,
   "metadata": {},
   "outputs": [],
   "source": [
    "a = np.array([2, 3, 5, 7, 11, 19])\n",
    "print(type(a))\n",
    "print(a)"
   ]
  },
  {
   "cell_type": "markdown",
   "metadata": {},
   "source": [
    "When you feed the animal a variety of food, it makes a choice. "
   ]
  },
  {
   "cell_type": "code",
   "execution_count": null,
   "metadata": {},
   "outputs": [],
   "source": [
    "print(np.array([True, 1, 1.0]))\n",
    "print(np.array([True, 1, 1.0, \"one\"]))"
   ]
  },
  {
   "cell_type": "markdown",
   "metadata": {},
   "source": [
    "This is called *upcasting*. \n",
    "\n",
    "Can figure out the order of precedence by playing around? (You could just look it up, but that's not as fun.)"
   ]
  },
  {
   "cell_type": "markdown",
   "metadata": {},
   "source": [
    "Arrays can be multi-dimensional."
   ]
  },
  {
   "cell_type": "code",
   "execution_count": null,
   "metadata": {},
   "outputs": [],
   "source": [
    "M = np.array([(i, i + 3, i - 1) for i in range(5) if i != 2])\n",
    "print(M)"
   ]
  },
  {
   "cell_type": "code",
   "execution_count": null,
   "metadata": {},
   "outputs": [],
   "source": [
    "T = np.array([[(i, i + 1) for i in range(4*j, 4*j + 4, 2)] for j in range(2)])\n",
    "print(T)"
   ]
  },
  {
   "cell_type": "markdown",
   "metadata": {},
   "source": [
    "Many ways to create arrays."
   ]
  },
  {
   "cell_type": "code",
   "execution_count": null,
   "metadata": {},
   "outputs": [],
   "source": [
    "# Create a length-10 integer array filled with zeros\n",
    "print(np.zeros(10, dtype=int))"
   ]
  },
  {
   "cell_type": "code",
   "execution_count": null,
   "metadata": {},
   "outputs": [],
   "source": [
    "# Create a 3x5 floating-point array filled with ones\n",
    "print(np.ones((3, 5), dtype=float))"
   ]
  },
  {
   "cell_type": "code",
   "execution_count": null,
   "metadata": {},
   "outputs": [],
   "source": [
    "# Create a 3x5 array filled with 42\n",
    "print(np.full((3, 5), 42))"
   ]
  },
  {
   "cell_type": "code",
   "execution_count": null,
   "metadata": {},
   "outputs": [],
   "source": [
    "# Create an array filled with a linear sequence. Starting at 0, ending at 20,\n",
    "# stepping by 2\n",
    "print(np.arange(0, 21, 2))"
   ]
  },
  {
   "cell_type": "code",
   "execution_count": null,
   "metadata": {},
   "outputs": [],
   "source": [
    "# Create an array of five values evenly spaced between 0 and 1\n",
    "print(np.linspace(0, 1, 5))"
   ]
  },
  {
   "cell_type": "markdown",
   "metadata": {},
   "source": [
    "But wait, there's more!"
   ]
  },
  {
   "cell_type": "code",
   "execution_count": null,
   "metadata": {},
   "outputs": [],
   "source": [
    "# Create a 3x4 array of continuously uniformly distributed random values between\n",
    "# 0 and 1\n",
    "print(np.random.random_sample((3, 4)))"
   ]
  },
  {
   "cell_type": "code",
   "execution_count": null,
   "metadata": {},
   "outputs": [],
   "source": [
    "# Create a 3x4 array of normally distributed random values with mean 0 and\n",
    "# standard deviation 1\n",
    "print(np.random.normal(0, 1, (3, 4)))"
   ]
  },
  {
   "cell_type": "code",
   "execution_count": null,
   "metadata": {},
   "outputs": [],
   "source": [
    "# Create a 2x5 array of random integers in the interval [0, 10)\n",
    "print(np.random.randint(0, 10, (6, 4)))"
   ]
  },
  {
   "cell_type": "code",
   "execution_count": null,
   "metadata": {},
   "outputs": [],
   "source": [
    "# Create a 3x3 identity matrix\n",
    "print(np.eye(3, dtype=int))"
   ]
  },
  {
   "cell_type": "markdown",
   "metadata": {},
   "source": [
    "## What makes NumPy arrays so special?"
   ]
  },
  {
   "cell_type": "markdown",
   "metadata": {},
   "source": [
    "![](imgs/BigL.png)\n",
    "\n",
    "[Big Lebowski clip](https://youtu.be/4LGX8TbvGew?si=-VpNkvj6FjsS0RbG)"
   ]
  },
  {
   "cell_type": "markdown",
   "metadata": {},
   "source": [
    "It's not a matter of opinion that `ndarrays` are fantastic. 🙃\n",
    "\n",
    "The fundamental difference is that an `ndarray` is stored in a *homogeneous and contiguous block of memory*. \n",
    "\n",
    "- Computations on arrays can be written in `C`.\n",
    "- Knowing the address of the memory block and the data type, it is just simple arithmetic to loop over all items.\n",
    "- Spatial locality in memory access patterns results in performance gains notably due to the CPU cache.\n",
    "- NumPy can take advantage of vectorized instructions of modern CPUs.\n",
    "\n",
    "One of the downsides to this approach is if you want to add a row or column to your matrix, for example, NumPy will do an array copy. \n",
    "\n",
    "There are ways to avoid things like this. See [Section 4.5 of the 'Cookbook'](https://ipython-books.github.io/45-understanding-the-internals-of-numpy-to-avoid-unnecessary-array-copying/)."
   ]
  },
  {
   "cell_type": "markdown",
   "metadata": {},
   "source": [
    "Two arrays may share the same memory. Be careful out there."
   ]
  },
  {
   "cell_type": "code",
   "execution_count": null,
   "metadata": {},
   "outputs": [],
   "source": [
    "X = np.array([1, 2, 3])\n",
    "Y = X                       # Sneaky\n",
    "X[0] = 4\n",
    "print(Y)"
   ]
  },
  {
   "cell_type": "markdown",
   "metadata": {},
   "source": [
    "### A quick note on data types within `ndarray`\n",
    "\n",
    "One can specify the data types for an `ndarray` using the `dtype` keyword argument.\n",
    "\n",
    "We did this above. "
   ]
  },
  {
   "cell_type": "markdown",
   "metadata": {},
   "source": [
    "It might be useful to know what some of the types mean. Here's a table:\n",
    "\n",
    "| Data type\t | Description |\n",
    "|-------------|-------------|\n",
    "| `bool_`     | Boolean (True or False) stored as a byte |\n",
    "| `int_`      | Default integer type (same as C `long`; normally either `int64` or `int32`)| \n",
    "| `intc`      | Identical to C `int` (normally `int32` or `int64`)| \n",
    "| `intp`      | Integer used for indexing (same as C `ssize_t`; normally either `int32` or `int64`)| \n",
    "| `int8`      | Byte (–128 to 127)| \n",
    "| `int16`     | Integer (–32768 to 32767)|\n",
    "| `int32`     | Integer (–2147483648 to 2147483647)|\n",
    "| `int64`     | Integer (–9223372036854775808 to 9223372036854775807)| \n",
    "| `uint8`     | Unsigned integer (0 to 255)| \n",
    "| `uint16`    | Unsigned integer (0 to 65535)| \n",
    "| `uint32`    | Unsigned integer (0 to 4294967295)| \n",
    "| `uint64`    | Unsigned integer (0 to 18446744073709551615)| \n",
    "| `float_`    | Shorthand for `float64`| \n",
    "| `float16`   | Half-precision float: sign bit, 5 bits exponent, 10 bits mantissa| \n",
    "| `float32`   | Single-precision float: sign bit, 8 bits exponent, 23 bits mantissa| \n",
    "| `float64`   | Double-precision float: sign bit, 11 bits exponent, 52 bits mantissa| \n",
    "| `complex_`  | Shorthand for `complex128`| \n",
    "| `complex64` | Complex number, represented by two 32-bit floats| \n",
    "| `complex128`| Complex number, represented by two 64-bit floats| "
   ]
  },
  {
   "cell_type": "markdown",
   "metadata": {},
   "source": [
    "## Attributes of `ndarrays`\n",
    "\n",
    "Recall *attributes* are data associated to a class. It is accessed without arguments and without parentheses. "
   ]
  },
  {
   "cell_type": "code",
   "execution_count": 21,
   "metadata": {},
   "outputs": [],
   "source": [
    "x1 = np.random.randint(10, size=6)              # One-dimensional array\n",
    "x2 = np.random.randint(10, size=(3, 4))         # Two-dimensional array\n",
    "x3 = np.random.randint(10, size=(3, 4, 5))      # Three-dimensional array\n",
    "xs = [x1, x2, x3]"
   ]
  },
  {
   "cell_type": "markdown",
   "metadata": {},
   "source": [
    "Each array has attributes \n",
    "- `dtype` : the data type of the entries,\n",
    "- `ndim` : the number of dimensions, \n",
    "- `shape` : the size of each dimension, \n",
    "- `size` : the total size of the array"
   ]
  },
  {
   "cell_type": "code",
   "execution_count": null,
   "metadata": {},
   "outputs": [],
   "source": [
    "print(f\"The data type of the arrays : {[x.dtype for x in xs]}\")\n",
    "print(f\"The dimensions of the arrays : {[x.ndim for x in xs]}\")\n",
    "print(f\"The shapes of the arrays : {[x.shape for x in xs]}\")\n",
    "print(f\"The sizes of the arrays : {[x.size for x in xs]}\")"
   ]
  },
  {
   "cell_type": "markdown",
   "metadata": {},
   "source": [
    "## Exercises\n",
    "\n",
    "1.  Construct a NumPy $4 \\times 4 \\times 4$ array with all $1$ (of type `int`).\n",
    "\n",
    "2. Construct a NumPy $7 \\times 4 \\times 6$ array of random integers in the range $1$ to $99$ (inclusive).\n",
    "   \n",
    "3. Create an array of $71$ values, evenly spaced between $0$ and $100$.\n",
    "\n",
    "4. Create an array with a sequence of integers, starting at $1950$, ending at $2015$, stepping by $5$.\n",
    "   \n",
    "5. Create a list of all odd squares between $0$ and $10000$.\n",
    "\n",
    "6. Make a few NumPy arrays, with random entries or ranges of integers, of varying dimensions.\n",
    "\n",
    "7. Determine the basic attributes of these arrays."
   ]
  }
 ],
 "metadata": {
  "kernelspec": {
   "display_name": ".venv",
   "language": "python",
   "name": "python3"
  },
  "language_info": {
   "codemirror_mode": {
    "name": "ipython",
    "version": 3
   },
   "file_extension": ".py",
   "mimetype": "text/x-python",
   "name": "python",
   "nbconvert_exporter": "python",
   "pygments_lexer": "ipython3",
   "version": "3.11.2"
  }
 },
 "nbformat": 4,
 "nbformat_minor": 2
}
