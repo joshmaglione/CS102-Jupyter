{
 "cells": [
  {
   "cell_type": "markdown",
   "metadata": {},
   "source": [
    "[![Binder](https://mybinder.org/badge_logo.svg)](https://mybinder.org/v2/gh/joshmaglione/CS102-Jupyter/main?labpath=.%2FWeek05.ipynb) \n",
    "\n",
    "<a href=\"https://colab.research.google.com/github/joshmaglione/CS102-Jupyter/blob/main/Week05.ipynb\"><img src=\"https://colab.research.google.com/assets/colab-badge.svg\" alt=\"Open In Colab\"/></a> \n",
    "\n",
    "[View on GitHub](https://github.com/joshmaglione/CS102-Jupyter/blob/main/Week05.ipynb)"
   ]
  },
  {
   "cell_type": "markdown",
   "metadata": {},
   "source": [
    "# Week 5: Our last foray into NumPy"
   ]
  },
  {
   "cell_type": "markdown",
   "metadata": {},
   "source": [
    "This is the last week where we will primarily be focused on NumPy. \n",
    "\n",
    "Of course, we will use NumPy throughout."
   ]
  },
  {
   "cell_type": "markdown",
   "metadata": {},
   "source": [
    "## Exmaple: Rainfall in Galway"
   ]
  },
  {
   "cell_type": "markdown",
   "metadata": {},
   "source": [
    "We will use the data `data/Galway_rainfall.csv` which is also publicly available at \n",
    "\n",
    "[data.gov.ie](https://data.gov.ie/dataset/galway-univcoll-climate-data)\n",
    "\n",
    "We will foreshadow a bit of what we will learn about in the coming weeks with this example."
   ]
  },
  {
   "cell_type": "code",
   "execution_count": null,
   "metadata": {},
   "outputs": [],
   "source": [
    "import numpy as np\n",
    "import pandas as pd\n",
    "import matplotlib.pyplot as plt"
   ]
  },
  {
   "cell_type": "markdown",
   "metadata": {},
   "source": [
    "We'll use `Pandas` to extract the relevant data. \n",
    "\n",
    "We want the daily rainfall from the years 2009, 2010, and 2011."
   ]
  },
  {
   "cell_type": "markdown",
   "metadata": {},
   "source": [
    "You don't have to worry about *what* is happening. "
   ]
  },
  {
   "cell_type": "code",
   "execution_count": null,
   "metadata": {},
   "outputs": [],
   "source": [
    "pre_df = pd.read_csv(\"data/Galway_rainfall.csv\", comment='#')\n",
    "df = pd.DataFrame({\n",
    "\t'date': pd.to_datetime(pre_df['date'], format=\"%d-%b-%Y\"),\n",
    "\t'rain': pre_df['rain']\n",
    "})\n",
    "df09 = df.query('20090101 <= date < 20100101')\n",
    "df10 = df.query('20100101 <= date < 20110101')\n",
    "df11 = df.query('20110101 <= date < 20120101')"
   ]
  },
  {
   "cell_type": "code",
   "execution_count": null,
   "metadata": {},
   "outputs": [],
   "source": [
    "ax09 = df09.plot(x=\"date\", y=\"rain\")\n",
    "ax10 = df10.plot(x=\"date\", y=\"rain\")\n",
    "ax11 = df11.plot(x=\"date\", y=\"rain\")"
   ]
  },
  {
   "cell_type": "markdown",
   "metadata": {},
   "source": [
    "They all kind of look the same. \n",
    "\n",
    "It's not entirely simple to answer the following questions by looking at the graphs. \n",
    "1. How many rainy days were there in the year? \n",
    "2. How many days with less than 3 mm of rain? \n",
    "3. What was the average amount on days with at least 3 mm of rain? \n",
    "\n",
    "Naturally there are countless other questions like this too."
   ]
  },
  {
   "cell_type": "markdown",
   "metadata": {},
   "source": [
    "In the above code, we have taken advantage of three key conveniences offered by NumPy. \n",
    "- (Basic) comparison\n",
    "- [Masking](https://numpy.org/doc/stable/reference/maskedarray.generic.html#what-is-a-masked-array)\n",
    "- [Advanced Indexing](https://numpy.org/doc/stable/user/basics.indexing.html#advanced-indexing)"
   ]
  },
  {
   "cell_type": "markdown",
   "metadata": {},
   "source": [
    "## Comparisons"
   ]
  },
  {
   "cell_type": "markdown",
   "metadata": {},
   "source": [
    "Boolean comparisons are also implemented using Ufuncs."
   ]
  },
  {
   "cell_type": "code",
   "execution_count": null,
   "metadata": {},
   "outputs": [],
   "source": [
    "a1 = np.random.randint(10, size=5)\n",
    "print(a1)"
   ]
  },
  {
   "cell_type": "markdown",
   "metadata": {},
   "source": [
    "All of the standard boolean comparisons are available to us."
   ]
  },
  {
   "cell_type": "code",
   "execution_count": null,
   "metadata": {},
   "outputs": [],
   "source": [
    "print(a1 > 4)"
   ]
  },
  {
   "cell_type": "code",
   "execution_count": null,
   "metadata": {},
   "outputs": [],
   "source": [
    "print(a1 != 5)"
   ]
  },
  {
   "cell_type": "code",
   "execution_count": null,
   "metadata": {},
   "outputs": [],
   "source": [
    "print(a1 == 3)"
   ]
  },
  {
   "cell_type": "markdown",
   "metadata": {},
   "source": [
    "We know that *really* the RHS is being **broadcasted**. \n",
    "\n",
    "If you don't know what I mean, check out [Week04.ipynb](https://github.com/joshmaglione/CS102-Jupyter/blob/main/Week04.ipynb).\n",
    "\n",
    "Thus, we can actually compare any pair of compatible arrays (under broadcasting rules)."
   ]
  },
  {
   "cell_type": "code",
   "execution_count": null,
   "metadata": {},
   "outputs": [],
   "source": [
    "print(2**a1 <= a1**2 - 2*a1 + 6)"
   ]
  },
  {
   "cell_type": "markdown",
   "metadata": {},
   "source": [
    "This next example trips me up every so often..."
   ]
  },
  {
   "cell_type": "code",
   "execution_count": null,
   "metadata": {},
   "outputs": [],
   "source": [
    "a1 = np.random.randint(10, size=5)\n",
    "b1 = np.random.randint(10, size=5)\n",
    "print(f\"      a1 = {a1}\")\n",
    "print(f\"      b1 = {b1}\")\n",
    "print(f\"a1 == b1 = {a1 == b1}\")"
   ]
  },
  {
   "cell_type": "markdown",
   "metadata": {},
   "source": [
    "Recall that it `False` is often interpretted as $0$ and `True` is interpretted as $1$.\n",
    "\n",
    "This isn't just a convenience; there is good mathematical reason for this. (Logical operations have an algebraic analog.)"
   ]
  },
  {
   "cell_type": "markdown",
   "metadata": {},
   "source": [
    "We can take advantage of this interpretation and we can count the number of `True` values with NumPy's `sum`."
   ]
  },
  {
   "cell_type": "code",
   "execution_count": null,
   "metadata": {},
   "outputs": [],
   "source": [
    "print(a1)\n",
    "count = np.sum(a1 > 3)\n",
    "print(f\"The number of entries greater than 3 is {count}\")"
   ]
  },
  {
   "cell_type": "code",
   "execution_count": null,
   "metadata": {},
   "outputs": [],
   "source": [
    "a2 = np.random.randint(10, size=(4,5))\n",
    "print(a2)\n",
    "col = np.sum(a2 % 2 == 0, axis=0)\n",
    "row = np.sum(a2 % 2 == 0, axis=1)\n",
    "print(f\"The number of even entries in each column is {col}\")\n",
    "print(f\"The number of even entries in each row is {row}\")"
   ]
  },
  {
   "cell_type": "markdown",
   "metadata": {},
   "source": [
    "You can check if *any* or *all* values are `True`."
   ]
  },
  {
   "cell_type": "code",
   "execution_count": null,
   "metadata": {},
   "outputs": [],
   "source": [
    "a2 = np.random.randint(10, size=(3, 5))\n",
    "print(a2)\n",
    "print(f\"There exists a 4 in a2: {np.any(a2 == 4)}\")\n",
    "print(f\"Every value in a2 is greater than 0: {np.all(a2 > 0)}\")"
   ]
  },
  {
   "cell_type": "markdown",
   "metadata": {},
   "source": [
    "You can pass axis values with `any` and `all`."
   ]
  },
  {
   "cell_type": "code",
   "execution_count": null,
   "metadata": {},
   "outputs": [],
   "source": [
    "print(np.any(a2 == 0, axis=0))"
   ]
  },
  {
   "cell_type": "markdown",
   "metadata": {},
   "source": [
    "![](imgs/clippy.png)\n",
    "\n",
    "It looks like you are using functions already defined in Python: `any`, `all`, ans `sum`.\n"
   ]
  },
  {
   "cell_type": "markdown",
   "metadata": {},
   "source": [
    "### Bitwise operators"
   ]
  },
  {
   "cell_type": "markdown",
   "metadata": {},
   "source": [
    "You can also use the operators \n",
    "- `&` for `and`\n",
    "- `|` for `or`\n",
    "- `^` for `xor`\n",
    "- `~` for `not`"
   ]
  },
  {
   "cell_type": "markdown",
   "metadata": {},
   "source": [
    "I avoided using an `&` for the 2009 data:"
   ]
  },
  {
   "cell_type": "code",
   "execution_count": 45,
   "metadata": {},
   "outputs": [
    {
     "data": {
      "text/plain": [
       "True"
      ]
     },
     "execution_count": 45,
     "metadata": {},
     "output_type": "execute_result"
    }
   ],
   "source": [
    "df09 = df.query('20090101 <= date < 20100101')\n",
    "\n",
    "x = 5\n",
    "(2 < x < 7) == ((2 < x) & (x < 7))"
   ]
  },
  {
   "cell_type": "markdown",
   "metadata": {},
   "source": [
    "## Masking"
   ]
  },
  {
   "cell_type": "markdown",
   "metadata": {},
   "source": [
    "A *masked array* is a pair of arrays of identical shape and size. \n",
    "\n",
    "Depending on the masking, it might be more efficient to encode this with less data.\n",
    "\n",
    "But for thinking about this, it is easier to think of a pair of arrays."
   ]
  },
  {
   "cell_type": "markdown",
   "metadata": {},
   "source": [
    "The *mask* is an array of boolean values. \n",
    "\n",
    "A `True` in the mask means that the corresponding value in the array is masked, or omitted. "
   ]
  },
  {
   "cell_type": "markdown",
   "metadata": {},
   "source": [
    "We can access masked arrays in NumPy via `ma.array`."
   ]
  },
  {
   "cell_type": "code",
   "execution_count": 46,
   "metadata": {},
   "outputs": [
    {
     "data": {
      "text/plain": [
       "masked_array(data=[1, --, 3],\n",
       "             mask=[False,  True, False],\n",
       "       fill_value=999999)"
      ]
     },
     "execution_count": 46,
     "metadata": {},
     "output_type": "execute_result"
    }
   ],
   "source": [
    "np.ma.array([1,2,3], mask=[0,1,0])"
   ]
  },
  {
   "cell_type": "markdown",
   "metadata": {},
   "source": [
    "But really, we can use the idea of masking as a means of selecting data."
   ]
  },
  {
   "cell_type": "code",
   "execution_count": 49,
   "metadata": {},
   "outputs": [
    {
     "name": "stdout",
     "output_type": "stream",
     "text": [
      "[2 0 1 6 7]\n",
      "[6 7]\n"
     ]
    }
   ],
   "source": [
    "a1 = np.random.randint(10, size=5)\n",
    "print(a1)\n",
    "print(a1[a1 > 5])"
   ]
  },
  {
   "cell_type": "markdown",
   "metadata": {},
   "source": [
    "The `a1 > 5` plays the role of the **negated** mask. That is, the mask is actually `~(a1 > 5)`."
   ]
  },
  {
   "cell_type": "markdown",
   "metadata": {},
   "source": [
    "I used masking to extract the desired data from our data set."
   ]
  },
  {
   "cell_type": "code",
   "execution_count": 50,
   "metadata": {},
   "outputs": [],
   "source": [
    "df09 = df.query('20090101 <= date < 20100101')"
   ]
  },
  {
   "cell_type": "markdown",
   "metadata": {},
   "source": [
    "We can answer some of the questions we posed earlier. "
   ]
  },
  {
   "cell_type": "code",
   "execution_count": 65,
   "metadata": {},
   "outputs": [],
   "source": [
    "rf09 = df09[\"rain\"]     # Just extract the rain data, ignore the dates."
   ]
  },
  {
   "cell_type": "code",
   "execution_count": 63,
   "metadata": {},
   "outputs": [
    {
     "name": "stdout",
     "output_type": "stream",
     "text": [
      "In 2009, there were 241 days with rain.\n"
     ]
    }
   ],
   "source": [
    "rainy09 = np.sum(rf09 > 0)\n",
    "print(f\"In 2009, there were {rainy09} days with rain.\")"
   ]
  },
  {
   "cell_type": "code",
   "execution_count": 66,
   "metadata": {},
   "outputs": [
    {
     "name": "stdout",
     "output_type": "stream",
     "text": [
      "In 2009, rainy days averaged 6.288796680497925 mm of rain.\n"
     ]
    }
   ],
   "source": [
    "avg09 = np.average(rf09[rf09 > 0])\n",
    "print(f\"In 2009, rainy days averaged {avg09} mm of rain.\")"
   ]
  },
  {
   "cell_type": "markdown",
   "metadata": {},
   "source": [
    "## Advanced Indexing"
   ]
  },
  {
   "cell_type": "markdown",
   "metadata": {},
   "source": []
  }
 ],
 "metadata": {
  "kernelspec": {
   "display_name": "Python 3",
   "language": "python",
   "name": "python3"
  },
  "language_info": {
   "codemirror_mode": {
    "name": "ipython",
    "version": 3
   },
   "file_extension": ".py",
   "mimetype": "text/x-python",
   "name": "python",
   "nbconvert_exporter": "python",
   "pygments_lexer": "ipython3",
   "version": "3.12.0"
  }
 },
 "nbformat": 4,
 "nbformat_minor": 2
}
