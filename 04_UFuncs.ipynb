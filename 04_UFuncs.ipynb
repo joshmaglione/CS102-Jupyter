{
 "cells": [
  {
   "cell_type": "markdown",
   "metadata": {},
   "source": [
    "[![Binder](https://mybinder.org/badge_logo.svg)](https://notebooks.gesis.org/binder/v2/gh/joshmaglione/CS102-Jupyter/main?labpath=.%2FWeek04.ipynb) \n",
    "\n",
    "<a href=\"https://colab.research.google.com/github/joshmaglione/CS102-Jupyter/blob/main/Week04.ipynb\"><img src=\"https://colab.research.google.com/assets/colab-badge.svg\" alt=\"Open In Colab\"/></a>\n",
    "\n",
    "[View on GitHub](https://github.com/joshmaglione/CS102-Jupyter/blob/main/Week04.ipynb)"
   ]
  },
  {
   "cell_type": "markdown",
   "metadata": {},
   "source": [
    "# Week 4: Universal functions and broadcasting"
   ]
  },
  {
   "cell_type": "markdown",
   "metadata": {},
   "source": [
    "*Universal functions* (or UFuncs) are operations applied to `ndarray`. \n",
    "\n",
    "Operations are generally unary (takes one argument) or binary (takes two arguments)."
   ]
  },
  {
   "cell_type": "markdown",
   "metadata": {},
   "source": [
    "## What do we mean by operations?"
   ]
  },
  {
   "cell_type": "markdown",
   "metadata": {},
   "source": [
    "For example: $v = (2, -3, 0, 9)$.\n",
    "\n",
    "Unary operation of $-$\n",
    "$$\n",
    "    -v = (-2, 3, 0, -9).\n",
    "$$\n",
    "\n",
    "Binary operation of $+$\n",
    "$$\n",
    "    v+v = (4, -6, 0, 18).\n",
    "$$"
   ]
  },
  {
   "cell_type": "markdown",
   "metadata": {},
   "source": [
    "NumPy has asserted that multiplication of `ndarray` are to be *component-wise*. \n",
    "\n",
    "There is no canonical choice of what multiplication should be, but this is a useful choice in practice. \n",
    "\n",
    "Continuing our example: $*$ is a binary operation\n",
    "$$\n",
    "    v * v = (3, 9, 0, 81). \n",
    "$$\n",
    "\n",
    "Of course so is division, but this would not work for our specific $v$. "
   ]
  },
  {
   "cell_type": "markdown",
   "metadata": {},
   "source": [
    "## Time comparisons"
   ]
  },
  {
   "cell_type": "markdown",
   "metadata": {},
   "source": [
    "Last week, we saw hints of NumPy being significantly faster than Python at running through elements of containers.\n",
    "\n",
    "Apparently, this isn't always true, at least for Python 3.12."
   ]
  },
  {
   "cell_type": "code",
   "execution_count": null,
   "metadata": {},
   "outputs": [],
   "source": [
    "import numpy as np"
   ]
  },
  {
   "cell_type": "markdown",
   "metadata": {},
   "source": [
    "Let's create large arrays (but still small compared to real-world examples). "
   ]
  },
  {
   "cell_type": "code",
   "execution_count": null,
   "metadata": {},
   "outputs": [],
   "source": [
    "N = 10^9\n",
    "apy = range(1, N + 1)\n",
    "bpy = range(2, N + 2)\n",
    "anp = np.arange(1, N + 1)\n",
    "bnp = np.arange(2, N + 2)"
   ]
  },
  {
   "cell_type": "markdown",
   "metadata": {},
   "source": [
    "Let's multiply both vectors."
   ]
  },
  {
   "cell_type": "code",
   "execution_count": null,
   "metadata": {},
   "outputs": [],
   "source": [
    "%timeit _ = [apy[i] * bpy[i] for i in range(N)]"
   ]
  },
  {
   "cell_type": "markdown",
   "metadata": {},
   "source": [
    "We will use a UFunc here."
   ]
  },
  {
   "cell_type": "code",
   "execution_count": null,
   "metadata": {},
   "outputs": [],
   "source": [
    "%timeit _ = anp * bnp"
   ]
  },
  {
   "cell_type": "markdown",
   "metadata": {},
   "source": [
    "**Fun fact.** I ran the above cells on my MacBook Pro which has an [Apple M2](https://en.wikipedia.org/wiki/Apple_M2) chip, and the speeds are essentially the same! "
   ]
  },
  {
   "cell_type": "code",
   "execution_count": null,
   "metadata": {},
   "outputs": [],
   "source": [
    "apy = [np.random.randint(1, 100) for _ in range(N)]\n",
    "bpy = [np.random.randint(1, 100) for _ in range(N)]\n",
    "anp = np.random.randint(1, 100, size=N)\n",
    "bnp = np.random.randint(1, 100, size=N)"
   ]
  },
  {
   "cell_type": "code",
   "execution_count": null,
   "metadata": {},
   "outputs": [],
   "source": [
    "%timeit _ = [apy[i] * bpy[i] for i in range(N)]"
   ]
  },
  {
   "cell_type": "code",
   "execution_count": null,
   "metadata": {},
   "outputs": [],
   "source": [
    "%timeit _ = anp * bnp"
   ]
  },
  {
   "cell_type": "markdown",
   "metadata": {},
   "source": [
    "Although Python might perform on par with NumPy, it is safer to just use NumPy if performance might be an issue."
   ]
  },
  {
   "cell_type": "markdown",
   "metadata": {},
   "source": [
    "## Ufuncs now, seriously"
   ]
  },
  {
   "cell_type": "markdown",
   "metadata": {},
   "source": [
    "NumPy offers many *vectorized* alternatives to the usual operations.\n",
    "\n",
    "The point is that this pushes the loop down into the compiled C code, resulting in a more efficient execution. "
   ]
  },
  {
   "cell_type": "markdown",
   "metadata": {},
   "source": [
    "NumPy has over [60 Ufuncs](https://numpy.org/doc/stable/reference/ufuncs.html#available-ufuncs)."
   ]
  },
  {
   "cell_type": "markdown",
   "metadata": {},
   "source": [
    "Ufuncs are easy to use: just apply the operation on arrays"
   ]
  },
  {
   "cell_type": "code",
   "execution_count": null,
   "metadata": {},
   "outputs": [],
   "source": [
    "a = np.random.randint(1, 10, size=3)\n",
    "b = np.random.randint(1, 10, size=3)\n",
    "c = a + b\n",
    "print(f\"    array a = {a}\")\n",
    "print(f\"    array b = {b}\")\n",
    "print(f\"array a + b = {c}\")"
   ]
  },
  {
   "cell_type": "markdown",
   "metadata": {},
   "source": [
    "More of the usual mathematical operations"
   ]
  },
  {
   "cell_type": "code",
   "execution_count": null,
   "metadata": {},
   "outputs": [],
   "source": [
    "print(a * b)"
   ]
  },
  {
   "cell_type": "code",
   "execution_count": null,
   "metadata": {},
   "outputs": [],
   "source": [
    "print(a / b)"
   ]
  },
  {
   "cell_type": "code",
   "execution_count": null,
   "metadata": {},
   "outputs": [],
   "source": [
    "print(a // b)"
   ]
  },
  {
   "cell_type": "code",
   "execution_count": null,
   "metadata": {},
   "outputs": [],
   "source": [
    "print(2**a)         # this is the exponentiation operation."
   ]
  },
  {
   "cell_type": "code",
   "execution_count": null,
   "metadata": {},
   "outputs": [],
   "source": [
    "print(a**2)"
   ]
  },
  {
   "cell_type": "code",
   "execution_count": null,
   "metadata": {},
   "outputs": [],
   "source": [
    "# print(a**(-1))      # Won't convert"
   ]
  },
  {
   "cell_type": "markdown",
   "metadata": {},
   "source": [
    "If we want to change the data type (`dtype`) of an array, best to use `astype` method."
   ]
  },
  {
   "cell_type": "code",
   "execution_count": null,
   "metadata": {},
   "outputs": [],
   "source": [
    "a_fl = a.astype('f')\n",
    "print(a_fl)\n",
    "print(a_fl**(-1))"
   ]
  },
  {
   "cell_type": "code",
   "execution_count": null,
   "metadata": {},
   "outputs": [],
   "source": [
    "print(a % 2)"
   ]
  },
  {
   "cell_type": "markdown",
   "metadata": {},
   "source": [
    "Can do bitwise operations as well"
   ]
  },
  {
   "cell_type": "code",
   "execution_count": null,
   "metadata": {},
   "outputs": [],
   "source": [
    "print(~a)"
   ]
  },
  {
   "cell_type": "code",
   "execution_count": null,
   "metadata": {},
   "outputs": [],
   "source": [
    "print(a^a)"
   ]
  },
  {
   "cell_type": "markdown",
   "metadata": {},
   "source": [
    "From the documentation:\n",
    "\n",
    "> Some of these ufuncs are called automatically on arrays when the relevant infix notation is used (e.g., `add(a, b)` is called internally when `a + b` is written and `a` or `b` is an ndarray).\n",
    ">\n",
    "> Nevertheless, you may still want to use the **ufunc call** in order to use the optional output argument(s) to place the output(s) in an object (or objects) of your choice."
   ]
  },
  {
   "cell_type": "code",
   "execution_count": null,
   "metadata": {},
   "outputs": [],
   "source": [
    "print(a + b)\n",
    "print(np.add(a, b))"
   ]
  },
  {
   "cell_type": "markdown",
   "metadata": {},
   "source": [
    "The methods can prevent additional work. \n",
    "\n",
    "For example, take the example where we wanted to invert an array of ints.\n",
    "\n",
    "We can use `np.power` and specify the output `dtype` all at once."
   ]
  },
  {
   "cell_type": "code",
   "execution_count": null,
   "metadata": {},
   "outputs": [],
   "source": [
    "np.power(a, -1, dtype='f')"
   ]
  },
  {
   "cell_type": "markdown",
   "metadata": {},
   "source": [
    "Using the keyword argument `out`, one can specify the target output."
   ]
  },
  {
   "cell_type": "code",
   "execution_count": null,
   "metadata": {},
   "outputs": [],
   "source": [
    "z = np.zeros(20)\n",
    "np.power(2, range(10), out=z[1::2])\n",
    "print(z)"
   ]
  },
  {
   "cell_type": "markdown",
   "metadata": {},
   "source": [
    "Often the methods are not required, but sometimes they can be exactly the right tool."
   ]
  },
  {
   "cell_type": "markdown",
   "metadata": {},
   "source": [
    "### Trigonometric functions (try it yourself)"
   ]
  },
  {
   "cell_type": "code",
   "execution_count": null,
   "metadata": {},
   "outputs": [],
   "source": [
    "thetas = np.linspace(0, np.pi, 3)\n",
    "print(thetas)"
   ]
  },
  {
   "cell_type": "code",
   "execution_count": null,
   "metadata": {},
   "outputs": [],
   "source": [
    "print(f\"sin(theta) = {np.sin(thetas)}\")\n",
    "print(f\"cos(theta) = {np.cos(thetas)}\")\n",
    "print(f\"tan(theta) = {np.tan(thetas)}\")"
   ]
  },
  {
   "cell_type": "markdown",
   "metadata": {},
   "source": [
    "One can perform the inverse trigonometric functions as well."
   ]
  },
  {
   "cell_type": "code",
   "execution_count": null,
   "metadata": {},
   "outputs": [],
   "source": [
    "x = [-1, 0, 1]\n",
    "print(f\"       x  = {x}\")\n",
    "print(f\"arcsin(x) = {np.arcsin(x)}\")\n",
    "print(f\"arccos(x) = {np.arccos(x)}\")\n",
    "print(f\"arctan(x) = {np.arctan(x)}\")"
   ]
  },
  {
   "cell_type": "markdown",
   "metadata": {},
   "source": [
    "### Exponentials and logarithms (try it yourself)"
   ]
  },
  {
   "cell_type": "markdown",
   "metadata": {},
   "source": [
    "We can take powers of $e$ with `np.exp`, of $2$ with `np.exp2`, or more general bases with `np.power`."
   ]
  },
  {
   "cell_type": "code",
   "execution_count": null,
   "metadata": {},
   "outputs": [],
   "source": [
    "x = [1, 2, 3]\n",
    "print(f\"   x = {x}\")\n",
    "print(f\" e^x = {np.exp(x)}\")\n",
    "print(f\" 2^x = {np.exp2(x)}\")\n",
    "print(f\"pi^x = {np.power(np.pi, x)}\")"
   ]
  },
  {
   "cell_type": "markdown",
   "metadata": {},
   "source": [
    "The function `np.log` gives the natural logarithm, `np.log2` gives the base-2 logarithm, and `np.log10` gives the base-10 logarithm."
   ]
  },
  {
   "cell_type": "code",
   "execution_count": null,
   "metadata": {},
   "outputs": [],
   "source": [
    "x = [1, 2, 4, 10]\n",
    "print(f\"       x = {x}\")\n",
    "print(f\"  log(x) = {np.log(x)}\")\n",
    "print(f\" log2(x) = {np.log2(x)}\")\n",
    "print(f\"log10(x) = {np.log10(x)}\")"
   ]
  },
  {
   "cell_type": "markdown",
   "metadata": {},
   "source": [
    "### Aggregates and Accumulations"
   ]
  },
  {
   "cell_type": "markdown",
   "metadata": {},
   "source": [
    "Time for a quick journey down a rabbit hole\n",
    "\n",
    "![](imgs/rabbit.jpg)"
   ]
  },
  {
   "cell_type": "markdown",
   "metadata": {},
   "source": [
    "There is a Python module that ships with Python called `functools` (unofficially \"functional tools\").\n",
    "\n",
    "In it there is a function called `reduce` which basically takes a list whose entries have a particular type $t$ and returns something of type $t$.\n",
    "\n",
    "**Oversimplification!**\n",
    "\n",
    "Can also think of this as *aggregating* the data.\n",
    "\n",
    "You also need to tell `reduce` *how* to, well, reduce the list.\n",
    "\n",
    "Two arguments:\n",
    "1. a function,\n",
    "2. a list,\n",
    "3. (optional) a starting value."
   ]
  },
  {
   "cell_type": "code",
   "execution_count": null,
   "metadata": {},
   "outputs": [],
   "source": [
    "from functools import reduce\n",
    "\n",
    "# Argument 1 : a function\n",
    "def add(x, y):\n",
    "    return x + y\n",
    "\n",
    "# Argument 2 : a list\n",
    "a = [\"Hello\", \"world!\"]\n",
    "\n",
    "# Argument 3 : starting value\n",
    "start = \"\""
   ]
  },
  {
   "cell_type": "markdown",
   "metadata": {},
   "source": [
    "We can reduce our list `a` to a string using the recipe given by `add`."
   ]
  },
  {
   "cell_type": "code",
   "execution_count": null,
   "metadata": {},
   "outputs": [],
   "source": [
    "reduce(add, a, start)"
   ]
  },
  {
   "cell_type": "markdown",
   "metadata": {},
   "source": [
    "OK back to NumPy.\n",
    "\n",
    "Often when one uses `reduce`, a standard operation is used to reduce the list to a value.\n",
    "\n",
    "NumPy Ufuncs have a `reduce` method builtin, so instead of calling `reduce` from `functools`, one can use a likely better performing alternative."
   ]
  },
  {
   "cell_type": "code",
   "execution_count": null,
   "metadata": {},
   "outputs": [],
   "source": [
    "a = np.arange(10)\n",
    "print(a)\n",
    "np.add.reduce(a)"
   ]
  },
  {
   "cell_type": "markdown",
   "metadata": {},
   "source": [
    "One should take `np.add.reduce(a)` as `reduce(add, a, 0)`.\n",
    "\n",
    "One can set an initial value with `initial`."
   ]
  },
  {
   "cell_type": "code",
   "execution_count": null,
   "metadata": {},
   "outputs": [],
   "source": [
    "np.add.reduce(a, initial=10)"
   ]
  },
  {
   "cell_type": "code",
   "execution_count": null,
   "metadata": {},
   "outputs": [],
   "source": [
    "np.multiply.reduce(a[1:])"
   ]
  },
  {
   "cell_type": "markdown",
   "metadata": {},
   "source": [
    "Sometimes one is not *only* interested in the final aggregated value, but instead one wants all of accumulated values at every step.\n",
    "\n",
    "Instead of `reduce` one should use `accumulate`."
   ]
  },
  {
   "cell_type": "code",
   "execution_count": null,
   "metadata": {},
   "outputs": [],
   "source": [
    "print(np.add.accumulate(a))"
   ]
  },
  {
   "cell_type": "code",
   "execution_count": null,
   "metadata": {},
   "outputs": [],
   "source": [
    "print(np.multiply.accumulate(a[1:]))"
   ]
  },
  {
   "cell_type": "markdown",
   "metadata": {},
   "source": [
    "## Ufuncs in higher dimensions"
   ]
  },
  {
   "cell_type": "markdown",
   "metadata": {},
   "source": [
    "As before, going from $1$-dimensional arrays to $2$-dimensional arrays is sometimes the tricky step. From $2$-dimensions to $n$-dimensions, it is generally straight-forward."
   ]
  },
  {
   "cell_type": "markdown",
   "metadata": {},
   "source": [
    "Ufuncs can be applied to arrays of the same *shape*.\n",
    "\n",
    "Above we were only looking at $1$-dimensional arrays with the same number of entries (i.e. shape)."
   ]
  },
  {
   "cell_type": "code",
   "execution_count": null,
   "metadata": {},
   "outputs": [],
   "source": [
    "a = np.arange(20).reshape(4, 5)\n",
    "b = np.random.randint(1, 10, size=(4, 5))\n",
    "print(a)\n",
    "print()\n",
    "print(b)"
   ]
  },
  {
   "cell_type": "code",
   "execution_count": null,
   "metadata": {},
   "outputs": [],
   "source": [
    "print(a + b)"
   ]
  },
  {
   "cell_type": "code",
   "execution_count": null,
   "metadata": {},
   "outputs": [],
   "source": [
    "print(a * b)"
   ]
  },
  {
   "cell_type": "markdown",
   "metadata": {},
   "source": [
    "**WARNING:** Be aware that `<matrix> * <matrix>` is **NOT** matrix multiplication. I make this mistake all the time 🤕\n",
    "\n",
    "For that, use the `@` operator: `<matrix> @ <matrix>`"
   ]
  },
  {
   "cell_type": "code",
   "execution_count": null,
   "metadata": {},
   "outputs": [],
   "source": [
    "# print(a @ b)      # Wrong shapes (4,5) x (4,5) is incompatible. "
   ]
  },
  {
   "cell_type": "code",
   "execution_count": null,
   "metadata": {},
   "outputs": [],
   "source": [
    "print(np.power(2, a))"
   ]
  },
  {
   "cell_type": "markdown",
   "metadata": {},
   "source": [
    "You can imagine higher dimensions and all the other Ufuncs we described (and more)."
   ]
  },
  {
   "cell_type": "markdown",
   "metadata": {},
   "source": [
    "## Broadcasting"
   ]
  },
  {
   "cell_type": "markdown",
   "metadata": {},
   "source": [
    "Actually, I lied, but only because I knew I would make you aware of it right now.\n",
    "\n",
    "You **CAN** use Ufuncs beween arrays of different *shapes* and *sizes*.\n",
    "\n",
    "**Broadcasting** is a means of taking two arrays of different shapes and sizes and making them the same shape and size."
   ]
  },
  {
   "cell_type": "markdown",
   "metadata": {},
   "source": [
    "So really, I didn't lie: Ufuncs need arrays of the same shape and size. It's just that broadcasting gets built into the function as well,so it appears not to be necessary."
   ]
  },
  {
   "cell_type": "markdown",
   "metadata": {},
   "source": [
    "### 1-dimensional arrays"
   ]
  },
  {
   "cell_type": "markdown",
   "metadata": {},
   "source": [
    "From [linear algebra](https://en.wikipedia.org/wiki/Linear_algebra), there is an operation with vectors called [*scalar multiplication*](https://en.wikipedia.org/wiki/Scalar_multiplication).\n",
    "\n",
    "This can be viewed as an example of *broadcasting*."
   ]
  },
  {
   "cell_type": "code",
   "execution_count": null,
   "metadata": {},
   "outputs": [],
   "source": [
    "a = np.array([1, 2, 3])\n",
    "b = np.array([2, 2, 2])\n",
    "c = 2\n",
    "print(a * b)                    # Ufunc *\n",
    "print(a * c)                    # Broadcasting"
   ]
  },
  {
   "cell_type": "markdown",
   "metadata": {},
   "source": [
    "Here is a visualization of broadcasting:\n",
    "\n",
    "![](imgs/broadcasting_1.png)"
   ]
  },
  {
   "cell_type": "markdown",
   "metadata": {},
   "source": [
    "**Note.** Taken directly from NumPy's documentation:\n",
    "> The code in the second example is more efficient than that in the first because broadcasting moves less memory around during the multiplication\n",
    "\n",
    "So if it makes sense to broadcast, do it."
   ]
  },
  {
   "cell_type": "markdown",
   "metadata": {},
   "source": [
    "#### Broadcasting rules"
   ]
  },
  {
   "cell_type": "markdown",
   "metadata": {},
   "source": [
    "Suppose we have two arrays `a` and `b` of different shapes and we apply a Ufunc to them. Numpy appliesa simple check to verify if broadcasting can be done.\n",
    "\n",
    "It runs the following check on each axis, starting from the *largest* indexed axis (i.e. rightmost). \n",
    "\n",
    "Arrays `a` and `b` are *compatible* along axis `i` if either\n",
    "1. `a` or `b` does not have such an axis (i.e. one is lower dimensional),\n",
    "2. the `i`th axis for both arrays has the same size, OR\n",
    "3. at least one of `i`th axes has size $1$."
   ]
  },
  {
   "cell_type": "markdown",
   "metadata": {},
   "source": [
    "If there is some axis that is not compatible, a `Value Error` is raised."
   ]
  },
  {
   "cell_type": "markdown",
   "metadata": {},
   "source": [
    "Assuming everything is compatible, then data is \"copied\" (or broadcasted) to either missing axes or to inflate axes of size $1$."
   ]
  },
  {
   "cell_type": "markdown",
   "metadata": {},
   "source": [
    "#### Example of a successful broadcast\n",
    "\n",
    "```text\n",
    "a      (4d array):  8 x 1 x 6 x 1\n",
    "b      (3d array):      7 x 1 x 5\n",
    "Result (4d array):  8 x 7 x 6 x 5\n",
    "```"
   ]
  },
  {
   "cell_type": "code",
   "execution_count": null,
   "metadata": {},
   "outputs": [],
   "source": [
    "a = np.random.randint(10, size=(8, 1, 6, 1))\n",
    "b = np.random.randint(10, size=(7, 1, 5))\n",
    "result = a * b \n",
    "print(result.shape)"
   ]
  },
  {
   "cell_type": "markdown",
   "metadata": {},
   "source": [
    "#### Example of an UNsuccessful broadcast\n",
    "\n",
    "```text\n",
    "a      (4d array):  8 x 1 x 6 x 1\n",
    "b      (3d array):      7 x 2 x 5\n",
    "Result           :   Value Error!\n",
    "```"
   ]
  },
  {
   "cell_type": "code",
   "execution_count": null,
   "metadata": {},
   "outputs": [],
   "source": [
    "# a = np.random.randint(10, size=(8, 1, 6, 1))\n",
    "# b = np.random.randint(10, size=(7, 2, 5))\n",
    "# result = a * b                                  # naughty naughty "
   ]
  },
  {
   "cell_type": "markdown",
   "metadata": {},
   "source": [
    "## Exercises"
   ]
  },
  {
   "cell_type": "markdown",
   "metadata": {},
   "source": [
    "1. Create a $4 \\times 5$ array `x` of random integers between $1$ and $99$. Use broadcasting to add $100$ to each entry to get a new array `y`. What is `y - x`, and does it make sense?\n",
    "2. Create a $1$-dimensional array `a` of $6$ random (real) numbers between $3$ and $42$. Create another $1$-dimensional array `b` of $3$ random (real) numbers between $7$ and $137$.\n",
    "   - What is the shape of `a * b`, or why specifically does it raise an error?\n",
    "   - Reshape `a` to a $3 \\times 1$ array. What is the shape of `a * b`, or why specifically does it raise an error?\n",
    "   - Reshape `b` to a $2\\times 3\\times 1$ array. What is the shape of `a * b`, or why specifically does it raise an error?\n",
    "3. Create a $3\\times 2\\times 4$ array `x`, a $2\\times 4$ array `y`, and an array of size $4$ `z`.\n",
    "   - Apply Ufuncs directly to `x`, `y`, and `z` to obtain new arrays, so that broadcasting occurs.\n",
    "   - Redo the same computations with a different set of arrays so that *no broadcasting occurs*."
   ]
  }
 ],
 "metadata": {
  "kernelspec": {
   "display_name": "Python 3",
   "language": "python",
   "name": "python3"
  },
  "language_info": {
   "codemirror_mode": {
    "name": "ipython",
    "version": 3
   },
   "file_extension": ".py",
   "mimetype": "text/x-python",
   "name": "python",
   "nbconvert_exporter": "python",
   "pygments_lexer": "ipython3",
   "version": "3.12.1"
  }
 },
 "nbformat": 4,
 "nbformat_minor": 2
}
