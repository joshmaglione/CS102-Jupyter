{
 "cells": [
  {
   "cell_type": "markdown",
   "metadata": {},
   "source": [
    "[![Binder](https://mybinder.org/badge_logo.svg)](https://mybinder.org/v2/gh/joshmaglione/CS102-Jupyter/main?labpath=.%2FWeek06.ipynb) \n",
    "\n",
    "<a href=\"https://colab.research.google.com/github/joshmaglione/CS102-Jupyter/blob/main/Week06.ipynb\"><img src=\"https://colab.research.google.com/assets/colab-badge.svg\" alt=\"Open In Colab\"/></a> \n",
    "\n",
    "[View on GitHub](https://github.com/joshmaglione/CS102-Jupyter/blob/main/Week06.ipynb)"
   ]
  },
  {
   "cell_type": "markdown",
   "metadata": {},
   "source": [
    "# Week 6: `pandas` Objects"
   ]
  },
  {
   "cell_type": "markdown",
   "metadata": {},
   "source": [
    "![](imgs/Pandas.png)"
   ]
  },
  {
   "cell_type": "markdown",
   "metadata": {},
   "source": [
    "We are talking more about data wrangling now.\n",
    "\n",
    "The package `pandas` is *ubiquitous* in data science and machine learning.\n",
    "\n",
    "It's a simple package and built on top of `NumPy`."
   ]
  },
  {
   "cell_type": "markdown",
   "metadata": {},
   "source": [
    "Everything we have learned with `NumPy` applies to `pandas`."
   ]
  },
  {
   "cell_type": "markdown",
   "metadata": {},
   "source": [
    "I view `pandas` as a 'data science enhancement' of `NumPy`. \n",
    "\n",
    "`pandas` offers tremendous flexibility and convenience in the form of robust methods."
   ]
  },
  {
   "cell_type": "markdown",
   "metadata": {},
   "source": [
    "The **core objects** are the\n",
    "- Series\n",
    "- DataFrame\n",
    "- Indexer"
   ]
  },
  {
   "cell_type": "code",
   "execution_count": 1,
   "metadata": {},
   "outputs": [],
   "source": [
    "import numpy as np\n",
    "import pandas as pd"
   ]
  },
  {
   "cell_type": "markdown",
   "metadata": {},
   "source": [
    "## Series"
   ]
  },
  {
   "cell_type": "markdown",
   "metadata": {},
   "source": [
    "A `pandas` Series is an `ndarray` with labels. "
   ]
  },
  {
   "cell_type": "markdown",
   "metadata": {},
   "source": [
    "Here's an example without explicit labels."
   ]
  },
  {
   "cell_type": "code",
   "execution_count": 2,
   "metadata": {},
   "outputs": [
    {
     "data": {
      "text/plain": [
       "0    0.463198\n",
       "1    0.651114\n",
       "2    0.910421\n",
       "3    0.591982\n",
       "4    0.760952\n",
       "5    0.440205\n",
       "6    0.956933\n",
       "7    0.886521\n",
       "8    0.915643\n",
       "9    0.606886\n",
       "dtype: float64"
      ]
     },
     "execution_count": 2,
     "metadata": {},
     "output_type": "execute_result"
    }
   ],
   "source": [
    "a = np.random.random_sample(10)\n",
    "ser = pd.Series(a)\n",
    "ser"
   ]
  },
  {
   "cell_type": "markdown",
   "metadata": {},
   "source": [
    "Let's provide explicit labels using the `index` keyword argument."
   ]
  },
  {
   "cell_type": "code",
   "execution_count": 3,
   "metadata": {},
   "outputs": [
    {
     "data": {
      "text/plain": [
       "x0    0.463198\n",
       "x1    0.651114\n",
       "x2    0.910421\n",
       "x3    0.591982\n",
       "x4    0.760952\n",
       "x5    0.440205\n",
       "x6    0.956933\n",
       "x7    0.886521\n",
       "x8    0.915643\n",
       "x9    0.606886\n",
       "dtype: float64"
      ]
     },
     "execution_count": 3,
     "metadata": {},
     "output_type": "execute_result"
    }
   ],
   "source": [
    "ser = pd.Series(a, index=[f\"x{i}\" for i in range(10)])\n",
    "ser"
   ]
  },
  {
   "cell_type": "markdown",
   "metadata": {},
   "source": [
    "You might be tempted to say that a Series is a glorified Python dictionary. \n",
    "\n",
    "This is perhaps somewhat right, but it misses the point.\n",
    "\n",
    "- Firstly, labels need not be unique, which is already different from dictionaries.\n",
    "\n",
    "- Secondly, a type is more than its primitives. The functions and methods are truly time saving."
   ]
  },
  {
   "cell_type": "code",
   "execution_count": 4,
   "metadata": {},
   "outputs": [
    {
     "data": {
      "text/plain": [
       "Index(['x0', 'x1', 'x2', 'x3', 'x4', 'x5', 'x6', 'x7', 'x8', 'x9'], dtype='object')"
      ]
     },
     "execution_count": 4,
     "metadata": {},
     "output_type": "execute_result"
    }
   ],
   "source": [
    "ser.index"
   ]
  },
  {
   "cell_type": "markdown",
   "metadata": {},
   "source": [
    "You can (still) access the entries of a Series by its explicit index *or its implict index*."
   ]
  },
  {
   "cell_type": "code",
   "execution_count": 5,
   "metadata": {},
   "outputs": [
    {
     "name": "stdout",
     "output_type": "stream",
     "text": [
      "0.44020507436331324\n",
      "0.44020507436331324\n"
     ]
    },
    {
     "name": "stderr",
     "output_type": "stream",
     "text": [
      "/var/folders/yx/6xxgqk752rx1t36vzf7hncrm0000gn/T/ipykernel_745/1294366834.py:2: FutureWarning: Series.__getitem__ treating keys as positions is deprecated. In a future version, integer keys will always be treated as labels (consistent with DataFrame behavior). To access a value by position, use `ser.iloc[pos]`\n",
      "  print(ser[5])          # deprecated\n"
     ]
    }
   ],
   "source": [
    "print(ser['x5'])\n",
    "print(ser[5])          # deprecated"
   ]
  },
  {
   "cell_type": "markdown",
   "metadata": {},
   "source": [
    "This however can cause confusion when the explicit indices are also integers. \n",
    "\n",
    "We will say more about this when we get to the Index object."
   ]
  },
  {
   "cell_type": "markdown",
   "metadata": {},
   "source": [
    "### Basic operations on Series"
   ]
  },
  {
   "cell_type": "markdown",
   "metadata": {},
   "source": [
    "You can create a Series from a dictionary.\n",
    "\n",
    "The following comes from [2022 census data](https://visual.cso.ie/?body=entity/ima/cop/2022). (Full csv files in `data/`.)"
   ]
  },
  {
   "cell_type": "code",
   "execution_count": 6,
   "metadata": {},
   "outputs": [
    {
     "name": "stdout",
     "output_type": "stream",
     "text": [
      "Cork      360152\n",
      "Dublin    592713\n",
      "Fingal    330506\n",
      "Galway    193323\n",
      "Sligo      70198\n",
      "dtype: int64\n"
     ]
    }
   ],
   "source": [
    "pops = pd.Series({\n",
    "    \"Cork\": 360152,\n",
    "    \"Dublin\": 592713,\n",
    "    \"Fingal\": 330506,\n",
    "    \"Galway\": 193323,\n",
    "    \"Sligo\": 70198\n",
    "})\n",
    "print(pops)"
   ]
  },
  {
   "cell_type": "markdown",
   "metadata": {},
   "source": [
    "As mentioned before, one can think of a Series as an enhanced dictionary.\n",
    "\n",
    "You can do similar sorts of operations."
   ]
  },
  {
   "cell_type": "code",
   "execution_count": 7,
   "metadata": {},
   "outputs": [
    {
     "name": "stdout",
     "output_type": "stream",
     "text": [
      "Index(['Cork', 'Dublin', 'Fingal', 'Galway', 'Sligo'], dtype='object')\n",
      "[('Cork', 360152), ('Dublin', 592713), ('Fingal', 330506), ('Galway', 193323), ('Sligo', 70198)]\n"
     ]
    }
   ],
   "source": [
    "print(pops.keys())\n",
    "print(list(pops.items()))"
   ]
  },
  {
   "cell_type": "code",
   "execution_count": 8,
   "metadata": {},
   "outputs": [
    {
     "data": {
      "text/plain": [
       "193323"
      ]
     },
     "execution_count": 8,
     "metadata": {},
     "output_type": "execute_result"
    }
   ],
   "source": [
    "pops[\"Galway\"]"
   ]
  },
  {
   "cell_type": "markdown",
   "metadata": {},
   "source": [
    "#### Indexing and beyond"
   ]
  },
  {
   "cell_type": "markdown",
   "metadata": {},
   "source": [
    "It might be helpful to think of Series as a $1$-dimensional `ndarray` to start."
   ]
  },
  {
   "cell_type": "code",
   "execution_count": 9,
   "metadata": {},
   "outputs": [
    {
     "data": {
      "text/plain": [
       "Dublin    592713\n",
       "Fingal    330506\n",
       "Galway    193323\n",
       "dtype: int64"
      ]
     },
     "execution_count": 9,
     "metadata": {},
     "output_type": "execute_result"
    }
   ],
   "source": [
    "pops['Dublin':'Galway']"
   ]
  },
  {
   "cell_type": "markdown",
   "metadata": {},
   "source": [
    "Notice the change in slicing convention. We eneded at our ending value `Galway`."
   ]
  },
  {
   "cell_type": "markdown",
   "metadata": {},
   "source": [
    "We can slice with the implict indices, and that follows the Python convention."
   ]
  },
  {
   "cell_type": "code",
   "execution_count": 10,
   "metadata": {},
   "outputs": [
    {
     "data": {
      "text/plain": [
       "Dublin    592713\n",
       "Fingal    330506\n",
       "dtype: int64"
      ]
     },
     "execution_count": 10,
     "metadata": {},
     "output_type": "execute_result"
    }
   ],
   "source": [
    "pops[1:3]"
   ]
  },
  {
   "cell_type": "markdown",
   "metadata": {},
   "source": [
    "You can apply techniques like masking and advanced indexing to Series in much of the same way.\n",
    "\n",
    "(In fact I did this for you in Week05 with the running rainfall example!)\n",
    "\n",
    "Try applying masking and advanced indexing yourself."
   ]
  },
  {
   "cell_type": "markdown",
   "metadata": {},
   "source": [
    "#### `loc` and `iloc`"
   ]
  },
  {
   "cell_type": "markdown",
   "metadata": {},
   "source": [
    "It's good practice to be explicit.\n",
    "\n",
    "Instead of indexing and slicing via `pops[...]`, use\n",
    "- `loc`\n",
    "- `iloc`"
   ]
  },
  {
   "cell_type": "code",
   "execution_count": 11,
   "metadata": {},
   "outputs": [
    {
     "data": {
      "text/plain": [
       "193323"
      ]
     },
     "execution_count": 11,
     "metadata": {},
     "output_type": "execute_result"
    }
   ],
   "source": [
    "pops.loc[\"Galway\"]"
   ]
  },
  {
   "cell_type": "code",
   "execution_count": 12,
   "metadata": {},
   "outputs": [
    {
     "data": {
      "text/plain": [
       "193323"
      ]
     },
     "execution_count": 12,
     "metadata": {},
     "output_type": "execute_result"
    }
   ],
   "source": [
    "pops.iloc[3]"
   ]
  },
  {
   "cell_type": "markdown",
   "metadata": {},
   "source": [
    "A helpful nmemonic to help remember:\n",
    "- `loc` and label both start with L\n",
    "- `iloc` and implicit both start with I."
   ]
  },
  {
   "cell_type": "markdown",
   "metadata": {},
   "source": [
    "## DataFrame"
   ]
  },
  {
   "cell_type": "markdown",
   "metadata": {},
   "source": [
    "The DataFrame object is the primary `pandas` object."
   ]
  },
  {
   "cell_type": "markdown",
   "metadata": {},
   "source": [
    "These are $2$-dimensional analogs of the Series object.\n",
    "\n",
    "They describe tabulated data (e.g. Excel sheets and `csv` files)."
   ]
  },
  {
   "cell_type": "markdown",
   "metadata": {},
   "source": [
    "### Creating a DataFrame"
   ]
  },
  {
   "cell_type": "markdown",
   "metadata": {},
   "source": [
    "Common way to build a DataFrame by hand is through a dictionary."
   ]
  },
  {
   "cell_type": "code",
   "execution_count": 13,
   "metadata": {},
   "outputs": [
    {
     "data": {
      "text/html": [
       "<div>\n",
       "<style scoped>\n",
       "    .dataframe tbody tr th:only-of-type {\n",
       "        vertical-align: middle;\n",
       "    }\n",
       "\n",
       "    .dataframe tbody tr th {\n",
       "        vertical-align: top;\n",
       "    }\n",
       "\n",
       "    .dataframe thead th {\n",
       "        text-align: right;\n",
       "    }\n",
       "</style>\n",
       "<table border=\"1\" class=\"dataframe\">\n",
       "  <thead>\n",
       "    <tr style=\"text-align: right;\">\n",
       "      <th></th>\n",
       "      <th>Population</th>\n",
       "      <th>No cars</th>\n",
       "      <th>One car</th>\n",
       "      <th>Two cars</th>\n",
       "      <th>Three cars</th>\n",
       "      <th>Four or more cars</th>\n",
       "    </tr>\n",
       "  </thead>\n",
       "  <tbody>\n",
       "    <tr>\n",
       "      <th>Cork</th>\n",
       "      <td>360152</td>\n",
       "      <td>10335</td>\n",
       "      <td>44419</td>\n",
       "      <td>50310</td>\n",
       "      <td>11243</td>\n",
       "      <td>4908</td>\n",
       "    </tr>\n",
       "    <tr>\n",
       "      <th>Dublin</th>\n",
       "      <td>592713</td>\n",
       "      <td>69661</td>\n",
       "      <td>84685</td>\n",
       "      <td>34861</td>\n",
       "      <td>6129</td>\n",
       "      <td>1736</td>\n",
       "    </tr>\n",
       "    <tr>\n",
       "      <th>Fingal</th>\n",
       "      <td>330506</td>\n",
       "      <td>10371</td>\n",
       "      <td>44495</td>\n",
       "      <td>36562</td>\n",
       "      <td>6368</td>\n",
       "      <td>1933</td>\n",
       "    </tr>\n",
       "    <tr>\n",
       "      <th>Galway</th>\n",
       "      <td>193323</td>\n",
       "      <td>5033</td>\n",
       "      <td>23406</td>\n",
       "      <td>27542</td>\n",
       "      <td>5593</td>\n",
       "      <td>2291</td>\n",
       "    </tr>\n",
       "    <tr>\n",
       "      <th>Sligo</th>\n",
       "      <td>70198</td>\n",
       "      <td>3350</td>\n",
       "      <td>10422</td>\n",
       "      <td>9055</td>\n",
       "      <td>1676</td>\n",
       "      <td>567</td>\n",
       "    </tr>\n",
       "  </tbody>\n",
       "</table>\n",
       "</div>"
      ],
      "text/plain": [
       "        Population  No cars  One car  Two cars  Three cars  Four or more cars\n",
       "Cork        360152    10335    44419     50310       11243               4908\n",
       "Dublin      592713    69661    84685     34861        6129               1736\n",
       "Fingal      330506    10371    44495     36562        6368               1933\n",
       "Galway      193323     5033    23406     27542        5593               2291\n",
       "Sligo        70198     3350    10422      9055        1676                567"
      ]
     },
     "execution_count": 13,
     "metadata": {},
     "output_type": "execute_result"
    }
   ],
   "source": [
    "df = pd.DataFrame({\n",
    "    \"Population\": [360152, 592713, 330506, 193323, 70198],\n",
    "    \"No cars\": [10335, 69661, 10371, 5033, 3350],\n",
    "    \"One car\": [44419, 84685, 44495, 23406, 10422],\n",
    "    \"Two cars\": [50310, 34861, 36562, 27542, 9055],\n",
    "    \"Three cars\": [11243, 6129, 6368, 5593, 1676],\n",
    "    \"Four or more cars\": [4908, 1736, 1933, 2291, 567],\n",
    "}, index=[\"Cork\", \"Dublin\", \"Fingal\", \"Galway\", \"Sligo\"])\n",
    "df"
   ]
  },
  {
   "cell_type": "markdown",
   "metadata": {},
   "source": [
    "If no `index` is given, integers are used starting from $0$."
   ]
  },
  {
   "cell_type": "code",
   "execution_count": 14,
   "metadata": {},
   "outputs": [
    {
     "data": {
      "text/plain": [
       "Index(['Cork', 'Dublin', 'Fingal', 'Galway', 'Sligo'], dtype='object')"
      ]
     },
     "execution_count": 14,
     "metadata": {},
     "output_type": "execute_result"
    }
   ],
   "source": [
    "df.index"
   ]
  },
  {
   "cell_type": "code",
   "execution_count": 15,
   "metadata": {},
   "outputs": [
    {
     "data": {
      "text/plain": [
       "Index(['Population', 'No cars', 'One car', 'Two cars', 'Three cars',\n",
       "       'Four or more cars'],\n",
       "      dtype='object')"
      ]
     },
     "execution_count": 15,
     "metadata": {},
     "output_type": "execute_result"
    }
   ],
   "source": [
    "df.columns"
   ]
  },
  {
   "cell_type": "markdown",
   "metadata": {},
   "source": [
    "- If `a` is a $2$-dimensional `ndarray`, then `a[i]` is the $i^{th}$ row.\n",
    "  \n",
    "- If `df` is a DataFrame, then `df['col-val']` is the column corresponding to `'col-val'` (as a Series)\n",
    "  \n",
    "- If you want the row(s) corresponding the explicit index `'label'` or implicit index `i`:\n",
    "  - `df.loc['label']`\n",
    "  - `df.iloc[i]`"
   ]
  },
  {
   "cell_type": "code",
   "execution_count": 16,
   "metadata": {},
   "outputs": [
    {
     "data": {
      "text/plain": [
       "Cork      360152\n",
       "Dublin    592713\n",
       "Fingal    330506\n",
       "Galway    193323\n",
       "Sligo      70198\n",
       "Name: Population, dtype: int64"
      ]
     },
     "execution_count": 16,
     "metadata": {},
     "output_type": "execute_result"
    }
   ],
   "source": [
    "df[\"Population\"]"
   ]
  },
  {
   "cell_type": "code",
   "execution_count": 17,
   "metadata": {},
   "outputs": [
    {
     "data": {
      "text/plain": [
       "Population           193323\n",
       "No cars                5033\n",
       "One car               23406\n",
       "Two cars              27542\n",
       "Three cars             5593\n",
       "Four or more cars      2291\n",
       "Name: Galway, dtype: int64"
      ]
     },
     "execution_count": 17,
     "metadata": {},
     "output_type": "execute_result"
    }
   ],
   "source": [
    "df.loc[\"Galway\"]"
   ]
  },
  {
   "cell_type": "code",
   "execution_count": 18,
   "metadata": {},
   "outputs": [
    {
     "data": {
      "text/plain": [
       "'Cork'"
      ]
     },
     "execution_count": 18,
     "metadata": {},
     "output_type": "execute_result"
    }
   ],
   "source": [
    "df.iloc[0].name"
   ]
  },
  {
   "cell_type": "markdown",
   "metadata": {},
   "source": [
    "Column values that are strings grow up to become attributes of the DataFrame."
   ]
  },
  {
   "cell_type": "code",
   "execution_count": 19,
   "metadata": {},
   "outputs": [
    {
     "data": {
      "text/plain": [
       "Cork      360152\n",
       "Dublin    592713\n",
       "Fingal    330506\n",
       "Galway    193323\n",
       "Sligo      70198\n",
       "Name: Population, dtype: int64"
      ]
     },
     "execution_count": 19,
     "metadata": {},
     "output_type": "execute_result"
    }
   ],
   "source": [
    "df.Population"
   ]
  },
  {
   "cell_type": "markdown",
   "metadata": {},
   "source": [
    "We can easily add a new column of data"
   ]
  },
  {
   "cell_type": "code",
   "execution_count": 20,
   "metadata": {},
   "outputs": [
    {
     "data": {
      "text/html": [
       "<div>\n",
       "<style scoped>\n",
       "    .dataframe tbody tr th:only-of-type {\n",
       "        vertical-align: middle;\n",
       "    }\n",
       "\n",
       "    .dataframe tbody tr th {\n",
       "        vertical-align: top;\n",
       "    }\n",
       "\n",
       "    .dataframe thead th {\n",
       "        text-align: right;\n",
       "    }\n",
       "</style>\n",
       "<table border=\"1\" class=\"dataframe\">\n",
       "  <thead>\n",
       "    <tr style=\"text-align: right;\">\n",
       "      <th></th>\n",
       "      <th>Population</th>\n",
       "      <th>No cars</th>\n",
       "      <th>One car</th>\n",
       "      <th>Two cars</th>\n",
       "      <th>Three cars</th>\n",
       "      <th>Four or more cars</th>\n",
       "      <th>Households</th>\n",
       "    </tr>\n",
       "  </thead>\n",
       "  <tbody>\n",
       "    <tr>\n",
       "      <th>Cork</th>\n",
       "      <td>360152</td>\n",
       "      <td>10335</td>\n",
       "      <td>44419</td>\n",
       "      <td>50310</td>\n",
       "      <td>11243</td>\n",
       "      <td>4908</td>\n",
       "      <td>121215</td>\n",
       "    </tr>\n",
       "    <tr>\n",
       "      <th>Dublin</th>\n",
       "      <td>592713</td>\n",
       "      <td>69661</td>\n",
       "      <td>84685</td>\n",
       "      <td>34861</td>\n",
       "      <td>6129</td>\n",
       "      <td>1736</td>\n",
       "      <td>197072</td>\n",
       "    </tr>\n",
       "    <tr>\n",
       "      <th>Fingal</th>\n",
       "      <td>330506</td>\n",
       "      <td>10371</td>\n",
       "      <td>44495</td>\n",
       "      <td>36562</td>\n",
       "      <td>6368</td>\n",
       "      <td>1933</td>\n",
       "      <td>99729</td>\n",
       "    </tr>\n",
       "    <tr>\n",
       "      <th>Galway</th>\n",
       "      <td>193323</td>\n",
       "      <td>5033</td>\n",
       "      <td>23406</td>\n",
       "      <td>27542</td>\n",
       "      <td>5593</td>\n",
       "      <td>2291</td>\n",
       "      <td>63865</td>\n",
       "    </tr>\n",
       "    <tr>\n",
       "      <th>Sligo</th>\n",
       "      <td>70198</td>\n",
       "      <td>3350</td>\n",
       "      <td>10422</td>\n",
       "      <td>9055</td>\n",
       "      <td>1676</td>\n",
       "      <td>567</td>\n",
       "      <td>25070</td>\n",
       "    </tr>\n",
       "  </tbody>\n",
       "</table>\n",
       "</div>"
      ],
      "text/plain": [
       "        Population  No cars  One car  Two cars  Three cars  Four or more cars  \\\n",
       "Cork        360152    10335    44419     50310       11243               4908   \n",
       "Dublin      592713    69661    84685     34861        6129               1736   \n",
       "Fingal      330506    10371    44495     36562        6368               1933   \n",
       "Galway      193323     5033    23406     27542        5593               2291   \n",
       "Sligo        70198     3350    10422      9055        1676                567   \n",
       "\n",
       "        Households  \n",
       "Cork        121215  \n",
       "Dublin      197072  \n",
       "Fingal       99729  \n",
       "Galway       63865  \n",
       "Sligo        25070  "
      ]
     },
     "execution_count": 20,
     "metadata": {},
     "output_type": "execute_result"
    }
   ],
   "source": [
    "# So we don't keep adding to the total if we run this cell more than once.\n",
    "if not \"Households\" in df.columns.values:\n",
    "    df[\"Households\"] = np.sum(df.drop(\"Population\", axis=1), axis=1)\n",
    "df"
   ]
  },
  {
   "cell_type": "markdown",
   "metadata": {},
   "source": [
    "Now we can convert the columns to percentages to make it easier to understand."
   ]
  },
  {
   "cell_type": "code",
   "execution_count": 21,
   "metadata": {},
   "outputs": [],
   "source": [
    "if not \"%\" in df.columns.values[1]:\n",
    "    for col in [c for c in df.columns.values if \"car\" in c]:\n",
    "        df[col + \" (%)\"] = df[col] / df[\"Households\"] * 100\n",
    "        df = df.drop([col], axis=1)"
   ]
  },
  {
   "cell_type": "code",
   "execution_count": 22,
   "metadata": {},
   "outputs": [
    {
     "data": {
      "text/html": [
       "<div>\n",
       "<style scoped>\n",
       "    .dataframe tbody tr th:only-of-type {\n",
       "        vertical-align: middle;\n",
       "    }\n",
       "\n",
       "    .dataframe tbody tr th {\n",
       "        vertical-align: top;\n",
       "    }\n",
       "\n",
       "    .dataframe thead th {\n",
       "        text-align: right;\n",
       "    }\n",
       "</style>\n",
       "<table border=\"1\" class=\"dataframe\">\n",
       "  <thead>\n",
       "    <tr style=\"text-align: right;\">\n",
       "      <th></th>\n",
       "      <th>Population</th>\n",
       "      <th>Households</th>\n",
       "      <th>No cars (%)</th>\n",
       "      <th>One car (%)</th>\n",
       "      <th>Two cars (%)</th>\n",
       "      <th>Three cars (%)</th>\n",
       "      <th>Four or more cars (%)</th>\n",
       "    </tr>\n",
       "  </thead>\n",
       "  <tbody>\n",
       "    <tr>\n",
       "      <th>Cork</th>\n",
       "      <td>360152</td>\n",
       "      <td>121215</td>\n",
       "      <td>8.526173</td>\n",
       "      <td>36.644805</td>\n",
       "      <td>41.504764</td>\n",
       "      <td>9.275255</td>\n",
       "      <td>4.049004</td>\n",
       "    </tr>\n",
       "    <tr>\n",
       "      <th>Dublin</th>\n",
       "      <td>592713</td>\n",
       "      <td>197072</td>\n",
       "      <td>35.347995</td>\n",
       "      <td>42.971604</td>\n",
       "      <td>17.689474</td>\n",
       "      <td>3.110031</td>\n",
       "      <td>0.880896</td>\n",
       "    </tr>\n",
       "    <tr>\n",
       "      <th>Fingal</th>\n",
       "      <td>330506</td>\n",
       "      <td>99729</td>\n",
       "      <td>10.399182</td>\n",
       "      <td>44.615909</td>\n",
       "      <td>36.661352</td>\n",
       "      <td>6.385304</td>\n",
       "      <td>1.938253</td>\n",
       "    </tr>\n",
       "    <tr>\n",
       "      <th>Galway</th>\n",
       "      <td>193323</td>\n",
       "      <td>63865</td>\n",
       "      <td>7.880686</td>\n",
       "      <td>36.649182</td>\n",
       "      <td>43.125343</td>\n",
       "      <td>8.757535</td>\n",
       "      <td>3.587254</td>\n",
       "    </tr>\n",
       "    <tr>\n",
       "      <th>Sligo</th>\n",
       "      <td>70198</td>\n",
       "      <td>25070</td>\n",
       "      <td>13.362585</td>\n",
       "      <td>41.571600</td>\n",
       "      <td>36.118867</td>\n",
       "      <td>6.685281</td>\n",
       "      <td>2.261667</td>\n",
       "    </tr>\n",
       "  </tbody>\n",
       "</table>\n",
       "</div>"
      ],
      "text/plain": [
       "        Population  Households  No cars (%)  One car (%)  Two cars (%)  \\\n",
       "Cork        360152      121215     8.526173    36.644805     41.504764   \n",
       "Dublin      592713      197072    35.347995    42.971604     17.689474   \n",
       "Fingal      330506       99729    10.399182    44.615909     36.661352   \n",
       "Galway      193323       63865     7.880686    36.649182     43.125343   \n",
       "Sligo        70198       25070    13.362585    41.571600     36.118867   \n",
       "\n",
       "        Three cars (%)  Four or more cars (%)  \n",
       "Cork          9.275255               4.049004  \n",
       "Dublin        3.110031               0.880896  \n",
       "Fingal        6.385304               1.938253  \n",
       "Galway        8.757535               3.587254  \n",
       "Sligo         6.685281               2.261667  "
      ]
     },
     "execution_count": 22,
     "metadata": {},
     "output_type": "execute_result"
    }
   ],
   "source": [
    "df"
   ]
  },
  {
   "cell_type": "markdown",
   "metadata": {},
   "source": [
    "We take what we know about indexing with NumPy together with how Series in pandas works:\n",
    "\n",
    "Now you know what to expect when indexing with DataFrames."
   ]
  },
  {
   "cell_type": "markdown",
   "metadata": {},
   "source": [
    "### Other ways to build DataFrames"
   ]
  },
  {
   "cell_type": "markdown",
   "metadata": {},
   "source": [
    "Rarely does one *type* a DataFrame via a dictionary. \n",
    "\n",
    "(This is so unreliable that it might be outright banned at some companies.)"
   ]
  },
  {
   "cell_type": "markdown",
   "metadata": {},
   "source": [
    "Thankfull there are standard methods to get you DataFrames from files."
   ]
  },
  {
   "cell_type": "markdown",
   "metadata": {},
   "source": [
    "#### CSVs"
   ]
  },
  {
   "cell_type": "markdown",
   "metadata": {},
   "source": [
    "`csv` files are a common standard with data. \n",
    "\n",
    "Let's read in `data/Populations2022.csv` directly."
   ]
  },
  {
   "cell_type": "code",
   "execution_count": 23,
   "metadata": {},
   "outputs": [],
   "source": [
    "df_pop = pd.read_csv(\"data/Populations2022.csv\")"
   ]
  },
  {
   "cell_type": "markdown",
   "metadata": {},
   "source": [
    "Often one does not want to print out the *entire* DataFrame. Use `head` for sanity checking."
   ]
  },
  {
   "cell_type": "code",
   "execution_count": 24,
   "metadata": {},
   "outputs": [
    {
     "data": {
      "text/html": [
       "<div>\n",
       "<style scoped>\n",
       "    .dataframe tbody tr th:only-of-type {\n",
       "        vertical-align: middle;\n",
       "    }\n",
       "\n",
       "    .dataframe tbody tr th {\n",
       "        vertical-align: top;\n",
       "    }\n",
       "\n",
       "    .dataframe thead th {\n",
       "        text-align: right;\n",
       "    }\n",
       "</style>\n",
       "<table border=\"1\" class=\"dataframe\">\n",
       "  <thead>\n",
       "    <tr style=\"text-align: right;\">\n",
       "      <th></th>\n",
       "      <th>Statistic Label</th>\n",
       "      <th>Census Year</th>\n",
       "      <th>Administrative Counties 2019</th>\n",
       "      <th>Age</th>\n",
       "      <th>Sex</th>\n",
       "      <th>UNIT</th>\n",
       "      <th>VALUE</th>\n",
       "    </tr>\n",
       "  </thead>\n",
       "  <tbody>\n",
       "    <tr>\n",
       "      <th>0</th>\n",
       "      <td>Population</td>\n",
       "      <td>2022</td>\n",
       "      <td>Carlow County Council</td>\n",
       "      <td>Total</td>\n",
       "      <td>Both Sexes</td>\n",
       "      <td>Number</td>\n",
       "      <td>61968</td>\n",
       "    </tr>\n",
       "    <tr>\n",
       "      <th>1</th>\n",
       "      <td>Population</td>\n",
       "      <td>2022</td>\n",
       "      <td>Dublin City Council</td>\n",
       "      <td>Total</td>\n",
       "      <td>Both Sexes</td>\n",
       "      <td>Number</td>\n",
       "      <td>592713</td>\n",
       "    </tr>\n",
       "    <tr>\n",
       "      <th>2</th>\n",
       "      <td>Population</td>\n",
       "      <td>2022</td>\n",
       "      <td>Dún Laoghaire Rathdown County Council</td>\n",
       "      <td>Total</td>\n",
       "      <td>Both Sexes</td>\n",
       "      <td>Number</td>\n",
       "      <td>233860</td>\n",
       "    </tr>\n",
       "    <tr>\n",
       "      <th>3</th>\n",
       "      <td>Population</td>\n",
       "      <td>2022</td>\n",
       "      <td>Fingal County Council</td>\n",
       "      <td>Total</td>\n",
       "      <td>Both Sexes</td>\n",
       "      <td>Number</td>\n",
       "      <td>330506</td>\n",
       "    </tr>\n",
       "    <tr>\n",
       "      <th>4</th>\n",
       "      <td>Population</td>\n",
       "      <td>2022</td>\n",
       "      <td>South Dublin County Council</td>\n",
       "      <td>Total</td>\n",
       "      <td>Both Sexes</td>\n",
       "      <td>Number</td>\n",
       "      <td>301075</td>\n",
       "    </tr>\n",
       "  </tbody>\n",
       "</table>\n",
       "</div>"
      ],
      "text/plain": [
       "  Statistic Label  Census Year           Administrative Counties 2019    Age  \\\n",
       "0      Population         2022                  Carlow County Council  Total   \n",
       "1      Population         2022                    Dublin City Council  Total   \n",
       "2      Population         2022  Dún Laoghaire Rathdown County Council  Total   \n",
       "3      Population         2022                  Fingal County Council  Total   \n",
       "4      Population         2022            South Dublin County Council  Total   \n",
       "\n",
       "          Sex    UNIT   VALUE  \n",
       "0  Both Sexes  Number   61968  \n",
       "1  Both Sexes  Number  592713  \n",
       "2  Both Sexes  Number  233860  \n",
       "3  Both Sexes  Number  330506  \n",
       "4  Both Sexes  Number  301075  "
      ]
     },
     "execution_count": 24,
     "metadata": {},
     "output_type": "execute_result"
    }
   ],
   "source": [
    "df_pop.head()"
   ]
  },
  {
   "cell_type": "markdown",
   "metadata": {},
   "source": [
    "#### Excel files (e.g. `xls` and `xlsx`)"
   ]
  },
  {
   "cell_type": "markdown",
   "metadata": {},
   "source": [
    "I don't have and files of this type, but it works the same way as our `csv` example."
   ]
  },
  {
   "cell_type": "markdown",
   "metadata": {},
   "source": [
    "#### Many more!"
   ]
  },
  {
   "cell_type": "markdown",
   "metadata": {},
   "source": [
    "At this point, type `pd.read` and hit tab so that Jupyter shows the possibilities. \n",
    "\n",
    "`pandas` can read. A lot."
   ]
  },
  {
   "cell_type": "code",
   "execution_count": 25,
   "metadata": {},
   "outputs": [],
   "source": [
    "# pd.read"
   ]
  },
  {
   "cell_type": "markdown",
   "metadata": {},
   "source": [
    "## Index Object"
   ]
  },
  {
   "cell_type": "markdown",
   "metadata": {},
   "source": [
    "Both Series and DataFrame come with an Index object. We've already seen it in the wild."
   ]
  },
  {
   "cell_type": "code",
   "execution_count": 26,
   "metadata": {},
   "outputs": [
    {
     "data": {
      "text/plain": [
       "Index(['Cork', 'Dublin', 'Fingal', 'Galway', 'Sligo'], dtype='object')"
      ]
     },
     "execution_count": 26,
     "metadata": {},
     "output_type": "execute_result"
    }
   ],
   "source": [
    "df.index"
   ]
  },
  {
   "cell_type": "markdown",
   "metadata": {},
   "source": [
    "One can think of the Index object as an immutable array.\n",
    "\n",
    "Index has many attributes of a numpy array."
   ]
  },
  {
   "cell_type": "code",
   "execution_count": 27,
   "metadata": {},
   "outputs": [
    {
     "name": "stdout",
     "output_type": "stream",
     "text": [
      "(5,) 5 1 object\n"
     ]
    }
   ],
   "source": [
    "ind = df.index \n",
    "print(ind.shape, ind.size, ind.ndim, ind.dtype)"
   ]
  },
  {
   "cell_type": "markdown",
   "metadata": {},
   "source": [
    "But the array is immutable..."
   ]
  },
  {
   "cell_type": "code",
   "execution_count": 28,
   "metadata": {},
   "outputs": [],
   "source": [
    "# ind[0] = 'Not Cork'           # naughty naughty"
   ]
  },
  {
   "cell_type": "markdown",
   "metadata": {},
   "source": [
    "One can also think of Index as an ordered multiset. \n",
    "\n",
    "Or in other words, it also has set-theoretic operations."
   ]
  },
  {
   "cell_type": "code",
   "execution_count": 29,
   "metadata": {},
   "outputs": [
    {
     "name": "stdout",
     "output_type": "stream",
     "text": [
      "Index([0, 2, 4, 6, 8, 10, 12], dtype='int64')\n",
      "Index([0, 3, 6, 9, 12], dtype='int64')\n"
     ]
    }
   ],
   "source": [
    "ind1 = pd.Index(list(range(0, 13, 2)))\n",
    "ind2 = pd.Index(list(range(0, 13, 3)))\n",
    "print(ind1)\n",
    "print(ind2)"
   ]
  },
  {
   "cell_type": "markdown",
   "metadata": {},
   "source": [
    "We can use the logical operators to do set-theoretic operations."
   ]
  },
  {
   "cell_type": "code",
   "execution_count": 30,
   "metadata": {},
   "outputs": [
    {
     "name": "stdout",
     "output_type": "stream",
     "text": [
      "Index([0, 6, 12], dtype='int64')\n",
      "Index([0, 2, 3, 4, 6, 8, 9, 10, 12], dtype='int64')\n",
      "Index([2, 3, 4, 8, 9, 10], dtype='int64')\n"
     ]
    }
   ],
   "source": [
    "print(ind1.intersection(ind2))\n",
    "print(ind1.union(ind2))\n",
    "print(ind1.symmetric_difference(ind2))"
   ]
  },
  {
   "cell_type": "markdown",
   "metadata": {},
   "source": [
    "## Exercises"
   ]
  },
  {
   "cell_type": "markdown",
   "metadata": {},
   "source": [
    "1. Load the `IrishLanguage2022.csv` into a DataFrame directly.\n",
    "2. Simplify the DataFrame by creating a new one and doing the following:\n",
    "   - The index should be the \"Administrative Counties 2019\" value.\n",
    "   - Instead of four rows per county, there should be one row. \n",
    "   - The column values should be \n",
    "     - \"Population\" (previously the entry in the \"VALUE\" column in the row with \"Total\").\n",
    "     - \"Can Speak\" the percentage (as a real number between $0$ and $100$) that can speak\n",
    "     - \"Cannot Speak\" the percentage (as a real number between $0$ and $100$) that cannot speak.\n",
    "3. What are the top three counties with the highest population (stating) that can speak Irish per capita?"
   ]
  }
 ],
 "metadata": {
  "kernelspec": {
   "display_name": "Python 3",
   "language": "python",
   "name": "python3"
  },
  "language_info": {
   "codemirror_mode": {
    "name": "ipython",
    "version": 3
   },
   "file_extension": ".py",
   "mimetype": "text/x-python",
   "name": "python",
   "nbconvert_exporter": "python",
   "pygments_lexer": "ipython3",
   "version": "3.12.0"
  }
 },
 "nbformat": 4,
 "nbformat_minor": 2
}
