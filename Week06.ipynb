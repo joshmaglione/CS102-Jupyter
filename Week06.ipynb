{
 "cells": [
  {
   "cell_type": "markdown",
   "metadata": {},
   "source": [
    "[![Binder](https://mybinder.org/badge_logo.svg)](https://mybinder.org/v2/gh/joshmaglione/CS102-Jupyter/main?labpath=.%2FWeek06.ipynb) \n",
    "\n",
    "<a href=\"https://colab.research.google.com/github/joshmaglione/CS102-Jupyter/blob/main/Week06.ipynb\"><img src=\"https://colab.research.google.com/assets/colab-badge.svg\" alt=\"Open In Colab\"/></a> \n",
    "\n",
    "[View on GitHub](https://github.com/joshmaglione/CS102-Jupyter/blob/main/Week06.ipynb)"
   ]
  },
  {
   "cell_type": "markdown",
   "metadata": {},
   "source": [
    "# Week 6: `pandas` Objects"
   ]
  },
  {
   "cell_type": "markdown",
   "metadata": {},
   "source": [
    "![](imgs/Pandas.png)"
   ]
  },
  {
   "cell_type": "markdown",
   "metadata": {},
   "source": [
    "We are talking more about data wrangling now.\n",
    "\n",
    "The package `pandas` is *ubiquitous* in data science and machine learning.\n",
    "\n",
    "It's a simple package and built on top of `NumPy`."
   ]
  },
  {
   "cell_type": "markdown",
   "metadata": {},
   "source": [
    "Everything we have learned with `NumPy` applies to `pandas`."
   ]
  },
  {
   "cell_type": "markdown",
   "metadata": {},
   "source": [
    "I view `pandas` as a 'data science enhancement' of `NumPy`. \n",
    "\n",
    "`pandas` offers tremendous flexibility and convenience in the form of robust methods."
   ]
  },
  {
   "cell_type": "markdown",
   "metadata": {},
   "source": [
    "The **core objects** are the\n",
    "- Series\n",
    "- DataFrame\n",
    "- Indexer"
   ]
  },
  {
   "cell_type": "code",
   "execution_count": null,
   "metadata": {},
   "outputs": [],
   "source": [
    "import numpy as np\n",
    "import pandas as pd"
   ]
  },
  {
   "cell_type": "markdown",
   "metadata": {},
   "source": [
    "## Series"
   ]
  },
  {
   "cell_type": "markdown",
   "metadata": {},
   "source": [
    "A `pandas` Series is an `ndarray` with labels. "
   ]
  },
  {
   "cell_type": "markdown",
   "metadata": {},
   "source": [
    "Here's an example without explicit labels."
   ]
  },
  {
   "cell_type": "code",
   "execution_count": null,
   "metadata": {},
   "outputs": [],
   "source": [
    "a = np.random.random_sample(10)\n",
    "ser = pd.Series(a)\n",
    "ser"
   ]
  },
  {
   "cell_type": "markdown",
   "metadata": {},
   "source": [
    "Let's provide explicit labels using the `index` keyword argument."
   ]
  },
  {
   "cell_type": "code",
   "execution_count": null,
   "metadata": {},
   "outputs": [],
   "source": [
    "ser = pd.Series(a, index=[f\"x{i}\" for i in range(10)])\n",
    "ser"
   ]
  },
  {
   "cell_type": "markdown",
   "metadata": {},
   "source": [
    "You might be tempted to say that a Series is a glorified Python dictionary. \n",
    "\n",
    "This is perhaps somewhat right, but it misses the point.\n",
    "\n",
    "- Firstly, labels need not be unique, which is already different from dictionaries.\n",
    "\n",
    "- Secondly, a type is more than its primitives. The functions and methods are truly time saving."
   ]
  },
  {
   "cell_type": "code",
   "execution_count": null,
   "metadata": {},
   "outputs": [],
   "source": [
    "ser.index"
   ]
  },
  {
   "cell_type": "markdown",
   "metadata": {},
   "source": [
    "You can (still) access the entries of a Series by its explicit index *or its implict index*."
   ]
  },
  {
   "cell_type": "code",
   "execution_count": null,
   "metadata": {},
   "outputs": [],
   "source": [
    "print(ser['x5'])\n",
    "print(ser[5])          # deprecated"
   ]
  },
  {
   "cell_type": "markdown",
   "metadata": {},
   "source": [
    "This however can cause confusion when the explicit indices are also integers. \n",
    "\n",
    "We will say more about this when we get to the Index object."
   ]
  },
  {
   "cell_type": "markdown",
   "metadata": {},
   "source": [
    "### Basic operations on Series"
   ]
  },
  {
   "cell_type": "markdown",
   "metadata": {},
   "source": [
    "You can create a Series from a dictionary.\n",
    "\n",
    "The following comes from [2022 census data](https://visual.cso.ie/?body=entity/ima/cop/2022). (Full csv files in `data/`.)"
   ]
  },
  {
   "cell_type": "code",
   "execution_count": null,
   "metadata": {},
   "outputs": [],
   "source": [
    "pops = pd.Series({\n",
    "    \"Cork\": 360152,\n",
    "    \"Dublin\": 592713,\n",
    "    \"Fingal\": 330506,\n",
    "    \"Galway\": 193323,\n",
    "    \"Sligo\": 70198\n",
    "})\n",
    "print(pops)"
   ]
  },
  {
   "cell_type": "markdown",
   "metadata": {},
   "source": [
    "As mentioned before, one can think of a Series as an enhanced dictionary.\n",
    "\n",
    "You can do similar sorts of operations."
   ]
  },
  {
   "cell_type": "code",
   "execution_count": null,
   "metadata": {},
   "outputs": [],
   "source": [
    "print(pops.keys())\n",
    "print(list(pops.items()))"
   ]
  },
  {
   "cell_type": "code",
   "execution_count": null,
   "metadata": {},
   "outputs": [],
   "source": [
    "pops[\"Galway\"]"
   ]
  },
  {
   "cell_type": "markdown",
   "metadata": {},
   "source": [
    "#### Indexing and beyond"
   ]
  },
  {
   "cell_type": "markdown",
   "metadata": {},
   "source": [
    "It might be helpful to think of Series as a $1$-dimensional `ndarray` to start."
   ]
  },
  {
   "cell_type": "code",
   "execution_count": null,
   "metadata": {},
   "outputs": [],
   "source": [
    "pops['Dublin':'Galway']"
   ]
  },
  {
   "cell_type": "markdown",
   "metadata": {},
   "source": [
    "Notice the change in slicing convention. We eneded at our ending value `Galway`."
   ]
  },
  {
   "cell_type": "markdown",
   "metadata": {},
   "source": [
    "We can slice with the implict indices, and that follows the Python convention."
   ]
  },
  {
   "cell_type": "code",
   "execution_count": null,
   "metadata": {},
   "outputs": [],
   "source": [
    "pops[1:3]"
   ]
  },
  {
   "cell_type": "markdown",
   "metadata": {},
   "source": [
    "You can apply techniques like masking and advanced indexing to Series in much of the same way.\n",
    "\n",
    "(In fact I did this for you in Week05 with the running rainfall example!)\n",
    "\n",
    "Try applying masking and advanced indexing yourself."
   ]
  },
  {
   "cell_type": "markdown",
   "metadata": {},
   "source": [
    "#### `loc` and `iloc`"
   ]
  },
  {
   "cell_type": "markdown",
   "metadata": {},
   "source": [
    "It's good practice to be explicit.\n",
    "\n",
    "Instead of indexing and slicing via `pops[...]`, use\n",
    "- `loc`\n",
    "- `iloc`"
   ]
  },
  {
   "cell_type": "code",
   "execution_count": null,
   "metadata": {},
   "outputs": [],
   "source": [
    "pops.loc[\"Galway\"]"
   ]
  },
  {
   "cell_type": "code",
   "execution_count": null,
   "metadata": {},
   "outputs": [],
   "source": [
    "pops.iloc[3]"
   ]
  },
  {
   "cell_type": "markdown",
   "metadata": {},
   "source": [
    "A helpful nmemonic to help remember:\n",
    "- `loc` and label both start with L\n",
    "- `iloc` and implicit both start with I."
   ]
  },
  {
   "cell_type": "markdown",
   "metadata": {},
   "source": [
    "## DataFrame"
   ]
  },
  {
   "cell_type": "markdown",
   "metadata": {},
   "source": [
    "The DataFrame object is the primary `pandas` object."
   ]
  },
  {
   "cell_type": "markdown",
   "metadata": {},
   "source": [
    "These are $2$-dimensional analogs of the Series object.\n",
    "\n",
    "They describe tabulated data (e.g. Excel sheets and `csv` files)."
   ]
  },
  {
   "cell_type": "markdown",
   "metadata": {},
   "source": [
    "### Creating a DataFrame"
   ]
  },
  {
   "cell_type": "markdown",
   "metadata": {},
   "source": [
    "Common way to build a DataFrame by hand is through a dictionary."
   ]
  },
  {
   "cell_type": "code",
   "execution_count": null,
   "metadata": {},
   "outputs": [],
   "source": [
    "df = pd.DataFrame({\n",
    "    \"Population\": [360152, 592713, 330506, 193323, 70198],\n",
    "    \"No cars\": [10335, 69661, 10371, 5033, 3350],\n",
    "    \"One car\": [44419, 84685, 44495, 23406, 10422],\n",
    "    \"Two cars\": [50310, 34861, 36562, 27542, 9055],\n",
    "    \"Three cars\": [11243, 6129, 6368, 5593, 1676],\n",
    "    \"Four or more cars\": [4908, 1736, 1933, 2291, 567],\n",
    "}, index=[\"Cork\", \"Dublin\", \"Fingal\", \"Galway\", \"Sligo\"])\n",
    "df"
   ]
  },
  {
   "cell_type": "markdown",
   "metadata": {},
   "source": [
    "If no `index` is given, integers are used starting from $0$."
   ]
  },
  {
   "cell_type": "code",
   "execution_count": null,
   "metadata": {},
   "outputs": [],
   "source": [
    "df.index"
   ]
  },
  {
   "cell_type": "code",
   "execution_count": null,
   "metadata": {},
   "outputs": [],
   "source": [
    "df.columns"
   ]
  },
  {
   "cell_type": "markdown",
   "metadata": {},
   "source": [
    "- If `a` is a $2$-dimensional `ndarray`, then `a[i]` is the $i^{th}$ row.\n",
    "  \n",
    "- If `df` is a DataFrame, then `df['col-val']` is the column corresponding to `'col-val'` (as a Series)\n",
    "  \n",
    "- If you want the row(s) corresponding the explicit index `'label'` or implicit index `i`:\n",
    "  - `df.loc['label']`\n",
    "  - `df.iloc[i]`"
   ]
  },
  {
   "cell_type": "code",
   "execution_count": null,
   "metadata": {},
   "outputs": [],
   "source": [
    "df[\"Population\"]"
   ]
  },
  {
   "cell_type": "code",
   "execution_count": null,
   "metadata": {},
   "outputs": [],
   "source": [
    "df.loc[\"Galway\"]"
   ]
  },
  {
   "cell_type": "code",
   "execution_count": null,
   "metadata": {},
   "outputs": [],
   "source": [
    "df.iloc[0].name"
   ]
  },
  {
   "cell_type": "markdown",
   "metadata": {},
   "source": [
    "Column values that are strings grow up to become attributes of the DataFrame."
   ]
  },
  {
   "cell_type": "code",
   "execution_count": null,
   "metadata": {},
   "outputs": [],
   "source": [
    "df.Population"
   ]
  },
  {
   "cell_type": "markdown",
   "metadata": {},
   "source": [
    "We can easily add a new column of data"
   ]
  },
  {
   "cell_type": "code",
   "execution_count": null,
   "metadata": {},
   "outputs": [],
   "source": [
    "# So we don't keep adding to the total if we run this cell more than once.\n",
    "if not \"Households\" in df.columns.values:\n",
    "    df[\"Households\"] = np.sum(df.drop(\"Population\", axis=1), axis=1)\n",
    "df"
   ]
  },
  {
   "cell_type": "markdown",
   "metadata": {},
   "source": [
    "Now we can convert the columns to percentages to make it easier to understand."
   ]
  },
  {
   "cell_type": "code",
   "execution_count": null,
   "metadata": {},
   "outputs": [],
   "source": [
    "if not \"%\" in df.columns.values[1]:\n",
    "    for col in [c for c in df.columns.values if \"car\" in c]:\n",
    "        df[col + \" (%)\"] = df[col] / df[\"Households\"] * 100\n",
    "        df = df.drop([col], axis=1)"
   ]
  },
  {
   "cell_type": "code",
   "execution_count": null,
   "metadata": {},
   "outputs": [],
   "source": [
    "df"
   ]
  },
  {
   "cell_type": "markdown",
   "metadata": {},
   "source": [
    "We take what we know about indexing with NumPy together with how Series in pandas works:\n",
    "\n",
    "Now you know what to expect when indexing with DataFrames."
   ]
  },
  {
   "cell_type": "markdown",
   "metadata": {},
   "source": [
    "### Other ways to build DataFrames"
   ]
  },
  {
   "cell_type": "markdown",
   "metadata": {},
   "source": [
    "Rarely does one *type* a DataFrame via a dictionary. \n",
    "\n",
    "(This is so unreliable that it might be outright banned at some companies.)"
   ]
  },
  {
   "cell_type": "markdown",
   "metadata": {},
   "source": [
    "Thankfull there are standard methods to get you DataFrames from files."
   ]
  },
  {
   "cell_type": "markdown",
   "metadata": {},
   "source": [
    "#### CSVs"
   ]
  },
  {
   "cell_type": "markdown",
   "metadata": {},
   "source": [
    "`csv` files are a common standard with data. \n",
    "\n",
    "Let's read in `data/Populations2022.csv` directly."
   ]
  },
  {
   "cell_type": "code",
   "execution_count": null,
   "metadata": {},
   "outputs": [],
   "source": [
    "df_pop = pd.read_csv(\"data/Populations2022.csv\")"
   ]
  },
  {
   "cell_type": "markdown",
   "metadata": {},
   "source": [
    "Often one does not want to print out the *entire* DataFrame. Use `head` for sanity checking."
   ]
  },
  {
   "cell_type": "code",
   "execution_count": null,
   "metadata": {},
   "outputs": [],
   "source": [
    "df_pop.head()"
   ]
  },
  {
   "cell_type": "markdown",
   "metadata": {},
   "source": [
    "#### Excel files (e.g. `xls` and `xlsx`)"
   ]
  },
  {
   "cell_type": "markdown",
   "metadata": {},
   "source": [
    "I don't have and files of this type, but it works the same way as our `csv` example."
   ]
  },
  {
   "cell_type": "markdown",
   "metadata": {},
   "source": [
    "#### Many more!"
   ]
  },
  {
   "cell_type": "markdown",
   "metadata": {},
   "source": [
    "At this point, type `pd.read` and hit tab so that Jupyter shows the possibilities. \n",
    "\n",
    "`pandas` can read. A lot."
   ]
  },
  {
   "cell_type": "code",
   "execution_count": null,
   "metadata": {},
   "outputs": [],
   "source": [
    "# pd.read"
   ]
  },
  {
   "cell_type": "markdown",
   "metadata": {},
   "source": [
    "## Index Object"
   ]
  },
  {
   "cell_type": "markdown",
   "metadata": {},
   "source": [
    "Both Series and DataFrame come with an Index object. We've already seen it in the wild."
   ]
  },
  {
   "cell_type": "code",
   "execution_count": null,
   "metadata": {},
   "outputs": [],
   "source": [
    "df.index"
   ]
  },
  {
   "cell_type": "markdown",
   "metadata": {},
   "source": [
    "One can think of the Index object as an immutable array.\n",
    "\n",
    "Index has many attributes of a numpy array."
   ]
  },
  {
   "cell_type": "code",
   "execution_count": null,
   "metadata": {},
   "outputs": [],
   "source": [
    "ind = df.index \n",
    "print(ind.shape, ind.size, ind.ndim, ind.dtype)"
   ]
  },
  {
   "cell_type": "markdown",
   "metadata": {},
   "source": [
    "But the array is immutable..."
   ]
  },
  {
   "cell_type": "code",
   "execution_count": null,
   "metadata": {},
   "outputs": [],
   "source": [
    "# ind[0] = 'Not Cork'           # naughty naughty"
   ]
  },
  {
   "cell_type": "markdown",
   "metadata": {},
   "source": [
    "One can also think of Index as an ordered multiset. \n",
    "\n",
    "Or in other words, it also has set-theoretic operations."
   ]
  },
  {
   "cell_type": "code",
   "execution_count": null,
   "metadata": {},
   "outputs": [],
   "source": [
    "ind1 = pd.Index(list(range(0, 13, 2)))\n",
    "ind2 = pd.Index(list(range(0, 13, 3)))\n",
    "print(ind1)\n",
    "print(ind2)"
   ]
  },
  {
   "cell_type": "markdown",
   "metadata": {},
   "source": [
    "We can use the logical operators to do set-theoretic operations."
   ]
  },
  {
   "cell_type": "code",
   "execution_count": null,
   "metadata": {},
   "outputs": [],
   "source": [
    "print(ind1.intersection(ind2))\n",
    "print(ind1.union(ind2))\n",
    "print(ind1.symmetric_difference(ind2))"
   ]
  },
  {
   "cell_type": "markdown",
   "metadata": {},
   "source": [
    "## Exercises"
   ]
  },
  {
   "cell_type": "markdown",
   "metadata": {},
   "source": [
    "1. Load the `IrishLanguage2022.csv` into a DataFrame directly.\n",
    "2. Simplify the DataFrame by creating a new one and doing the following:\n",
    "   - The index should be the \"Administrative Counties 2019\" value.\n",
    "   - Instead of four rows per county, there should be one row. \n",
    "   - The column values should be \n",
    "     - \"Population\" (previously the entry in the \"VALUE\" column in the row with \"Total\").\n",
    "     - \"Can Speak\" the percentage (as a real number between $0$ and $100$) that can speak\n",
    "     - \"Cannot Speak\" the percentage (as a real number between $0$ and $100$) that cannot speak.\n",
    "3. What are the top three counties with the highest population (stating) that can speak Irish per capita?"
   ]
  }
 ],
 "metadata": {
  "kernelspec": {
   "display_name": "Python 3",
   "language": "python",
   "name": "python3"
  },
  "language_info": {
   "codemirror_mode": {
    "name": "ipython",
    "version": 3
   },
   "file_extension": ".py",
   "mimetype": "text/x-python",
   "name": "python",
   "nbconvert_exporter": "python",
   "pygments_lexer": "ipython3",
   "version": "3.12.0"
  }
 },
 "nbformat": 4,
 "nbformat_minor": 2
}
