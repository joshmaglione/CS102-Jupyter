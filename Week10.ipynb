{
 "cells": [
  {
   "cell_type": "markdown",
   "metadata": {},
   "source": [
    "[![Binder](https://mybinder.org/badge_logo.svg)](https://mybinder.org/v2/gh/joshmaglione/CS102-Jupyter/main?labpath=.%2FWeek10.ipynb) \n",
    "\n",
    "<a href=\"https://colab.research.google.com/github/joshmaglione/CS102-Jupyter/blob/main/Week10.ipynb\"><img src=\"https://colab.research.google.com/assets/colab-badge.svg\" alt=\"Open In Colab\"/></a> \n",
    "\n",
    "[View on GitHub](https://github.com/joshmaglione/CS102-Jupyter/blob/main/Week10.ipynb)"
   ]
  },
  {
   "cell_type": "markdown",
   "metadata": {},
   "source": [
    "# Week 10: Regression"
   ]
  },
  {
   "cell_type": "markdown",
   "metadata": {},
   "source": [
    "We'll continue learning about machine learning. We are still looking at *supervised learning*.\n",
    "\n",
    "- What is the difference between *supervised* and *unsupervised* learning? \n",
    "\n",
    "- What are some examples of each?"
   ]
  },
  {
   "cell_type": "code",
   "execution_count": null,
   "metadata": {},
   "outputs": [],
   "source": [
    "import numpy as np\n",
    "import pandas as pd\n",
    "from numpy import random as rng\n",
    "import matplotlib.pyplot as plt\n",
    "from sklearn.linear_model import LinearRegression"
   ]
  },
  {
   "cell_type": "markdown",
   "metadata": {},
   "source": [
    "We are still working with `scikit-learn` which can help us with several machine learning tasks."
   ]
  },
  {
   "cell_type": "markdown",
   "metadata": {},
   "source": [
    "![](imgs/scikitlearn1.png)\n",
    "\n",
    "![](imgs/scikitlearn2.png)"
   ]
  },
  {
   "cell_type": "markdown",
   "metadata": {},
   "source": [
    "## Linear regression"
   ]
  },
  {
   "cell_type": "markdown",
   "metadata": {},
   "source": [
    "You probably already know what linear regression is if the name is unfamiliar.\n",
    "\n",
    "It is used all the time in sciences.\n",
    "\n",
    "Linear regression = finding the line of best fit."
   ]
  },
  {
   "cell_type": "markdown",
   "metadata": {},
   "source": [
    "![](https://miro.medium.com/v2/resize:fit:2000/format:webp/1*N1-K-A43_98pYZ27fnupDA.jpeg)"
   ]
  },
  {
   "cell_type": "markdown",
   "metadata": {},
   "source": [
    "We perform a linear regression when we want to analyze how some variables (usually one) *linearly* depend on other variables."
   ]
  },
  {
   "cell_type": "markdown",
   "metadata": {},
   "source": [
    "**Simplest:** we have data points in $\\mathbb{R}^2$.\n",
    "- We suspect the $y$-values depend, at least in part, on the $x$-values.\n",
    "- We perform some linear algebra to get the line of best fit, usually written as\n",
    "$$\n",
    "\ty = \\beta x + \\varepsilon\n",
    "$$\n",
    "- We calculate the $r^2$-value to see how well the line fits the data.\n",
    "- If it's a decent fit, we can predict a reasonable range of $y$-values for a given $x$-value."
   ]
  },
  {
   "cell_type": "markdown",
   "metadata": {},
   "source": [
    "Let's build a simple example."
   ]
  },
  {
   "cell_type": "code",
   "execution_count": null,
   "metadata": {},
   "outputs": [],
   "source": [
    "x = 10 * rng.rand(50) \t\t\t# Random numbers between 0 and 10\n",
    "noise = rng.randn(50)\t\t\t# Random noise\n",
    "y = 2 * x - 5 + noise \t\t\t# Noisy but near the line 2x - 5"
   ]
  },
  {
   "cell_type": "code",
   "execution_count": null,
   "metadata": {},
   "outputs": [],
   "source": [
    "plt.xlabel(\"x\")\n",
    "plt.ylabel(\"y\")\n",
    "plt.grid()\n",
    "_ = plt.scatter(x, y, color='blue', alpha=0.5, zorder=2)"
   ]
  },
  {
   "cell_type": "markdown",
   "metadata": {},
   "source": [
    "There is a very *clear* trend in the data. We expect a high $r^2$-value."
   ]
  },
  {
   "cell_type": "markdown",
   "metadata": {},
   "source": [
    "We'll use `LinearRegression` to get the line of best fit in this simple example."
   ]
  },
  {
   "cell_type": "code",
   "execution_count": null,
   "metadata": {},
   "outputs": [],
   "source": [
    "# Fit the model\n",
    "model = LinearRegression(fit_intercept=True)\n",
    "model.fit(x[:, np.newaxis], y)\n",
    "xfit = np.linspace(0, 10, 2)\t\t\t# Only need 2 points to define a line\n",
    "yfit = model.predict(xfit[:, np.newaxis])\n",
    "beta = model.coef_[0]\t\t\t\t\t# slope\n",
    "epsilon = model.intercept_\t\t\t\t# intercept\n",
    "r2 = model.score(x[:, np.newaxis], y)\t# r^2-value\n",
    "\n",
    "# Plot the model\n",
    "plt.scatter(x, y, color='blue', alpha=0.5, zorder=2)\n",
    "plt.xlabel(\"x\")\n",
    "plt.ylabel(\"y\")\n",
    "plt.plot(xfit, yfit, color=\"red\", label=f\"$y = {beta:.2f}x {epsilon:.2f}$\")\n",
    "plt.text(0.1, 13, f\"$r^2 = {r2:.2f}$\", fontsize=12, color=\"green\")\n",
    "plt.title(\"Linear Regression\")\n",
    "plt.grid()\n",
    "plt.legend()\n",
    "plt.show()"
   ]
  },
  {
   "cell_type": "markdown",
   "metadata": {},
   "source": [
    "We expected a very high $r^2$-value since we produced the data to have very little noise. \n",
    "\n",
    "**Try it yourself:** Scale the vector `noise` above and see how it impacts the $r^2$-value."
   ]
  },
  {
   "cell_type": "markdown",
   "metadata": {},
   "source": [
    "## Multidimensional data"
   ]
  },
  {
   "cell_type": "markdown",
   "metadata": {},
   "source": [
    "Instead of looking for a line (of best fit), we will look for a hyperplane.\n",
    "\n",
    "It's the same idea, except we have more \"independent variables\".\n",
    "\n",
    "We will still have one dependent variable."
   ]
  },
  {
   "cell_type": "markdown",
   "metadata": {},
   "source": [
    "I gathered some data related to housing from \n",
    "- centralbank.ie\n",
    "- cso.ie\n",
    "\n",
    "#### Information on the data\n",
    "\n",
    "The central bank tells us the interest rates for fixed rate mortgages for each quarter between 2015 and a little bit before 2020. \n",
    "\n",
    "The CSO tells us the number of new and existing houses sold in Ireland each month and their cumulative values. They also give the median house price for all of Ireland."
   ]
  },
  {
   "cell_type": "markdown",
   "metadata": {},
   "source": [
    "Putting this all together required some serious work. \n",
    "\n",
    "Below is the code to gather the data from the csv files. \n",
    "\n",
    "This is just for your information -- you do not need to understand this code -- though *you can*!"
   ]
  },
  {
   "cell_type": "code",
   "execution_count": null,
   "metadata": {},
   "outputs": [],
   "source": [
    "# Data from https://www.centralbank.ie/statistics/data-and-analysis/statistical-data-in-csv\n",
    "# Interest data\n",
    "df_int = pd.read_csv(\n",
    "\t\"data/Interest.csv\", \n",
    "\tencoding = \"ISO-8859-2\", \n",
    "\tusecols=[\"Table B.3.1  Retail Interest Rates - Lending for House Purchase\", \n",
    "\t\t\"Reporting Date\", \n",
    "\t\t\"PDH - Fixed Rate - Over 3 years\"\n",
    "\t],\n",
    "\tparse_dates=[\"Reporting Date\"]\n",
    ")\n",
    "df_int = (df_int\n",
    "\t.query(\"`Table B.3.1  Retail Interest Rates - Lending for House Purchase` == 'Outstanding Amounts - Rates (%)'\")\n",
    "\t.drop(columns=[\"Table B.3.1  Retail Interest Rates - Lending for House Purchase\"])\n",
    "\t.rename(columns={\n",
    "\t\t\"Reporting Date\": \"Date\", \n",
    "\t\t\"PDH - Fixed Rate - Over 3 years\": \"Interest\"\n",
    "\t})\n",
    ")\n",
    "def month_to_interest(date):\n",
    "\trel_data = df_int.query(f\"Date <= '{date}'\")\n",
    "\tif rel_data.empty:\n",
    "\t\treturn np.nan\n",
    "\treturn rel_data.tail(1).Interest.values[0]\n",
    "\n",
    "# Data from: https://data.cso.ie/table/HPM04\n",
    "# So much housing data\n",
    "from functools import reduce\n",
    "df = pd.read_csv(\n",
    "\t\"data/Household.csv\",\n",
    "\tparse_dates=[\"Month\"], \n",
    "\tdate_format='%Y %m'\n",
    ")\n",
    "df = df.rename(columns={\"Statistic Label\": \"Label\"})\n",
    "dfs = [df.query(f\"Label == '{x}'\") for x in df.Label.unique()]\n",
    "for i, df in enumerate(dfs):\n",
    "\tdfs[i] = (df\n",
    "\t\t.rename(columns={\"VALUE\": f\"{df.Label.unique()[0]}\"})\n",
    "\t\t.query(\"`Stamp Duty Event` == 'Executions'\")\n",
    "\t\t.drop(columns=[\"Label\", \"UNIT\", \"Stamp Duty Event\", \"Eircode Output\"])\n",
    "\t)\n",
    "df = reduce(pd.merge, dfs)\n",
    "df = (df\n",
    "\t.rename(columns={\n",
    "\t\t\"Volume of Sales\": \"Volume\", \n",
    "\t\t\"Median Price\": \"Median\", \n",
    "\t\t\"Value of Sales\": \"Value\"\n",
    "\t})\n",
    "\t.astype({\"Volume\": \"i\"})\n",
    "\t.query(\"`Type of Buyer` == 'All Buyer Types'\")\n",
    "\t.drop(columns=[\"Type of Buyer\", \"Mean Sale Price\"])\n",
    "\t.set_index(\"Month\")\n",
    ")\n",
    "df_all = df.query(\"`Dwelling Status` == 'All Dwelling Statuses'\")\n",
    "df_new = df.query(\"`Dwelling Status` == 'New'\")\n",
    "df_exist = df.query(\"`Dwelling Status` == 'Existing'\")\n",
    "ser_int = pd.Series([month_to_interest(date) for date in df_new.index], index=df_new.index)\n",
    "df = pd.DataFrame({\n",
    "\t\"Volume_New\": df_new.Volume,\n",
    "\t\"Value_New\": df_new.Value,\n",
    "\t\"Volume_Existing\": df_exist.Volume,\n",
    "\t\"Value_Existing\": df_exist.Value,\n",
    "\t\"Interest\": ser_int,\n",
    "\t\"Median\": df_all.Median\n",
    "}).dropna()\n",
    "\n",
    "# Celebrate\n",
    "df.head()"
   ]
  },
  {
   "cell_type": "code",
   "execution_count": null,
   "metadata": {},
   "outputs": [],
   "source": [
    "from sklearn.model_selection import train_test_split\n",
    "from sklearn.linear_model import LinearRegression\n",
    "\n",
    "# Columns to use as dependent variables\n",
    "COLS = df.columns[[0, 2, 4]]\n",
    "\n",
    "X = df[COLS]\n",
    "y = df['Median']\n",
    "X_train, X_test, y_train, y_test = train_test_split(X, y, test_size=0.2)\n",
    "\n",
    "model = LinearRegression()\n",
    "model.fit(X_train, y_train)\n",
    "y_pred = model.predict(X_test)\n",
    "\n",
    "model.coef_, model.intercept_, model.score(X_test, y_test)\n",
    "print(\"Coefficients:\")\n",
    "for col, coef in zip(COLS, model.coef_):\n",
    "\tprint(f\"\\t{col}: {coef:.2f}\")\n",
    "print(f\"r^2-value: {model.score(X_test, y_test):.2f}\")"
   ]
  },
  {
   "cell_type": "code",
   "execution_count": null,
   "metadata": {},
   "outputs": [],
   "source": []
  }
 ],
 "metadata": {
  "kernelspec": {
   "display_name": "Python 3",
   "language": "python",
   "name": "python3"
  },
  "language_info": {
   "codemirror_mode": {
    "name": "ipython",
    "version": 3
   },
   "file_extension": ".py",
   "mimetype": "text/x-python",
   "name": "python",
   "nbconvert_exporter": "python",
   "pygments_lexer": "ipython3",
   "version": "3.12.0"
  }
 },
 "nbformat": 4,
 "nbformat_minor": 2
}
