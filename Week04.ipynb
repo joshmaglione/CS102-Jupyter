{
 "cells": [
  {
   "cell_type": "markdown",
   "metadata": {},
   "source": [
    "[![Binder](https://mybinder.org/badge_logo.svg)](https://mybinder.org/v2/gh/joshmaglione/CS102-Jupyter/main?labpath=.%2FWeek04.ipynb) (?m?s to load)\n",
    "\n",
    "<a href=\"https://colab.research.google.com/github/joshmaglione/CS102-Jupyter/blob/main/Week04.ipynb\"><img src=\"https://colab.research.google.com/assets/colab-badge.svg\" alt=\"Open In Colab\"/></a> (Google account needed)"
   ]
  },
  {
   "cell_type": "markdown",
   "metadata": {},
   "source": [
    "# Week 4: Universal functions and broadcasting"
   ]
  },
  {
   "cell_type": "markdown",
   "metadata": {},
   "source": [
    "*Universal functions* (or UFuncs) are operations applied to `ndarray`. \n",
    "\n",
    "Operations are generally unary (takes one argument) or binary (takes two arguments)."
   ]
  },
  {
   "cell_type": "markdown",
   "metadata": {},
   "source": [
    "## What do we mean by operations?"
   ]
  },
  {
   "cell_type": "markdown",
   "metadata": {},
   "source": [
    "For example: $v = (2, -3, 0, 9)$.\n",
    "\n",
    "Unary operation of $-$\n",
    "$$\n",
    "    -v = (-2, 3, 0, -9).\n",
    "$$\n",
    "\n",
    "Binary operation of $+$\n",
    "$$\n",
    "    v+v = (4, -6, 0, 18).\n",
    "$$"
   ]
  },
  {
   "cell_type": "markdown",
   "metadata": {},
   "source": [
    "NumPy has asserted that multiplication of `ndarray` are to be *component-wise*. \n",
    "\n",
    "There is no canonical choice of what multiplication should be, but this is a useful choice in practice. \n",
    "\n",
    "Continuing our example: $*$ is a binary operation\n",
    "$$\n",
    "    v * v = (3, 9, 0, 81). \n",
    "$$\n",
    "\n",
    "Of course so is division, but this would not work for our specific $v$. "
   ]
  },
  {
   "cell_type": "markdown",
   "metadata": {},
   "source": [
    "## Time comparisons"
   ]
  },
  {
   "cell_type": "markdown",
   "metadata": {},
   "source": [
    "Last week, we saw hints of NumPy being significantly faster than Python at running through elements of containers.\n",
    "\n",
    "Apparently, this isn't always true, at least for Python 3.12."
   ]
  },
  {
   "cell_type": "code",
   "execution_count": 1,
   "metadata": {},
   "outputs": [],
   "source": [
    "import numpy as np"
   ]
  },
  {
   "cell_type": "markdown",
   "metadata": {},
   "source": [
    "Let's create large arrays (but still small compared to real-world examples). "
   ]
  },
  {
   "cell_type": "code",
   "execution_count": 2,
   "metadata": {},
   "outputs": [],
   "source": [
    "N = 10^9\n",
    "apy = range(1, N + 1)\n",
    "bpy = range(2, N + 2)\n",
    "anp = np.arange(1, N + 1)\n",
    "bnp = np.arange(2, N + 2)"
   ]
  },
  {
   "cell_type": "markdown",
   "metadata": {},
   "source": [
    "Let's multiply both vectors."
   ]
  },
  {
   "cell_type": "code",
   "execution_count": 3,
   "metadata": {},
   "outputs": [
    {
     "name": "stdout",
     "output_type": "stream",
     "text": [
      "234 ns ± 6.08 ns per loop (mean ± std. dev. of 7 runs, 1,000,000 loops each)\n"
     ]
    }
   ],
   "source": [
    "%timeit _ = [apy[i] * bpy[i] for i in range(N)]"
   ]
  },
  {
   "cell_type": "markdown",
   "metadata": {},
   "source": [
    "We will use a UFunc here."
   ]
  },
  {
   "cell_type": "code",
   "execution_count": 4,
   "metadata": {},
   "outputs": [
    {
     "name": "stdout",
     "output_type": "stream",
     "text": [
      "233 ns ± 1.03 ns per loop (mean ± std. dev. of 7 runs, 1,000,000 loops each)\n"
     ]
    }
   ],
   "source": [
    "%timeit _ = anp * bnp"
   ]
  },
  {
   "cell_type": "markdown",
   "metadata": {},
   "source": [
    "**Fun fact.** I ran the above cells on my MacBook Pro which has an [Apple M2](https://en.wikipedia.org/wiki/Apple_M2) chip, and the speeds are essentially the same! "
   ]
  },
  {
   "cell_type": "code",
   "execution_count": 5,
   "metadata": {},
   "outputs": [],
   "source": [
    "apy = [np.random.randint(1, 100) for _ in range(N)]\n",
    "bpy = [np.random.randint(1, 100) for _ in range(N)]\n",
    "anp = np.random.randint(1, 100, size=N)\n",
    "bnp = np.random.randint(1, 100, size=N)"
   ]
  },
  {
   "cell_type": "code",
   "execution_count": 6,
   "metadata": {},
   "outputs": [
    {
     "name": "stdout",
     "output_type": "stream",
     "text": [
      "139 ns ± 2.93 ns per loop (mean ± std. dev. of 7 runs, 10,000,000 loops each)\n"
     ]
    }
   ],
   "source": [
    "%timeit _ = [apy[i] * bpy[i] for i in range(N)]"
   ]
  },
  {
   "cell_type": "code",
   "execution_count": 7,
   "metadata": {},
   "outputs": [
    {
     "name": "stdout",
     "output_type": "stream",
     "text": [
      "238 ns ± 0.496 ns per loop (mean ± std. dev. of 7 runs, 1,000,000 loops each)\n"
     ]
    }
   ],
   "source": [
    "%timeit _ = anp * bnp"
   ]
  },
  {
   "cell_type": "markdown",
   "metadata": {},
   "source": [
    "Although Python might perform on par with NumPy, it is safer to just use NumPy if performance might be an issue."
   ]
  },
  {
   "cell_type": "markdown",
   "metadata": {},
   "source": [
    "## Ufuncs now, seriously"
   ]
  },
  {
   "cell_type": "markdown",
   "metadata": {},
   "source": [
    "NumPy offers many *vectorized* alternatives to the usual operations.\n",
    "\n",
    "The point is that this pushes the loop down into the compiled C code, resulting in a more efficient execution. "
   ]
  },
  {
   "cell_type": "markdown",
   "metadata": {},
   "source": [
    "NumPy has over [60 Ufuncs](https://numpy.org/doc/stable/reference/ufuncs.html#available-ufuncs)."
   ]
  },
  {
   "cell_type": "markdown",
   "metadata": {},
   "source": [
    "Ufuncs are easy to use: just apply the operation on arrays"
   ]
  },
  {
   "cell_type": "code",
   "execution_count": 8,
   "metadata": {},
   "outputs": [
    {
     "name": "stdout",
     "output_type": "stream",
     "text": [
      "    array a = [9 3 6]\n",
      "    array b = [5 6 6]\n",
      "array a + b = [14  9 12]\n"
     ]
    }
   ],
   "source": [
    "a = np.random.randint(1, 10, size=3)\n",
    "b = np.random.randint(1, 10, size=3)\n",
    "c = a + b\n",
    "print(f\"    array a = {a}\")\n",
    "print(f\"    array b = {b}\")\n",
    "print(f\"array a + b = {c}\")"
   ]
  },
  {
   "cell_type": "markdown",
   "metadata": {},
   "source": [
    "More of the usual mathematical operations"
   ]
  },
  {
   "cell_type": "code",
   "execution_count": 9,
   "metadata": {},
   "outputs": [
    {
     "name": "stdout",
     "output_type": "stream",
     "text": [
      "[45 18 36]\n"
     ]
    }
   ],
   "source": [
    "print(a * b)"
   ]
  },
  {
   "cell_type": "code",
   "execution_count": 10,
   "metadata": {},
   "outputs": [
    {
     "name": "stdout",
     "output_type": "stream",
     "text": [
      "[1.8 0.5 1. ]\n"
     ]
    }
   ],
   "source": [
    "print(a / b)"
   ]
  },
  {
   "cell_type": "code",
   "execution_count": 11,
   "metadata": {},
   "outputs": [
    {
     "name": "stdout",
     "output_type": "stream",
     "text": [
      "[1 0 1]\n"
     ]
    }
   ],
   "source": [
    "print(a // b)"
   ]
  },
  {
   "cell_type": "code",
   "execution_count": 12,
   "metadata": {},
   "outputs": [
    {
     "name": "stdout",
     "output_type": "stream",
     "text": [
      "[512   8  64]\n"
     ]
    }
   ],
   "source": [
    "print(2**a)         # this is the exponentiation operation."
   ]
  },
  {
   "cell_type": "code",
   "execution_count": 13,
   "metadata": {},
   "outputs": [
    {
     "name": "stdout",
     "output_type": "stream",
     "text": [
      "[81  9 36]\n"
     ]
    }
   ],
   "source": [
    "print(a**2)"
   ]
  },
  {
   "cell_type": "code",
   "execution_count": 14,
   "metadata": {},
   "outputs": [],
   "source": [
    "# print(a**(-1))      # Won't convert"
   ]
  },
  {
   "cell_type": "markdown",
   "metadata": {},
   "source": [
    "If we want to change the data type (`dtype`) of an array, best to use `astype` method."
   ]
  },
  {
   "cell_type": "code",
   "execution_count": 18,
   "metadata": {},
   "outputs": [
    {
     "name": "stdout",
     "output_type": "stream",
     "text": [
      "[9. 3. 6.]\n",
      "[0.11111111 0.33333334 0.16666667]\n"
     ]
    }
   ],
   "source": [
    "a_fl = a.astype('f')\n",
    "print(a_fl)\n",
    "print(a_fl**(-1))"
   ]
  },
  {
   "cell_type": "code",
   "execution_count": 20,
   "metadata": {},
   "outputs": [
    {
     "name": "stdout",
     "output_type": "stream",
     "text": [
      "[1 1 0]\n"
     ]
    }
   ],
   "source": [
    "print(a % 2)"
   ]
  },
  {
   "cell_type": "markdown",
   "metadata": {},
   "source": [
    "Can do bitwise operations as well"
   ]
  },
  {
   "cell_type": "code",
   "execution_count": 28,
   "metadata": {},
   "outputs": [
    {
     "name": "stdout",
     "output_type": "stream",
     "text": [
      "[-10  -4  -7]\n"
     ]
    }
   ],
   "source": [
    "print(~a)"
   ]
  },
  {
   "cell_type": "code",
   "execution_count": 27,
   "metadata": {},
   "outputs": [
    {
     "name": "stdout",
     "output_type": "stream",
     "text": [
      "[0 0 0]\n"
     ]
    }
   ],
   "source": [
    "print(a^a)"
   ]
  },
  {
   "cell_type": "markdown",
   "metadata": {},
   "source": [
    "From the documentation:\n",
    "\n",
    "> Some of these ufuncs are called automatically on arrays when the relevant infix notation is used (e.g., `add(a, b)` is called internally when `a + b` is written and `a` or `b` is an ndarray).\n",
    ">\n",
    "> Nevertheless, you may still want to use the **ufunc call** in order to use the optional output argument(s) to place the output(s) in an object (or objects) of your choice."
   ]
  },
  {
   "cell_type": "code",
   "execution_count": 29,
   "metadata": {},
   "outputs": [
    {
     "name": "stdout",
     "output_type": "stream",
     "text": [
      "[14  9 12]\n",
      "[14  9 12]\n"
     ]
    }
   ],
   "source": [
    "print(a + b)\n",
    "print(np.add(a, b))"
   ]
  },
  {
   "cell_type": "markdown",
   "metadata": {},
   "source": [
    "The methods can prevent additional work. \n",
    "\n",
    "For example, take the example where we wanted to invert an array of ints.\n",
    "\n",
    "We can use `np.power` and specify the output `dtype` all at once."
   ]
  },
  {
   "cell_type": "code",
   "execution_count": 30,
   "metadata": {},
   "outputs": [
    {
     "data": {
      "text/plain": [
       "array([0.11111111, 0.33333334, 0.16666667], dtype=float32)"
      ]
     },
     "execution_count": 30,
     "metadata": {},
     "output_type": "execute_result"
    }
   ],
   "source": [
    "np.power(a, -1, dtype='f')"
   ]
  },
  {
   "cell_type": "markdown",
   "metadata": {},
   "source": [
    "Using the keyword argument `out`, one can specify the target output."
   ]
  },
  {
   "cell_type": "code",
   "execution_count": 42,
   "metadata": {},
   "outputs": [
    {
     "name": "stdout",
     "output_type": "stream",
     "text": [
      "[  0.   1.   0.   2.   0.   4.   0.   8.   0.  16.   0.  32.   0.  64.\n",
      "   0. 128.   0. 256.   0. 512.]\n"
     ]
    }
   ],
   "source": [
    "z = np.zeros(20)\n",
    "np.power(2, range(10), out=z[1::2])\n",
    "print(z)"
   ]
  },
  {
   "cell_type": "markdown",
   "metadata": {},
   "source": [
    "Often the methods are not required, but sometimes they can be exactly the right tool."
   ]
  },
  {
   "cell_type": "markdown",
   "metadata": {},
   "source": [
    "### Trigonometric functions"
   ]
  },
  {
   "cell_type": "code",
   "execution_count": 33,
   "metadata": {},
   "outputs": [
    {
     "name": "stdout",
     "output_type": "stream",
     "text": [
      "[0.         1.57079633 3.14159265]\n"
     ]
    }
   ],
   "source": [
    "thetas = np.linspace(0, np.pi, 3)\n",
    "print(thetas)"
   ]
  },
  {
   "cell_type": "code",
   "execution_count": 34,
   "metadata": {},
   "outputs": [
    {
     "name": "stdout",
     "output_type": "stream",
     "text": [
      "sin(theta) = [0.0000000e+00 1.0000000e+00 1.2246468e-16]\n",
      "cos(theta) = [ 1.000000e+00  6.123234e-17 -1.000000e+00]\n",
      "tan(theta) = [ 0.00000000e+00  1.63312394e+16 -1.22464680e-16]\n"
     ]
    }
   ],
   "source": [
    "print(f\"sin(theta) = {np.sin(thetas)}\")\n",
    "print(f\"cos(theta) = {np.cos(thetas)}\")\n",
    "print(f\"tan(theta) = {np.tan(thetas)}\")"
   ]
  },
  {
   "cell_type": "markdown",
   "metadata": {},
   "source": [
    "One can perform the inverse trigonometric functions as well."
   ]
  },
  {
   "cell_type": "code",
   "execution_count": 37,
   "metadata": {},
   "outputs": [
    {
     "name": "stdout",
     "output_type": "stream",
     "text": [
      "       x  = [-1, 0, 1]\n",
      "arcsin(x) = [-1.57079633  0.          1.57079633]\n",
      "arccos(x) = [3.14159265 1.57079633 0.        ]\n",
      "arctan(x) = [-0.78539816  0.          0.78539816]\n"
     ]
    }
   ],
   "source": [
    "x = [-1, 0, 1]\n",
    "print(f\"       x  = {x}\")\n",
    "print(f\"arcsin(x) = {np.arcsin(x)}\")\n",
    "print(f\"arccos(x) = {np.arccos(x)}\")\n",
    "print(f\"arctan(x) = {np.arctan(x)}\")"
   ]
  },
  {
   "cell_type": "markdown",
   "metadata": {},
   "source": [
    "### Exponentials and logarithms"
   ]
  },
  {
   "cell_type": "markdown",
   "metadata": {},
   "source": [
    "We can take powers of $e$ with `np.exp`, of $2$ with `np.exp2`, or more general bases with `np.power`."
   ]
  },
  {
   "cell_type": "code",
   "execution_count": 44,
   "metadata": {},
   "outputs": [
    {
     "name": "stdout",
     "output_type": "stream",
     "text": [
      "   x = [1, 2, 3]\n",
      " e^x = [ 2.71828183  7.3890561  20.08553692]\n",
      " 2^x = [2. 4. 8.]\n",
      "pi^x = [ 3.14159265  9.8696044  31.00627668]\n"
     ]
    }
   ],
   "source": [
    "x = [1, 2, 3]\n",
    "print(f\"   x = {x}\")\n",
    "print(f\" e^x = {np.exp(x)}\")\n",
    "print(f\" 2^x = {np.exp2(x)}\")\n",
    "print(f\"pi^x = {np.power(np.pi, x)}\")"
   ]
  },
  {
   "cell_type": "markdown",
   "metadata": {},
   "source": [
    "The function `np.log` gives the natural logarithm, `np.log2` gives the base-2 logarithm, and `np.log10` gives the base-10 logarithm."
   ]
  },
  {
   "cell_type": "code",
   "execution_count": 46,
   "metadata": {},
   "outputs": [
    {
     "name": "stdout",
     "output_type": "stream",
     "text": [
      "       x = [1, 2, 4, 10]\n",
      "  log(x) = [0.         0.69314718 1.38629436 2.30258509]\n",
      " log2(x) = [0.         1.         2.         3.32192809]\n",
      "log10(x) = [0.         0.30103    0.60205999 1.        ]\n"
     ]
    }
   ],
   "source": [
    "x = [1, 2, 4, 10]\n",
    "print(f\"       x = {x}\")\n",
    "print(f\"  log(x) = {np.log(x)}\")\n",
    "print(f\" log2(x) = {np.log2(x)}\")\n",
    "print(f\"log10(x) = {np.log10(x)}\")"
   ]
  },
  {
   "cell_type": "markdown",
   "metadata": {},
   "source": [
    "### Aggregates and Accumulations"
   ]
  },
  {
   "cell_type": "markdown",
   "metadata": {},
   "source": [
    "Time for a quick journey down a rabbit hole\n",
    "\n",
    "![](imgs/rabbit.jpg)"
   ]
  },
  {
   "cell_type": "markdown",
   "metadata": {},
   "source": [
    "There is a Python module that ships with Python called `functools` (unofficially \"functional tools\").\n",
    "\n",
    "In it there is a function called `reduce` which basically takes a list whose entries have a particular type $t$ and returns something of type $t$.\n",
    "\n",
    "**Oversimplification!**\n",
    "\n",
    "Can also think of this as *aggregating* the data.\n",
    "\n",
    "You also need to tell `reduce` *how* to, well, reduce the list.\n",
    "\n",
    "Two arguments:\n",
    "1. a function,\n",
    "2. a list,\n",
    "3. (optional) a starting value."
   ]
  },
  {
   "cell_type": "code",
   "execution_count": 49,
   "metadata": {},
   "outputs": [],
   "source": [
    "from functools import reduce\n",
    "\n",
    "# Argument 1 : a function\n",
    "def add(x, y):\n",
    "    return x + y\n",
    "\n",
    "# Argument 2 : a list\n",
    "a = [\"Hello\", \"world!\"]\n",
    "\n",
    "# Argument 3 : starting value\n",
    "start = \"\""
   ]
  },
  {
   "cell_type": "markdown",
   "metadata": {},
   "source": [
    "We can reduce our list `a` to a string using the recipe given by `add`."
   ]
  },
  {
   "cell_type": "code",
   "execution_count": 50,
   "metadata": {},
   "outputs": [
    {
     "data": {
      "text/plain": [
       "'Helloworld!'"
      ]
     },
     "execution_count": 50,
     "metadata": {},
     "output_type": "execute_result"
    }
   ],
   "source": [
    "reduce(add, a, start)"
   ]
  },
  {
   "cell_type": "markdown",
   "metadata": {},
   "source": [
    "OK back to NumPy.\n",
    "\n",
    "Often when one uses `reduce`, a standard operation is used to reduce the list to a value.\n",
    "\n",
    "NumPy Ufuncs have a `reduce` method builtin, so instead of calling `reduce` from `functools`, one can use a likely better performing alternative."
   ]
  },
  {
   "cell_type": "code",
   "execution_count": 51,
   "metadata": {},
   "outputs": [
    {
     "name": "stdout",
     "output_type": "stream",
     "text": [
      "[0 1 2 3 4 5 6 7 8 9]\n"
     ]
    },
    {
     "data": {
      "text/plain": [
       "45"
      ]
     },
     "execution_count": 51,
     "metadata": {},
     "output_type": "execute_result"
    }
   ],
   "source": [
    "a = np.arange(10)\n",
    "print(a)\n",
    "np.add.reduce(a)"
   ]
  },
  {
   "cell_type": "markdown",
   "metadata": {},
   "source": [
    "One should take `np.add.reduce(a)` as `reduce(add, a, 0)`.\n",
    "\n",
    "One can set an initial value with `initial`."
   ]
  },
  {
   "cell_type": "code",
   "execution_count": 52,
   "metadata": {},
   "outputs": [
    {
     "data": {
      "text/plain": [
       "55"
      ]
     },
     "execution_count": 52,
     "metadata": {},
     "output_type": "execute_result"
    }
   ],
   "source": [
    "np.add.reduce(a, initial=10)"
   ]
  },
  {
   "cell_type": "code",
   "execution_count": 53,
   "metadata": {},
   "outputs": [
    {
     "data": {
      "text/plain": [
       "362880"
      ]
     },
     "execution_count": 53,
     "metadata": {},
     "output_type": "execute_result"
    }
   ],
   "source": [
    "np.multiply.reduce(a[1:])"
   ]
  },
  {
   "cell_type": "markdown",
   "metadata": {},
   "source": [
    "Sometimes one is not *only* interested in the final aggregated value, but instead one wants all of accumulated values at every step.\n",
    "\n",
    "Instead of `reduce` one should use `accumulate`."
   ]
  },
  {
   "cell_type": "code",
   "execution_count": 55,
   "metadata": {},
   "outputs": [
    {
     "name": "stdout",
     "output_type": "stream",
     "text": [
      "[ 0  1  3  6 10 15 21 28 36 45]\n"
     ]
    }
   ],
   "source": [
    "print(np.add.accumulate(a))"
   ]
  },
  {
   "cell_type": "code",
   "execution_count": 56,
   "metadata": {},
   "outputs": [
    {
     "name": "stdout",
     "output_type": "stream",
     "text": [
      "[     1      2      6     24    120    720   5040  40320 362880]\n"
     ]
    }
   ],
   "source": [
    "print(np.multiply.accumulate(a[1:]))"
   ]
  },
  {
   "cell_type": "markdown",
   "metadata": {},
   "source": [
    "## Ufuncs in higher dimensions"
   ]
  },
  {
   "cell_type": "markdown",
   "metadata": {},
   "source": [
    "As before, going from $1$-dimensional arrays to $2$-dimensional arrays is sometimes the tricky step. From $2$-dimensions to $n$-dimensions, it is generally straight-forward."
   ]
  },
  {
   "cell_type": "markdown",
   "metadata": {},
   "source": [
    "Ufuncs can be applied to arrays of the same *shape*.\n",
    "\n",
    "Above we were only looking at $1$-dimensional arrays with the same number of entries (i.e. shape)."
   ]
  },
  {
   "cell_type": "code",
   "execution_count": 58,
   "metadata": {},
   "outputs": [
    {
     "name": "stdout",
     "output_type": "stream",
     "text": [
      "[[ 0  1  2  3  4]\n",
      " [ 5  6  7  8  9]\n",
      " [10 11 12 13 14]\n",
      " [15 16 17 18 19]]\n",
      "\n",
      "[[3 3 9 4 1]\n",
      " [8 9 9 8 4]\n",
      " [6 3 8 9 1]\n",
      " [1 1 9 2 8]]\n"
     ]
    }
   ],
   "source": [
    "a = np.arange(20).reshape(4, 5)\n",
    "b = np.random.randint(1, 10, size=(4, 5))\n",
    "print(a)\n",
    "print()\n",
    "print(b)"
   ]
  },
  {
   "cell_type": "code",
   "execution_count": 60,
   "metadata": {},
   "outputs": [
    {
     "name": "stdout",
     "output_type": "stream",
     "text": [
      "[[ 3  4 11  7  5]\n",
      " [13 15 16 16 13]\n",
      " [16 14 20 22 15]\n",
      " [16 17 26 20 27]]\n"
     ]
    }
   ],
   "source": [
    "print(a + b)"
   ]
  },
  {
   "cell_type": "code",
   "execution_count": 61,
   "metadata": {},
   "outputs": [
    {
     "name": "stdout",
     "output_type": "stream",
     "text": [
      "[[  0   3  18  12   4]\n",
      " [ 40  54  63  64  36]\n",
      " [ 60  33  96 117  14]\n",
      " [ 15  16 153  36 152]]\n"
     ]
    }
   ],
   "source": [
    "print(a * b)"
   ]
  },
  {
   "cell_type": "markdown",
   "metadata": {},
   "source": [
    "**WARNING:** Be aware that `<matrix> * <matrix>` is **NOT** matrix multiplication. I make this mistake all the time 🤕\n",
    "\n",
    "For that, use the `@` operator: `<matrix> @ <matrix>`"
   ]
  },
  {
   "cell_type": "code",
   "execution_count": 63,
   "metadata": {},
   "outputs": [],
   "source": [
    "# print(a @ b)      # Wrong shapes (4,5) x (4,5) is incompatible. "
   ]
  },
  {
   "cell_type": "code",
   "execution_count": 65,
   "metadata": {},
   "outputs": [
    {
     "name": "stdout",
     "output_type": "stream",
     "text": [
      "[[     1      2      4      8     16]\n",
      " [    32     64    128    256    512]\n",
      " [  1024   2048   4096   8192  16384]\n",
      " [ 32768  65536 131072 262144 524288]]\n"
     ]
    }
   ],
   "source": [
    "print(np.power(2, a))"
   ]
  },
  {
   "cell_type": "markdown",
   "metadata": {},
   "source": [
    "You can imagine higher dimensions and all the other Ufuncs we described (and more)."
   ]
  },
  {
   "cell_type": "markdown",
   "metadata": {},
   "source": [
    "## Broadcasting"
   ]
  },
  {
   "cell_type": "markdown",
   "metadata": {},
   "source": [
    "Actually, I lied, but only because I knew I would make you aware of it right now.\n",
    "\n",
    "You **CAN** use Ufuncs beween arrays of different *shapes* and *sizes*.\n",
    "\n",
    "**Broadcasting** is a means of taking two arrays of different shapes and sizes and making them the same shape and size."
   ]
  },
  {
   "cell_type": "markdown",
   "metadata": {},
   "source": [
    "So really, I didn't lie: Ufuncs need arrays of the same shape and size. It's just that broadcasting gets built into the function as well,so it appears not to be necessary."
   ]
  },
  {
   "cell_type": "markdown",
   "metadata": {},
   "source": []
  }
 ],
 "metadata": {
  "kernelspec": {
   "display_name": "Python 3",
   "language": "python",
   "name": "python3"
  },
  "language_info": {
   "codemirror_mode": {
    "name": "ipython",
    "version": 3
   },
   "file_extension": ".py",
   "mimetype": "text/x-python",
   "name": "python",
   "nbconvert_exporter": "python",
   "pygments_lexer": "ipython3",
   "version": "3.12.0"
  }
 },
 "nbformat": 4,
 "nbformat_minor": 2
}
