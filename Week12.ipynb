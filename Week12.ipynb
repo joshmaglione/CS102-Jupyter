{
 "cells": [
  {
   "cell_type": "markdown",
   "metadata": {},
   "source": [
    "[![Binder](https://mybinder.org/badge_logo.svg)](https://mybinder.org/v2/gh/joshmaglione/CS102-Jupyter/main?labpath=.%2FWeek12.ipynb) \n",
    "\n",
    "<a href=\"https://colab.research.google.com/github/joshmaglione/CS102-Jupyter/blob/main/Week12.ipynb\"><img src=\"https://colab.research.google.com/assets/colab-badge.svg\" alt=\"Open In Colab\"/></a> \n",
    "\n",
    "[View on GitHub](https://github.com/joshmaglione/CS102-Jupyter/blob/main/Week12.ipynb)"
   ]
  },
  {
   "cell_type": "markdown",
   "metadata": {},
   "source": [
    "# Week 12: Wrap up"
   ]
  },
  {
   "cell_type": "markdown",
   "metadata": {},
   "source": [
    "Goals: \n",
    "- Overview of neural networks\n",
    "- Long-term perspective (~5 years)\n",
    "- Short-term perspective (~1 month)"
   ]
  },
  {
   "cell_type": "markdown",
   "metadata": {},
   "source": [
    "Although we will wrap up the semester, I want to continue discussing machine learning.\n",
    "\n",
    "In particular, I want to give an overview of (deep) neural networks."
   ]
  },
  {
   "cell_type": "markdown",
   "metadata": {},
   "source": [
    "## Neural networks"
   ]
  },
  {
   "cell_type": "markdown",
   "metadata": {},
   "source": [
    "You can build neural networks using many different Python packages."
   ]
  },
  {
   "cell_type": "markdown",
   "metadata": {},
   "source": [
    "- [PyTorch](https://pytorch.org/tutorials/beginner/basics/buildmodel_tutorial.html)\n",
    "- [Scikit-Learn](https://scikit-learn.org/stable/modules/neural_networks_supervised.html)\n",
    "- [TensorFlow](https://www.tensorflow.org/guide/keras)"
   ]
  },
  {
   "cell_type": "markdown",
   "metadata": {},
   "source": [
    "Neural networks are simply mathematical objects called [*graphs*](https://en.wikipedia.org/wiki/Graph_theory).\n",
    "\n",
    "Nodes (or vertices) are called *neurons*."
   ]
  },
  {
   "cell_type": "markdown",
   "metadata": {},
   "source": [
    "![](https://tamaszilagyi.com/blog/2017/2017-11-11-animated_net_files/figure-html/fig2-1.png)"
   ]
  },
  {
   "cell_type": "markdown",
   "metadata": {},
   "source": [
    "Neurons are grouped in layers, usually from left to right.\n",
    "\n",
    "- The first layer is the *input layer*.\n",
    "- The final layer is the *output layer*.\n",
    "- The rest of the layers are *hidden layers*."
   ]
  },
  {
   "cell_type": "markdown",
   "metadata": {},
   "source": [
    "Each edge carries a weight, which is a real number. These comprise the *tunable parameters*."
   ]
  },
  {
   "cell_type": "markdown",
   "metadata": {},
   "source": [
    "Each neuron is a value and a mathematical function. \n",
    "- It sums together all incoming nodes (multiplied by the corresponding weights)\n",
    "- and it applies the function\n",
    "- The output is the corresponding value for the neuron."
   ]
  },
  {
   "cell_type": "markdown",
   "metadata": {},
   "source": [
    "The neural network \"learns\" by a significant number of trial-and-errors. \n",
    "\n",
    "Mathematical optimization functions are used to help tune the parameters in a smart way."
   ]
  },
  {
   "cell_type": "markdown",
   "metadata": {},
   "source": [
    "![](https://raw.githubusercontent.com/mtoto/mtoto.github.io/master/data/2017-11-08-net/result.gif)"
   ]
  },
  {
   "cell_type": "markdown",
   "metadata": {},
   "source": [
    "The AI world is moving at break-neck speeds. \n",
    "\n",
    "There has been lots of news just during this semester! (And I do not actively follow...)"
   ]
  },
  {
   "cell_type": "markdown",
   "metadata": {},
   "source": [
    "- [Google's AlphaGeometry](https://deepmind.google/discover/blog/alphageometry-an-olympiad-level-ai-system-for-geometry/) (Janunary 2024)\n",
    "- [OpenAI's Sora announcement](https://openai.com/sora) (February 2024)\n",
    "- [Google's Gemini (1.5)](https://deepmind.google/technologies/gemini/#introduction) (February 2024)"
   ]
  },
  {
   "cell_type": "markdown",
   "metadata": {},
   "source": [
    "# Long-term: getting a job"
   ]
  },
  {
   "cell_type": "markdown",
   "metadata": {},
   "source": [
    "You might have found everything I did in this lecture boring. \n",
    "\n",
    "(If this really is you, try some of the exercises. Is it still boring? If so, adjust course accordingly.)"
   ]
  },
  {
   "cell_type": "markdown",
   "metadata": {},
   "source": [
    "What did you find interesting? \n",
    "- No need to tell me, but I *am* curious."
   ]
  },
  {
   "cell_type": "markdown",
   "metadata": {},
   "source": [
    "Start building a portfolio of work."
   ]
  },
  {
   "cell_type": "markdown",
   "metadata": {},
   "source": [
    "## How to get started? "
   ]
  },
  {
   "cell_type": "markdown",
   "metadata": {},
   "source": [
    "- There is a significant code-base that is open source and on GitHub.\n",
    "- There are lots of developers, employers, and amateurs (= not being paid to code) on GitHub."
   ]
  },
  {
   "cell_type": "markdown",
   "metadata": {},
   "source": [
    "Get on GitHub, build a website for yourself, and put your work out there for people to see."
   ]
  },
  {
   "cell_type": "markdown",
   "metadata": {},
   "source": [
    "### Examples (not exhaustive!)"
   ]
  },
  {
   "cell_type": "markdown",
   "metadata": {},
   "source": [
    "1. Find an open-source project you like and try to get invovled. \n",
    "\t- Fork the repo, try to improve it, and create pull request. For example, you could fix a bug or add a feature. \n",
    "\n",
    "2. Build some code for a particular (and very specific) task. \n",
    "\t- Create a (public) repo on GitHub, where users can download your code. There should be some documentation, so that users know what is going on.\n",
    "\n",
    "3. Find an interesting data set and tell a story.\n",
    "\t- Learn the details of the data set. How was it collected? Take your data visualization skills and teach someone about your data. Please be responsible.\n",
    "  \n",
    "4. Build a neural network to do something.\n",
    "\t- Take an NN off the shelf or build one yourself from scratch. See if you can get it to do what you want."
   ]
  },
  {
   "cell_type": "markdown",
   "metadata": {},
   "source": [
    "Starting a portfolio right now (in year 1) is a great way to \n",
    "- figure out what you actually enjoy doing\n",
    "- build a large body of work\n",
    "- prepare you for future modules\n",
    "- guide your decisions for short- to mid-term goals"
   ]
  },
  {
   "cell_type": "markdown",
   "metadata": {},
   "source": [
    "### But I don't know anything!"
   ]
  },
  {
   "cell_type": "markdown",
   "metadata": {},
   "source": [
    "OK, you don't have to do anything I suggest. "
   ]
  },
  {
   "cell_type": "markdown",
   "metadata": {},
   "source": [
    "**Anecdote:** Don't telle anyone, but I've never taken a computer science module in my life. \n",
    "- My research is in computational mathematics and I develop polynomial-time algorithms for specific problems concerning tensors and algebras. "
   ]
  },
  {
   "cell_type": "markdown",
   "metadata": {},
   "source": [
    "# Short-term: preparing for the exam"
   ]
  },
  {
   "cell_type": "markdown",
   "metadata": {},
   "source": [
    "Long-term goals are great to think about, but we also need to be **pragmatic**!"
   ]
  },
  {
   "cell_type": "markdown",
   "metadata": {},
   "source": [
    "## Jupyter/Python Basics\n",
    "- Importing Packages\n",
    "- Ipython/Jupyter line/cell magic e.g. `%timeit`\n",
    "- Help syntax\n",
    "- Input/Output history"
   ]
  },
  {
   "cell_type": "markdown",
   "metadata": {},
   "source": [
    "## Data Types and Numpy\n",
    "- Static vs Dynamic typing\n",
    "- Integer Type in Python vs Numpy\n",
    "- Python List vs Numpy List\n",
    "- Differences in Memory and Efficiency Python vs Numpy"
   ]
  },
  {
   "cell_type": "markdown",
   "metadata": {},
   "source": [
    "## Numpy Syntax & Usage\n",
    "- Values are generated within the half-open interval [start, stop) (in other words, the interval including start but excluding stop). \n",
    "- Array creation\n",
    "\t- `.zeros` and `.ones` and `.eye`\n",
    "\t- `.full` and `.empty`\n",
    "\t- `.arange([start, ]stop, [step, ])` and `.linspace(start, stop, num)`\n",
    "\t- `.random*` \n",
    "- Numpy Data Types {int*, uint*, float*, complex*}\n",
    "- Comparison of Numpy/Python arrays\n",
    "- Array Attributes \n",
    "\t- `.dtype`\n",
    "\t- `.shape`\n",
    "\t- `.itemsize`\n",
    "\t- `.nbytes`\n",
    "- Indexing Numpy Arrays\n",
    "- Slicing Numpy Arrays `[start:stop:step]`\n",
    "- Array copying & Reshaping \n",
    "\t- `.newaxis`\n",
    "\t- `.split`\n",
    "- Ufuncs\n",
    "\t- Meaning & advantage\n",
    "\t- Binary & Unary\n",
    "\t- arithmetic/trig/exp/log\n",
    "- Aggregates\n",
    "\t- `.reduce`\n",
    "\t- `.accumulate`\n",
    "\t- `.sum` and `.prod`\n",
    "- Broadcasting Rules\n",
    "- Boolean Arrays\n",
    "\t- via comparisons\n",
    "\t- counting `.sum` and `.any` and `.all`\n",
    "\t- Masks & use via fancy indexing\n",
    "\t- Boolean Operators AND `&` and OR `|` and NOT `~` and XOR `^`\n",
    "- Array `.sort` and `.argsort`"
   ]
  },
  {
   "cell_type": "markdown",
   "metadata": {},
   "source": [
    "## Pandas Syntax & Usage\n",
    "- Objects\n",
    "\t- `.Series`\n",
    "\t- `.DataFrame`\n",
    "\t- (`.Index`)\n",
    "- Series object properties\n",
    "\t- `.values`\n",
    "\t- `.index`\n",
    "- Indexing without `.loc` and `.iloc`\n",
    "- Indexing with `.loc` and `.iloc`\n",
    "- DataFrame object properties\n",
    "\t- `.value_counts`\n",
    "\t- `.index`\n",
    "\t- `.columns`\n",
    "- Sub-dataframes using Masking, fancy indexing, and `.query`\n",
    "- Missing values `Nan` and use of `.dropna`\n",
    "- DataFrame as\n",
    "\t- list of Series\n",
    "\t- Dictionary of Series\n",
    "\t- Array \n",
    "- Index as an immutable ordered set\t\n",
    "- Mathematical operations on DataFrames\n",
    "\t- Index preservation\n",
    "\t- Ufuncs or Pandas methods\n",
    "- Join Operations on DataFrames\n",
    "\t- `.concat` and `.merge`\n",
    "\t- merge types \n",
    "\t\t- 1-to-1, \n",
    "\t\t- many-to-1,\n",
    "\t\t- many-to-many\n",
    "\t- `how=`\n",
    "\t\t- inner (Intersection of Indices)\n",
    "\t\t- outer (Union of Indices)\n",
    "- Using `.dropna` `.isnull` `.any`\n",
    "- `DataFrame.plot` (By default, matplotlib is used)"
   ]
  },
  {
   "cell_type": "markdown",
   "metadata": {},
   "source": [
    "## Matplotlib Syntax & Usage\n",
    "- `plt.plot(x,f(x))`\n",
    "- `plt.scatter(x,y)`\n",
    "- `plt.hist(data)`\n",
    "- Subplots with `plt.subplots(i, j)`"
   ]
  },
  {
   "cell_type": "markdown",
   "metadata": {},
   "source": [
    "## Machine Learning\n",
    "- What is Machine Learning?\n",
    "- What are the two types of of ML (with examples)?\n",
    "- Supervised Learning\n",
    "\t- Classification (e.g. using DecisionTreeClassifier or a Random Forest)\n",
    "\t- Regression (e.g. using LinearRegression)\n",
    "- Unsupervised Learning\n",
    "\t- Dimensionality Reduction (using e.g. PCA)\n",
    "\t- Clustering (using e.g. kMeans)\n",
    "- Model Selection\n",
    "\t- Overfitting \n",
    "\t- Hyperparameters\n",
    "\t- Bias/Variance & the Validation Curve\n",
    "\t- Learning Curve\n",
    "- Data Familiarization\n",
    "\t- `DataFrame.shape`\n",
    "\t- `DataFrame.describe`\n",
    "\t- `pd.plotting.scatter_matrix` or `sns.pairplot`\n",
    "\t- Outliers\n",
    "\t- Scaling of Data\n",
    "- Scikit-learn Syntax\n",
    "\t- `train_test_split`\n",
    "\t- `confusion_matrix`\n",
    "\t- `.tree.DecisionTreeClassifier(max_depth=?)`\n",
    "\t- `.linear_model.LinearRegression()` and `coef_` and `score(X_test, y_test)`\n",
    "\t- `.decomposition.PCA(n_components=?)` `pca.explained_variance_ratio_`\n",
    "\t- `.cluster.KMeans(n_clusters=?)` & Elbow Method\n",
    "- Modern ML\n",
    "\t- Basic idea of (Deep) Neural Networks"
   ]
  },
  {
   "cell_type": "markdown",
   "metadata": {},
   "source": [
    "Best of luck on the exam!"
   ]
  }
 ],
 "metadata": {
  "language_info": {
   "name": "python"
  }
 },
 "nbformat": 4,
 "nbformat_minor": 2
}
