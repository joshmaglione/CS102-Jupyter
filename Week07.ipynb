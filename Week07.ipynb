{
 "cells": [
  {
   "cell_type": "markdown",
   "metadata": {},
   "source": [
    "[![Binder](https://mybinder.org/badge_logo.svg)](https://mybinder.org/v2/gh/joshmaglione/CS102-Jupyter/main?labpath=.%2FWeek07.ipynb) \n",
    "\n",
    "<a href=\"https://colab.research.google.com/github/joshmaglione/CS102-Jupyter/blob/main/Week07.ipynb\"><img src=\"https://colab.research.google.com/assets/colab-badge.svg\" alt=\"Open In Colab\"/></a> \n",
    "\n",
    "[View on GitHub](https://github.com/joshmaglione/CS102-Jupyter/blob/main/Week07.ipynb)"
   ]
  },
  {
   "cell_type": "markdown",
   "metadata": {},
   "source": [
    "# Week 7: Working with DataFrames"
   ]
  },
  {
   "cell_type": "markdown",
   "metadata": {},
   "source": [
    "Last time we discussed the three main data structures `pandas` brings.\n",
    "\n",
    "Now we will discuss how to manipulate the primary object: DataFrames."
   ]
  },
  {
   "cell_type": "markdown",
   "metadata": {},
   "source": [
    "Let's load in UN data about Ireland from two files sources: \n",
    "- `data/01_below_poverty.csv`\n",
    "- `data/07_renewable_energy.csv`\n",
    "\n",
    "(This was obtained from the [United Nations' SDG Country Profile Page](https://unstats.un.org/sdgs/dataportal/countryprofiles/IRL))"
   ]
  },
  {
   "cell_type": "markdown",
   "metadata": {},
   "source": [
    "This data has lots of information that we don't need, so our goal is to produce one DataFrame with the information we want. "
   ]
  },
  {
   "cell_type": "code",
   "execution_count": null,
   "metadata": {},
   "outputs": [],
   "source": [
    "import pandas as pd"
   ]
  },
  {
   "cell_type": "markdown",
   "metadata": {},
   "source": [
    "## Below Poverty Data Set"
   ]
  },
  {
   "cell_type": "markdown",
   "metadata": {},
   "source": [
    "We'll work through some of the basics with the below poverty data set."
   ]
  },
  {
   "cell_type": "code",
   "execution_count": null,
   "metadata": {},
   "outputs": [],
   "source": [
    "df1 = pd.read_csv(\"data/01_below_poverty.csv\")\n",
    "df1.head()"
   ]
  },
  {
   "cell_type": "markdown",
   "metadata": {},
   "source": [
    "Most of the columns look irrelevant. Let's look to keep the columns\n",
    "- \"TimePeriod\"\n",
    "- \"Value\"\n",
    "- \"Time_Detail\"\n",
    "- \"[Age]\"\n",
    "- \"[Location]\"\n",
    "- \"[Sex]\""
   ]
  },
  {
   "cell_type": "code",
   "execution_count": null,
   "metadata": {},
   "outputs": [],
   "source": [
    "df1 = df1[[\n",
    "\t\"TimePeriod\",\n",
    "\t\"Value\",\n",
    "\t\"Time_Detail\",\n",
    "\t\"[Age]\",\n",
    "\t\"[Location]\",\n",
    "\t\"[Sex]\"\n",
    "]]\n",
    "df1.head()"
   ]
  },
  {
   "cell_type": "markdown",
   "metadata": {},
   "source": [
    "It's weird that `\"TimePeriod\"` is a float. Let's change this to an int."
   ]
  },
  {
   "cell_type": "code",
   "execution_count": null,
   "metadata": {},
   "outputs": [],
   "source": [
    "# df1.astype({\"TimePeriod\" : \"i\"})"
   ]
  },
  {
   "cell_type": "markdown",
   "metadata": {},
   "source": [
    "We need to clean our data before we can manipulate it. Let's remove the rows where `\"TimePeriod\"` is empty."
   ]
  },
  {
   "cell_type": "code",
   "execution_count": null,
   "metadata": {},
   "outputs": [],
   "source": [
    "df1.dropna(subset=\"TimePeriod\", inplace=True)\n",
    "df1 = df1.astype({\"TimePeriod\" : \"i\"})\n",
    "df1"
   ]
  },
  {
   "cell_type": "markdown",
   "metadata": {},
   "source": [
    "We are not going to span the entirity of this data set. Let's just take the years 2005 to 2020."
   ]
  },
  {
   "cell_type": "code",
   "execution_count": null,
   "metadata": {},
   "outputs": [],
   "source": [
    "df1.query(\"2005 <= TimePeriod <= 2020\", inplace=True)\n",
    "df1"
   ]
  },
  {
   "cell_type": "markdown",
   "metadata": {},
   "source": [
    "The `\"Time_Detail\"` column looks irrelevant. Let's look at all the values."
   ]
  },
  {
   "cell_type": "code",
   "execution_count": null,
   "metadata": {},
   "outputs": [],
   "source": [
    "df1[\"Time_Detail\"].value_counts()"
   ]
  },
  {
   "cell_type": "code",
   "execution_count": null,
   "metadata": {},
   "outputs": [],
   "source": [
    "df1.drop([\"Time_Detail\"], axis=1, inplace=True)\n",
    "df1"
   ]
  },
  {
   "cell_type": "markdown",
   "metadata": {},
   "source": [
    "The last four columns are potentially irrelevant. Let's see what the possibilities are for \n",
    "- \"[Age]\"\n",
    "- \"[Location]\"\n",
    "- \"[Sex]\"\n",
    "\n",
    "We want the most inclusive options."
   ]
  },
  {
   "cell_type": "markdown",
   "metadata": {},
   "source": [
    "Let's look at the rows for one particular year. "
   ]
  },
  {
   "cell_type": "code",
   "execution_count": null,
   "metadata": {},
   "outputs": [],
   "source": [
    "df1.query(\"2011 == TimePeriod\")"
   ]
  },
  {
   "cell_type": "markdown",
   "metadata": {},
   "source": [
    "The data set has lots of granularity. Let's just take the coarse, general information."
   ]
  },
  {
   "cell_type": "code",
   "execution_count": null,
   "metadata": {},
   "outputs": [],
   "source": [
    "df1 = df1[\n",
    "\t(df1[\"[Age]\"] == \"ALLAGE\") & \n",
    "\t(df1[\"[Location]\"] == \"ALLAREA\") &\n",
    "\t(df1[\"[Sex]\"] == \"BOTHSEX\")\n",
    "]\n",
    "df1"
   ]
  },
  {
   "cell_type": "markdown",
   "metadata": {},
   "source": [
    "Now that the last three columns are constant, we will drop them."
   ]
  },
  {
   "cell_type": "code",
   "execution_count": null,
   "metadata": {},
   "outputs": [],
   "source": [
    "df1.drop([\"[Age]\", \"[Location]\", \"[Sex]\"], axis=1, inplace=True)\n",
    "df1"
   ]
  },
  {
   "cell_type": "markdown",
   "metadata": {},
   "source": [
    "The current index is also irrelevant. Let's convert `\"TimePeriod\"` to our index. "
   ]
  },
  {
   "cell_type": "code",
   "execution_count": null,
   "metadata": {},
   "outputs": [],
   "source": [
    "df1.set_index(\"TimePeriod\", inplace=True)\n",
    "df1"
   ]
  },
  {
   "cell_type": "markdown",
   "metadata": {},
   "source": [
    "Lastly, let's change `\"Value\"` to `\"Below Poverty (%)\"`."
   ]
  },
  {
   "cell_type": "code",
   "execution_count": null,
   "metadata": {},
   "outputs": [],
   "source": [
    "df1.rename(columns={\"Value\" : \"Below Poverty (%)\"}, inplace=True)\n",
    "df1"
   ]
  },
  {
   "cell_type": "markdown",
   "metadata": {},
   "source": [
    "## Speedrun: Renewable Energy Data Set"
   ]
  },
  {
   "cell_type": "markdown",
   "metadata": {},
   "source": [
    "We will basically do the same steps as above, but all at once. See if you can follow along line by line."
   ]
  },
  {
   "cell_type": "code",
   "execution_count": null,
   "metadata": {},
   "outputs": [],
   "source": [
    "df2 = pd.read_csv(\"data/07_renewable_energy.csv\")\n",
    "df2 = df2[[\"TimePeriod\", \"Value\"]]\n",
    "df2.dropna(inplace=True)\n",
    "df2 = df2.astype({\"TimePeriod\" : \"i\"})\n",
    "df2.set_index(\"TimePeriod\", inplace=True)\n",
    "df2 = df2.loc[\"2005\":\"2020\"]\n",
    "df2.rename(columns={\"Value\" : \"Renewable Energy Share (%)\"}, inplace=True)\n",
    "df2"
   ]
  },
  {
   "cell_type": "markdown",
   "metadata": {},
   "source": [
    "## From two to one"
   ]
  },
  {
   "cell_type": "markdown",
   "metadata": {},
   "source": [
    "Because our two DataFrames have the same index, we can concatenate them in `pandas`."
   ]
  },
  {
   "cell_type": "code",
   "execution_count": null,
   "metadata": {},
   "outputs": [],
   "source": [
    "df = pd.concat([df1, df2], axis=1)\t\t# Merging our two DataFrames\n",
    "df.index.names = [\"Year\"]\t\t\t\t# Renaming the index\n",
    "df"
   ]
  },
  {
   "cell_type": "markdown",
   "metadata": {},
   "source": [
    "#### Detour: visualization"
   ]
  },
  {
   "cell_type": "markdown",
   "metadata": {},
   "source": [
    "We'll discuss this more later, but we can now plot the DataFrame on a set of axes with `Matplotlib`."
   ]
  },
  {
   "cell_type": "code",
   "execution_count": null,
   "metadata": {},
   "outputs": [],
   "source": [
    "import matplotlib.pyplot as plt \n",
    "plt.grid()\n",
    "plt.scatter(\n",
    "\tdf.index, \n",
    "\tdf[\"Below Poverty (%)\"], \n",
    "\tmarker='o', \n",
    "\tlabel=\"Below poverty\"\n",
    ")\n",
    "plt.scatter(\n",
    "\tdf.index, \n",
    "\tdf[\"Renewable Energy Share (%)\"], \n",
    "\tmarker=\"^\", \n",
    "\tlabel=\"Renewable energy share\"\n",
    ")\n",
    "plt.xlabel(\"Year\")\n",
    "plt.ylabel(\"Percent\")\n",
    "plt.legend()\n",
    "plt.show()"
   ]
  },
  {
   "cell_type": "markdown",
   "metadata": {},
   "source": [
    "## Ufuncs"
   ]
  },
  {
   "cell_type": "markdown",
   "metadata": {},
   "source": [
    "All the `NumPy` UFuncs can be applied to DataFrames, provided they are applied to appropriate numerical data. "
   ]
  },
  {
   "cell_type": "markdown",
   "metadata": {},
   "source": []
  }
 ],
 "metadata": {
  "kernelspec": {
   "display_name": "Python 3",
   "language": "python",
   "name": "python3"
  },
  "language_info": {
   "codemirror_mode": {
    "name": "ipython",
    "version": 3
   },
   "file_extension": ".py",
   "mimetype": "text/x-python",
   "name": "python",
   "nbconvert_exporter": "python",
   "pygments_lexer": "ipython3",
   "version": "3.12.1"
  }
 },
 "nbformat": 4,
 "nbformat_minor": 2
}
