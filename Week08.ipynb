{
 "cells": [
  {
   "cell_type": "markdown",
   "metadata": {},
   "source": [
    "# Week 8: Plotting Data"
   ]
  },
  {
   "cell_type": "markdown",
   "metadata": {},
   "source": [
    "We will continue discussing pandas, but now we will be primarily focused on visualization. "
   ]
  },
  {
   "cell_type": "markdown",
   "metadata": {},
   "source": [
    "### Time data."
   ]
  },
  {
   "cell_type": "markdown",
   "metadata": {},
   "source": [
    "Dealing with time data is generally tricky. There are \n",
    "- timezones\n",
    "- daylight savings\n",
    "- bizarre formatting\n",
    "- inconsistent numbers (months have 28, 29, 30, 31 days)\n",
    "\n",
    "Moreover, time data is often not just a number (e.g. like an integer)."
   ]
  },
  {
   "cell_type": "markdown",
   "metadata": {},
   "source": [
    "A common Python package for dealing with time data is `datetime`. "
   ]
  },
  {
   "cell_type": "markdown",
   "metadata": {},
   "source": [
    "`pandas` has tools to deal with time data.\n",
    "\n",
    "Often one needs to give pandas a hint at how time data is formatted, and then pandas can reformat however is required. "
   ]
  },
  {
   "cell_type": "markdown",
   "metadata": {},
   "source": [
    "There are four basic styles:\n",
    "1. Date times: A specific date and time with timezone support. Similar to `datetime.datetime` from the standard library.\n",
    "2. Time deltas: An absolute time duration. Similar to `datetime.timedelta` from the standard library.\n",
    "3. Time spans: A span of time defined by a point in time and its associated frequency.\n",
    "4. Date offsets: A relative time duration that respects calendar arithmetic. Similar to `dateutil.relativedelta.relativedelta` from the `dateutil` package."
   ]
  },
  {
   "cell_type": "markdown",
   "metadata": {},
   "source": [
    "If you want to be overwhelmed by all that pandas can do with time data:\n",
    "\n",
    "[check this out](https://pandas.pydata.org/docs/user_guide/timeseries.html)."
   ]
  },
  {
   "cell_type": "code",
   "execution_count": null,
   "metadata": {},
   "outputs": [],
   "source": [
    "import pandas as pd\n",
    "import matplotlib.pyplot as plt"
   ]
  },
  {
   "cell_type": "markdown",
   "metadata": {},
   "source": [
    "We will look at the publicly available [HPSC's Covid-19 county data](https://data.gov.ie/dataset/covid-19-hpsc-county-statistics-historic-data1)."
   ]
  },
  {
   "cell_type": "code",
   "execution_count": null,
   "metadata": {},
   "outputs": [],
   "source": [
    "df = pd.read_csv(\"data/COVID-19_HPSC_County_Statistics_Historic_Data.csv\", index_col='TimeStamp', parse_dates=True)\n",
    "df.head()"
   ]
  },
  {
   "cell_type": "markdown",
   "metadata": {},
   "source": [
    "Let's split off two counties.\n",
    "\n",
    "[Recall that `query` defaults to making a copy while slicing defaults to a view.]"
   ]
  },
  {
   "cell_type": "code",
   "execution_count": 13,
   "metadata": {},
   "outputs": [
    {
     "data": {
      "text/html": [
       "<div>\n",
       "<style scoped>\n",
       "    .dataframe tbody tr th:only-of-type {\n",
       "        vertical-align: middle;\n",
       "    }\n",
       "\n",
       "    .dataframe tbody tr th {\n",
       "        vertical-align: top;\n",
       "    }\n",
       "\n",
       "    .dataframe thead th {\n",
       "        text-align: right;\n",
       "    }\n",
       "</style>\n",
       "<table border=\"1\" class=\"dataframe\">\n",
       "  <thead>\n",
       "    <tr style=\"text-align: right;\">\n",
       "      <th></th>\n",
       "      <th>OBJECTID</th>\n",
       "      <th>ORIGID</th>\n",
       "      <th>CountyName</th>\n",
       "      <th>PopulationCensus16</th>\n",
       "      <th>IGEasting</th>\n",
       "      <th>IGNorthing</th>\n",
       "      <th>Lat</th>\n",
       "      <th>Long</th>\n",
       "      <th>UGI</th>\n",
       "      <th>ConfirmedCovidCases</th>\n",
       "      <th>PopulationProportionCovidCases</th>\n",
       "      <th>ConfirmedCovidDeaths</th>\n",
       "      <th>ConfirmedCovidRecovered</th>\n",
       "      <th>SHAPE_Length</th>\n",
       "      <th>SHAPE_Area</th>\n",
       "    </tr>\n",
       "    <tr>\n",
       "      <th>TimeStamp</th>\n",
       "      <th></th>\n",
       "      <th></th>\n",
       "      <th></th>\n",
       "      <th></th>\n",
       "      <th></th>\n",
       "      <th></th>\n",
       "      <th></th>\n",
       "      <th></th>\n",
       "      <th></th>\n",
       "      <th></th>\n",
       "      <th></th>\n",
       "      <th></th>\n",
       "      <th></th>\n",
       "      <th></th>\n",
       "      <th></th>\n",
       "    </tr>\n",
       "  </thead>\n",
       "  <tbody>\n",
       "    <tr>\n",
       "      <th>2020-02-27 00:00:00+00:00</th>\n",
       "      <td>7</td>\n",
       "      <td>7</td>\n",
       "      <td>Galway</td>\n",
       "      <td>258058</td>\n",
       "      <td>151045</td>\n",
       "      <td>235818</td>\n",
       "      <td>53.3705</td>\n",
       "      <td>-8.7362</td>\n",
       "      <td>http://data.geohive.ie/resource/county/2ae1962...</td>\n",
       "      <td>0</td>\n",
       "      <td>NaN</td>\n",
       "      <td>NaN</td>\n",
       "      <td>NaN</td>\n",
       "      <td>14.972448</td>\n",
       "      <td>0.822419</td>\n",
       "    </tr>\n",
       "    <tr>\n",
       "      <th>2020-03-01 00:00:00+00:00</th>\n",
       "      <td>33</td>\n",
       "      <td>7</td>\n",
       "      <td>Galway</td>\n",
       "      <td>258058</td>\n",
       "      <td>151045</td>\n",
       "      <td>235818</td>\n",
       "      <td>53.3705</td>\n",
       "      <td>-8.7362</td>\n",
       "      <td>http://data.geohive.ie/resource/county/2ae1962...</td>\n",
       "      <td>0</td>\n",
       "      <td>NaN</td>\n",
       "      <td>NaN</td>\n",
       "      <td>NaN</td>\n",
       "      <td>14.972448</td>\n",
       "      <td>0.822419</td>\n",
       "    </tr>\n",
       "    <tr>\n",
       "      <th>2020-03-02 00:00:00+00:00</th>\n",
       "      <td>59</td>\n",
       "      <td>7</td>\n",
       "      <td>Galway</td>\n",
       "      <td>258058</td>\n",
       "      <td>151045</td>\n",
       "      <td>235818</td>\n",
       "      <td>53.3705</td>\n",
       "      <td>-8.7362</td>\n",
       "      <td>http://data.geohive.ie/resource/county/2ae1962...</td>\n",
       "      <td>0</td>\n",
       "      <td>0.0</td>\n",
       "      <td>NaN</td>\n",
       "      <td>NaN</td>\n",
       "      <td>14.972448</td>\n",
       "      <td>0.822419</td>\n",
       "    </tr>\n",
       "    <tr>\n",
       "      <th>2020-03-03 00:00:00+00:00</th>\n",
       "      <td>85</td>\n",
       "      <td>7</td>\n",
       "      <td>Galway</td>\n",
       "      <td>258058</td>\n",
       "      <td>151045</td>\n",
       "      <td>235818</td>\n",
       "      <td>53.3705</td>\n",
       "      <td>-8.7362</td>\n",
       "      <td>http://data.geohive.ie/resource/county/2ae1962...</td>\n",
       "      <td>0</td>\n",
       "      <td>0.0</td>\n",
       "      <td>NaN</td>\n",
       "      <td>NaN</td>\n",
       "      <td>14.972448</td>\n",
       "      <td>0.822419</td>\n",
       "    </tr>\n",
       "    <tr>\n",
       "      <th>2020-03-04 00:00:00+00:00</th>\n",
       "      <td>111</td>\n",
       "      <td>7</td>\n",
       "      <td>Galway</td>\n",
       "      <td>258058</td>\n",
       "      <td>151045</td>\n",
       "      <td>235818</td>\n",
       "      <td>53.3705</td>\n",
       "      <td>-8.7362</td>\n",
       "      <td>http://data.geohive.ie/resource/county/2ae1962...</td>\n",
       "      <td>0</td>\n",
       "      <td>0.0</td>\n",
       "      <td>NaN</td>\n",
       "      <td>NaN</td>\n",
       "      <td>14.972448</td>\n",
       "      <td>0.822419</td>\n",
       "    </tr>\n",
       "  </tbody>\n",
       "</table>\n",
       "</div>"
      ],
      "text/plain": [
       "                           OBJECTID  ORIGID CountyName  PopulationCensus16  \\\n",
       "TimeStamp                                                                    \n",
       "2020-02-27 00:00:00+00:00         7       7     Galway              258058   \n",
       "2020-03-01 00:00:00+00:00        33       7     Galway              258058   \n",
       "2020-03-02 00:00:00+00:00        59       7     Galway              258058   \n",
       "2020-03-03 00:00:00+00:00        85       7     Galway              258058   \n",
       "2020-03-04 00:00:00+00:00       111       7     Galway              258058   \n",
       "\n",
       "                           IGEasting  IGNorthing      Lat    Long  \\\n",
       "TimeStamp                                                           \n",
       "2020-02-27 00:00:00+00:00     151045      235818  53.3705 -8.7362   \n",
       "2020-03-01 00:00:00+00:00     151045      235818  53.3705 -8.7362   \n",
       "2020-03-02 00:00:00+00:00     151045      235818  53.3705 -8.7362   \n",
       "2020-03-03 00:00:00+00:00     151045      235818  53.3705 -8.7362   \n",
       "2020-03-04 00:00:00+00:00     151045      235818  53.3705 -8.7362   \n",
       "\n",
       "                                                                         UGI  \\\n",
       "TimeStamp                                                                      \n",
       "2020-02-27 00:00:00+00:00  http://data.geohive.ie/resource/county/2ae1962...   \n",
       "2020-03-01 00:00:00+00:00  http://data.geohive.ie/resource/county/2ae1962...   \n",
       "2020-03-02 00:00:00+00:00  http://data.geohive.ie/resource/county/2ae1962...   \n",
       "2020-03-03 00:00:00+00:00  http://data.geohive.ie/resource/county/2ae1962...   \n",
       "2020-03-04 00:00:00+00:00  http://data.geohive.ie/resource/county/2ae1962...   \n",
       "\n",
       "                           ConfirmedCovidCases  \\\n",
       "TimeStamp                                        \n",
       "2020-02-27 00:00:00+00:00                    0   \n",
       "2020-03-01 00:00:00+00:00                    0   \n",
       "2020-03-02 00:00:00+00:00                    0   \n",
       "2020-03-03 00:00:00+00:00                    0   \n",
       "2020-03-04 00:00:00+00:00                    0   \n",
       "\n",
       "                           PopulationProportionCovidCases  \\\n",
       "TimeStamp                                                   \n",
       "2020-02-27 00:00:00+00:00                             NaN   \n",
       "2020-03-01 00:00:00+00:00                             NaN   \n",
       "2020-03-02 00:00:00+00:00                             0.0   \n",
       "2020-03-03 00:00:00+00:00                             0.0   \n",
       "2020-03-04 00:00:00+00:00                             0.0   \n",
       "\n",
       "                           ConfirmedCovidDeaths  ConfirmedCovidRecovered  \\\n",
       "TimeStamp                                                                  \n",
       "2020-02-27 00:00:00+00:00                   NaN                      NaN   \n",
       "2020-03-01 00:00:00+00:00                   NaN                      NaN   \n",
       "2020-03-02 00:00:00+00:00                   NaN                      NaN   \n",
       "2020-03-03 00:00:00+00:00                   NaN                      NaN   \n",
       "2020-03-04 00:00:00+00:00                   NaN                      NaN   \n",
       "\n",
       "                           SHAPE_Length  SHAPE_Area  \n",
       "TimeStamp                                            \n",
       "2020-02-27 00:00:00+00:00     14.972448    0.822419  \n",
       "2020-03-01 00:00:00+00:00     14.972448    0.822419  \n",
       "2020-03-02 00:00:00+00:00     14.972448    0.822419  \n",
       "2020-03-03 00:00:00+00:00     14.972448    0.822419  \n",
       "2020-03-04 00:00:00+00:00     14.972448    0.822419  "
      ]
     },
     "execution_count": 13,
     "metadata": {},
     "output_type": "execute_result"
    }
   ],
   "source": [
    "df_gal = df.query(\"CountyName == 'Galway'\")\n",
    "df_gal.head()"
   ]
  },
  {
   "cell_type": "code",
   "execution_count": 14,
   "metadata": {},
   "outputs": [
    {
     "data": {
      "text/plain": [
       "TimeStamp\n",
       "2020-02-27 00:00:00+00:00        0\n",
       "2020-03-01 00:00:00+00:00        0\n",
       "2020-03-02 00:00:00+00:00        0\n",
       "2020-03-03 00:00:00+00:00        0\n",
       "2020-03-04 00:00:00+00:00        0\n",
       "                             ...  \n",
       "2023-11-09 00:00:00+00:00    93033\n",
       "2023-11-10 00:00:00+00:00    93041\n",
       "2023-11-11 00:00:00+00:00    93041\n",
       "2023-11-12 00:00:00+00:00    93041\n",
       "2023-11-13 00:00:00+00:00    93061\n",
       "Name: ConfirmedCovidCases, Length: 1354, dtype: int64"
      ]
     },
     "execution_count": 14,
     "metadata": {},
     "output_type": "execute_result"
    }
   ],
   "source": [
    "df_gal[\"ConfirmedCovidCases\"]"
   ]
  },
  {
   "cell_type": "code",
   "execution_count": 17,
   "metadata": {},
   "outputs": [
    {
     "data": {
      "image/png": "[encoded data removed]",
      "text/plain": [
       "<Figure size 640x480 with 1 Axes>"
      ]
     },
     "metadata": {},
     "output_type": "display_data"
    }
   ],
   "source": [
    "_ = df_gal[\"ConfirmedCovidCases\"].plot()"
   ]
  },
  {
   "cell_type": "code",
   "execution_count": null,
   "metadata": {},
   "outputs": [],
   "source": []
  }
 ],
 "metadata": {
  "kernelspec": {
   "display_name": "Python 3",
   "language": "python",
   "name": "python3"
  },
  "language_info": {
   "codemirror_mode": {
    "name": "ipython",
    "version": 3
   },
   "file_extension": ".py",
   "mimetype": "text/x-python",
   "name": "python",
   "nbconvert_exporter": "python",
   "pygments_lexer": "ipython3",
   "version": "3.12.0"
  }
 },
 "nbformat": 4,
 "nbformat_minor": 2
}
