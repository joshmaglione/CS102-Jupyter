{
 "cells": [
  {
   "cell_type": "markdown",
   "metadata": {},
   "source": [
    "[![Binder](https://mybinder.org/badge_logo.svg)](https://mybinder.org/v2/gh/joshmaglione/CS102-Jupyter/main?labpath=.%2FWeek08.ipynb) \n",
    "\n",
    "<a href=\"https://colab.research.google.com/github/joshmaglione/CS102-Jupyter/blob/main/Week08.ipynb\"><img src=\"https://colab.research.google.com/assets/colab-badge.svg\" alt=\"Open In Colab\"/></a> \n",
    "\n",
    "[View on GitHub](https://github.com/joshmaglione/CS102-Jupyter/blob/main/Week08.ipynb)"
   ]
  },
  {
   "cell_type": "markdown",
   "metadata": {},
   "source": [
    "# Week 8: Plotting Data"
   ]
  },
  {
   "cell_type": "markdown",
   "metadata": {},
   "source": [
    "We will continue discussing pandas, but now we will be primarily focused on visualization. "
   ]
  },
  {
   "cell_type": "markdown",
   "metadata": {},
   "source": [
    "### Time data."
   ]
  },
  {
   "cell_type": "markdown",
   "metadata": {},
   "source": [
    "Dealing with time data is generally tricky. There are \n",
    "- timezones\n",
    "- daylight savings\n",
    "- bizarre formatting\n",
    "- inconsistent numbers (months have 28, 29, 30, 31 days)\n",
    "\n",
    "Moreover, time data is often not just a number (e.g. like an integer)."
   ]
  },
  {
   "cell_type": "markdown",
   "metadata": {},
   "source": [
    "A common Python package for dealing with time data is `datetime`. "
   ]
  },
  {
   "cell_type": "markdown",
   "metadata": {},
   "source": [
    "`pandas` has tools to deal with time data.\n",
    "\n",
    "Often one needs to give pandas a hint at how time data is formatted, and then pandas can reformat however is required. "
   ]
  },
  {
   "cell_type": "markdown",
   "metadata": {},
   "source": [
    "There are four basic styles (taken directly from pandas doc referenced below):\n",
    "1. Date times: A specific date and time with timezone support. Similar to `datetime.datetime` from the standard library.\n",
    "2. Time deltas: An absolute time duration. Similar to `datetime.timedelta` from the standard library.\n",
    "3. Time spans: A span of time defined by a point in time and its associated frequency.\n",
    "4. Date offsets: A relative time duration that respects calendar arithmetic. Similar to `dateutil.relativedelta.relativedelta` from the `dateutil` package."
   ]
  },
  {
   "cell_type": "markdown",
   "metadata": {},
   "source": [
    "If you want to be overwhelmed by all that pandas can do with time data:\n",
    "\n",
    "[check this out](https://pandas.pydata.org/docs/user_guide/timeseries.html)."
   ]
  },
  {
   "cell_type": "code",
   "execution_count": null,
   "metadata": {},
   "outputs": [],
   "source": [
    "import pandas as pd"
   ]
  },
  {
   "cell_type": "markdown",
   "metadata": {},
   "source": [
    "We will look at the publicly available [HPSC's Covid-19 county data](https://data.gov.ie/dataset/covid-19-hpsc-county-statistics-historic-data1)."
   ]
  },
  {
   "cell_type": "code",
   "execution_count": null,
   "metadata": {},
   "outputs": [],
   "source": [
    "df = pd.read_csv(\n",
    "\t\"data/COVID-19_HPSC_County_Statistics_Historic_Data.csv\", \n",
    "\tindex_col='TimeStamp', parse_dates=True\n",
    ")\n",
    "df.head()"
   ]
  },
  {
   "cell_type": "markdown",
   "metadata": {},
   "source": [
    "Let's split off two counties.\n",
    "\n",
    "[Recall that `query` defaults to making a copy while slicing defaults to a view.]"
   ]
  },
  {
   "cell_type": "code",
   "execution_count": null,
   "metadata": {},
   "outputs": [],
   "source": [
    "df_gal = df.query(\"CountyName == 'Galway'\")\n",
    "df_gal.head()"
   ]
  },
  {
   "cell_type": "code",
   "execution_count": null,
   "metadata": {},
   "outputs": [],
   "source": [
    "df_gal[\"ConfirmedCovidCases\"]"
   ]
  },
  {
   "cell_type": "code",
   "execution_count": null,
   "metadata": {},
   "outputs": [],
   "source": [
    "_ = df_gal[\"ConfirmedCovidCases\"].plot()"
   ]
  },
  {
   "cell_type": "markdown",
   "metadata": {},
   "source": [
    "Note that `pandas` already knows how to interpret the time data."
   ]
  },
  {
   "cell_type": "markdown",
   "metadata": {},
   "source": [
    "We can plot two counties manually"
   ]
  },
  {
   "cell_type": "code",
   "execution_count": null,
   "metadata": {},
   "outputs": [],
   "source": [
    "df_don = df.query(\"CountyName == 'Donegal'\")\n",
    "df_don.head()"
   ]
  },
  {
   "cell_type": "code",
   "execution_count": null,
   "metadata": {},
   "outputs": [],
   "source": [
    "gal_v_don = pd.DataFrame({\n",
    "\t\"Galway\": df_gal[\"ConfirmedCovidCases\"], \n",
    "\t\"Donegal\": df_don[\"ConfirmedCovidCases\"]\n",
    "})\n",
    "gal_v_don.head()"
   ]
  },
  {
   "cell_type": "code",
   "execution_count": null,
   "metadata": {},
   "outputs": [],
   "source": [
    "_ = gal_v_don.plot()"
   ]
  },
  {
   "cell_type": "markdown",
   "metadata": {},
   "source": [
    "We can view specific years by accessing the `dt` attribute from the datetime data."
   ]
  },
  {
   "cell_type": "code",
   "execution_count": null,
   "metadata": {},
   "outputs": [],
   "source": [
    "_ = gal_v_don.query(\"TimeStamp.dt.year == 2020\").plot()"
   ]
  },
  {
   "cell_type": "markdown",
   "metadata": {},
   "source": [
    "Cumulative data is nice, but the daily values are where the real drama is found!\n",
    "\n",
    "We can use `diff` to take consecutive differences of our DataFrame. \n",
    "\n",
    "Since each row corresponds to a day, this will give us what we want."
   ]
  },
  {
   "cell_type": "code",
   "execution_count": null,
   "metadata": {},
   "outputs": [],
   "source": [
    "_ = (gal_v_don\n",
    "  .query(\"TimeStamp.dt.year == 2020\")\n",
    "  .diff()\n",
    "  .plot()\n",
    ")"
   ]
  },
  {
   "cell_type": "markdown",
   "metadata": {},
   "source": [
    "## Visualization with `Matplotlib`"
   ]
  },
  {
   "cell_type": "markdown",
   "metadata": {},
   "source": [
    "In the background, [`Matplotlib`](https://matplotlib.org/) is running with `pandas` to make these nice plots. "
   ]
  },
  {
   "cell_type": "markdown",
   "metadata": {},
   "source": [
    "There are lots of [examples](https://matplotlib.org/stable/gallery/index.html) on the Matplotlib's webpage."
   ]
  },
  {
   "cell_type": "markdown",
   "metadata": {},
   "source": [
    "### Plotting curves"
   ]
  },
  {
   "cell_type": "markdown",
   "metadata": {},
   "source": [
    "We'll do the simplest plots: plotting curves of the form $y=f(x)$. "
   ]
  },
  {
   "cell_type": "code",
   "execution_count": null,
   "metadata": {},
   "outputs": [],
   "source": [
    "import numpy as np\n",
    "import matplotlib.pyplot as plt"
   ]
  },
  {
   "cell_type": "markdown",
   "metadata": {},
   "source": [
    "Let's start with $f(x) = \\sin(x)$ for $0\\leqslant x \\leqslant 4\\pi$."
   ]
  },
  {
   "cell_type": "code",
   "execution_count": null,
   "metadata": {},
   "outputs": [],
   "source": [
    "xs = np.linspace(0, 4*np.pi, 100)\n",
    "ys = np.sin(xs)"
   ]
  },
  {
   "cell_type": "code",
   "execution_count": null,
   "metadata": {},
   "outputs": [],
   "source": [
    "_ = plt.plot(xs, ys)"
   ]
  },
  {
   "cell_type": "markdown",
   "metadata": {},
   "source": [
    "We can edit all sorts of data. Here's an example that we won't carefully go through.\n",
    "\n",
    "It is fairly self-explanitory what each line is doing."
   ]
  },
  {
   "cell_type": "code",
   "execution_count": null,
   "metadata": {},
   "outputs": [],
   "source": [
    "zs = np.cos(xs)\t\t\t# Add a cosine wave\n",
    "\n",
    "# Another common way to plot is to use the object-oriented interface\n",
    "fig, ax = plt.subplots()\n",
    "ax.grid(True)\n",
    "ax.set_title(\"Sine and Cosine Waves\")\n",
    "ax.set_xlabel(\"x\")\n",
    "ax.set_ylabel(\"y\")\n",
    "ax.plot(xs, ys, c='r', label=\"sin(x)\")\n",
    "ax.plot(xs, zs, c='b', label=\"cos(x)\")\n",
    "ax.legend()\n",
    "plt.xticks([0, np.pi, 2*np.pi, 3*np.pi, 4*np.pi], ['0', '$\\\\pi$', '$2\\\\pi$', '$3\\\\pi$', '$4\\\\pi$'])\n",
    "ax.xaxis.set_minor_locator(plt.MultipleLocator(np.pi/4))\n",
    "plt.yticks([-1, -0.5, 0, 0.5, 1])\n",
    "ax.yaxis.set_minor_locator(plt.MultipleLocator(0.25))\n",
    "# plt.axis('equal')\t\t# Make the x and y scales equal\n",
    "_ = plt.show()"
   ]
  },
  {
   "cell_type": "markdown",
   "metadata": {},
   "source": [
    "Color can be specified in many ways by using the `color` or just `c` keyword. If nothing is provided, Matplotlib will cycle through some default."
   ]
  },
  {
   "cell_type": "code",
   "execution_count": null,
   "metadata": {},
   "outputs": [],
   "source": [
    "xs = np.linspace(0, 10, 100)\n",
    "\n",
    "# specify color by name\n",
    "plt.plot(xs, xs + 0, color='blue', label='blue') \n",
    "\n",
    "# short color code (rgbcmyk)\n",
    "plt.plot(xs, xs + 1, color='g', label='g') \n",
    "\n",
    "# Grayscale between 0 and 1\n",
    "plt.plot(xs, xs + 2, color='0.75', label='0.75') \n",
    "\n",
    "# Hex code (RRGGBB from 00 to FF)\n",
    "plt.plot(xs, xs + 3, color='#FFDD44', label='#FFDD44') \n",
    "\n",
    "# RGB tuple, values 0 to 1\n",
    "plt.plot(xs, xs + 4, color=(1.0,0.2,0.3), label='(1.0,0.2,0.3)') \n",
    "\n",
    "# all HTML color names supported\n",
    "plt.plot(xs, xs + 5, color='chartreuse', label='chartreuse')\n",
    "\n",
    "_ = plt.legend()"
   ]
  },
  {
   "cell_type": "markdown",
   "metadata": {},
   "source": [
    "The line style can be adjusted using the `linestyle` keyword."
   ]
  },
  {
   "cell_type": "code",
   "execution_count": null,
   "metadata": {},
   "outputs": [],
   "source": [
    "plt.plot(xs, xs + 0, linestyle='-')  \t# solid\n",
    "plt.plot(xs, xs + 1, linestyle='--') \t# dashed\n",
    "plt.plot(xs, xs + 2, linestyle='-.') \t# dashdot\n",
    "plt.plot(xs, xs + 3, linestyle=':')\t\t# dotted\n",
    "_ = plt.show()"
   ]
  },
  {
   "cell_type": "markdown",
   "metadata": {},
   "source": [
    "Line style and color are such a common parameter to edit, that they can be combined without a keyword."
   ]
  },
  {
   "cell_type": "code",
   "execution_count": null,
   "metadata": {},
   "outputs": [],
   "source": [
    "plt.plot(xs, xs + 0, '-g')  \t# solid green\n",
    "plt.plot(xs, xs + 1, '--c') \t# dashed cyan\n",
    "plt.plot(xs, xs + 2, '-.k') \t# dashdot black\n",
    "plt.plot(xs, xs + 3, ':r')  \t# dotted red\n",
    "_ = plt.show()"
   ]
  },
  {
   "cell_type": "markdown",
   "metadata": {},
   "source": [
    "We could talk more about all of the specific aspects that can be changed in a plot. \n",
    "\n",
    "But I would rather show some cool pictures instead. 😅"
   ]
  },
  {
   "cell_type": "markdown",
   "metadata": {},
   "source": [
    "## Scatter plots"
   ]
  },
  {
   "cell_type": "markdown",
   "metadata": {},
   "source": [
    "Let's take our sine and cosine plots and add noise."
   ]
  },
  {
   "cell_type": "code",
   "execution_count": null,
   "metadata": {},
   "outputs": [],
   "source": [
    "xs = np.linspace(0, 4*np.pi, 100)\n",
    "ys = np.sin(xs)\n",
    "zs = np.cos(xs)\n",
    "noise1 = np.random.normal(0, 0.1, 100)\n",
    "noise2 = np.random.normal(0, 0.2, 100)"
   ]
  },
  {
   "cell_type": "code",
   "execution_count": null,
   "metadata": {},
   "outputs": [],
   "source": [
    "plt.scatter(xs, ys + noise1, c='r', label='sin(x)', marker='x')\n",
    "plt.scatter(xs, zs + noise2, c='b', label='cos(x)', marker='o')\n",
    "plt.legend()\n",
    "_ = plt.show()"
   ]
  },
  {
   "cell_type": "markdown",
   "metadata": {},
   "source": [
    "We can put our curves on this plot as well. "
   ]
  },
  {
   "cell_type": "code",
   "execution_count": null,
   "metadata": {},
   "outputs": [],
   "source": [
    "plt.scatter(xs, ys + noise1, c='r', label='sin(x)', marker='x')\n",
    "plt.scatter(xs, zs + noise2, c='b', label='cos(x)', marker='o')\n",
    "plt.plot(xs, ys, c='black', label=\"sin(x)\")\n",
    "plt.plot(xs, zs, c='orange', label=\"cose(x)\")\n",
    "plt.legend()\n",
    "_ = plt.show()"
   ]
  },
  {
   "cell_type": "markdown",
   "metadata": {},
   "source": [
    "By use of color and marker size, we can record two additional variables in our scatter plot. \n",
    "\n",
    "(Of course, this can be somewhat harder to discern, but it is helpful in som contexts.)"
   ]
  },
  {
   "cell_type": "code",
   "execution_count": null,
   "metadata": {},
   "outputs": [],
   "source": [
    "rng = np.random.RandomState()\n",
    "x = rng.randn(100)\n",
    "y = rng.randn(100)\n",
    "colors = rng.rand(100)\n",
    "sizes = 1000 * rng.rand(100)\t# pixels\n",
    "\n",
    "plt.figure(figsize=(12,6))\t# Set the size of the figure\n",
    "plt.scatter(x, y, c=colors, s=sizes, alpha=0.5, cmap='viridis')\n",
    "plt.colorbar()\n",
    "_ = plt.show()"
   ]
  },
  {
   "cell_type": "markdown",
   "metadata": {},
   "source": [
    "The `color` (or `c`) argument is automatically mapped to a color scale -- shown by the `colorbar` command.\n",
    "\n",
    "The size is also given in pixels."
   ]
  },
  {
   "cell_type": "markdown",
   "metadata": {},
   "source": [
    "#### The Iris data set"
   ]
  },
  {
   "cell_type": "markdown",
   "metadata": {},
   "source": [
    "The [Iris data set](https://en.wikipedia.org/wiki/Iris_flower_data_set) is standard data set used for various reasons.\n",
    "\n",
    "There are 50 samples of three species of Iris. Each sample has four measurements: length and width of the pedals and sepals."
   ]
  },
  {
   "cell_type": "code",
   "execution_count": null,
   "metadata": {},
   "outputs": [],
   "source": [
    "from sklearn.datasets import load_iris\n",
    "iris = load_iris()\n",
    "iris"
   ]
  },
  {
   "cell_type": "markdown",
   "metadata": {},
   "source": [
    "We will map the `target` array to color. Since there are only three speices, there will be three distinct colors.\n",
    "\n",
    "We have three more dimensions we can display: $x$, $y$, and size. "
   ]
  },
  {
   "cell_type": "markdown",
   "metadata": {},
   "source": [
    "There are four measurements, so there are $4$ different sets of size $3$ we can consider. \n",
    "\n",
    "Of those $3$, there are essentially only $3$ different plots -- where interchanging $x$ and $y$ isn't really different.\n",
    "\n",
    "In total, there are potentially $12$ distinct plots. Let's plot them all."
   ]
  },
  {
   "cell_type": "markdown",
   "metadata": {},
   "source": [
    "Here are some helper function to organize."
   ]
  },
  {
   "cell_type": "code",
   "execution_count": null,
   "metadata": {},
   "outputs": [],
   "source": [
    "def triple(i, j, s=False):\n",
    "\tv = list(range(4))\n",
    "\tv.remove(3 - j)\n",
    "\tu = v[:i] + v[i+1:] + [v[i]]\n",
    "\tif s:\n",
    "\t\treturn ''.join(map(str, u))\n",
    "\treturn u\n",
    "\n",
    "def scaled(arr, N=200):\n",
    "\tm = arr.max()\n",
    "\treturn N/m * arr"
   ]
  },
  {
   "cell_type": "markdown",
   "metadata": {},
   "source": [
    "Here's how we will organize. The string `'ijk'` represents the list `[i, j, k]`. \n",
    "\n",
    "The first two entries of the list are the $x$ and $y$ values, and the last entry is the size."
   ]
  },
  {
   "cell_type": "code",
   "execution_count": null,
   "metadata": {},
   "outputs": [],
   "source": [
    "np.array([[triple(i, j, s=True) for j in range(4)] for i in range(3)])"
   ]
  },
  {
   "cell_type": "markdown",
   "metadata": {},
   "source": [
    "Let's plot!"
   ]
  },
  {
   "cell_type": "code",
   "execution_count": null,
   "metadata": {},
   "outputs": [],
   "source": [
    "features = iris.data.T\n",
    "fig, axs = plt.subplots(3, 4, figsize=(12, 6))\n",
    "for i in range(3):\n",
    "    for j in range(4):\n",
    "        a, b, c = triple(i, j)\n",
    "        axs[i, j].scatter(features[a], features[b], alpha=0.5,\n",
    "            s=scaled(features[c], N=100), c=iris.target, cmap='viridis')\n",
    "        axs[i, j].set_xlabel(iris.feature_names[a])\n",
    "        axs[i, j].set_ylabel(iris.feature_names[b])\n",
    "        axs[i, j].set_title(iris.feature_names[c])\n",
    "plt.tight_layout()      # Make the labels fit\n",
    "_ = plt.show()"
   ]
  },
  {
   "cell_type": "markdown",
   "metadata": {},
   "source": [
    "Actually, there's some mathematics (I mean data analysis) to do here to make this clear-cut.\n",
    "\n",
    "I would do a principal component analysis (PCA).\n",
    "\n",
    "Sciket-learn discusses that approach [in their tutorial](https://scikit-learn.org/stable/auto_examples/datasets/plot_iris_dataset.html). \n",
    "\n",
    "[Foreshadowing]()"
   ]
  },
  {
   "cell_type": "markdown",
   "metadata": {},
   "source": [
    "## Histograms"
   ]
  },
  {
   "cell_type": "markdown",
   "metadata": {},
   "source": [
    "In a histogram, data are first grouped into *bins*, then the bins are plotted according to their size.\n",
    "\n",
    "If the data is somewhat continuous, then this is a discretization of the data. \n",
    "\n",
    "Bar charts are often used for histograms."
   ]
  },
  {
   "cell_type": "code",
   "execution_count": null,
   "metadata": {},
   "outputs": [],
   "source": [
    "data1 = rng.normal(size=1000)\n",
    "data2 = 4*rng.random(size=1000) - 2 \n",
    "_ = plt.hist(data1, alpha=1)\n",
    "# _ = plt.hist(data2, alpha=0.5)"
   ]
  },
  {
   "cell_type": "code",
   "execution_count": null,
   "metadata": {},
   "outputs": [],
   "source": [
    "_ = plt.hist(data1, bins=30, density=True, alpha=0.5, histtype='stepfilled', color='steelblue', edgecolor='blue')\n",
    "_ = plt.hist(data2, bins=30, density=True, alpha=0.5, histtype='stepfilled', color='salmon', edgecolor='red')"
   ]
  },
  {
   "cell_type": "markdown",
   "metadata": {},
   "source": [
    "'Steelblue' reminds me of ... "
   ]
  },
  {
   "cell_type": "markdown",
   "metadata": {},
   "source": [
    "![](imgs/Zoolander.jpg)"
   ]
  },
  {
   "cell_type": "markdown",
   "metadata": {},
   "source": [
    "Anyways, if you need histogram data without the histogram, you can use NumPy."
   ]
  },
  {
   "cell_type": "code",
   "execution_count": null,
   "metadata": {},
   "outputs": [],
   "source": [
    "counts, bin_edges = np.histogram(data1, bins=10)\n",
    "print(counts)\n",
    "print(bin_edges)"
   ]
  },
  {
   "cell_type": "markdown",
   "metadata": {},
   "source": [
    "## Bonus"
   ]
  },
  {
   "cell_type": "markdown",
   "metadata": {},
   "source": [
    "### Animations"
   ]
  },
  {
   "cell_type": "markdown",
   "metadata": {},
   "source": [
    "One can animate in Jupyter notebooks via Matplotlib.\n",
    "\n",
    "I learned about this on [Stack Overflow](https://stackoverflow.com/questions/35532498/animation-in-ipython-notebook/46878531)\n",
    "\n",
    "Below I've copied directly from one of the answers. "
   ]
  },
  {
   "cell_type": "code",
   "execution_count": null,
   "metadata": {},
   "outputs": [],
   "source": [
    "%matplotlib inline\n",
    "import matplotlib.pyplot as plt\n",
    "plt.rcParams[\"animation.html\"] = \"jshtml\"\n",
    "import matplotlib.animation\n",
    "import numpy as np\n",
    "\n",
    "t = np.linspace(0,2*np.pi)\n",
    "x = np.sin(t)\n",
    "\n",
    "fig, ax = plt.subplots()\n",
    "l, = ax.plot([0,2*np.pi],[-1,1])\n",
    "\n",
    "animate = lambda i: l.set_data(t[:i], x[:i])\n",
    "\n",
    "ani = matplotlib.animation.FuncAnimation(fig, animate, frames=len(t))\n",
    "ani"
   ]
  },
  {
   "cell_type": "markdown",
   "metadata": {},
   "source": [
    "### Grayscale image compression"
   ]
  },
  {
   "cell_type": "markdown",
   "metadata": {},
   "source": [
    "In `Week01.ipynb`, we saw an example of image compression, but we consider an entirely different approach here."
   ]
  },
  {
   "cell_type": "code",
   "execution_count": null,
   "metadata": {},
   "outputs": [],
   "source": [
    "from PIL import Image\n",
    "\n",
    "image_file = \"imgs/Zoolander.jpg\"\n",
    "\n",
    "img = np.asarray(Image.open(image_file).convert(\"L\"))\n",
    "fig, ax = plt.subplots(ncols=2, figsize=(12, 4))\n",
    "ax[0].imshow(img, cmap='gray', vmin=0, vmax=255)\n",
    "ax[0].axis(\"off\")\n",
    "ax[0].set_title(\"Blue Steel\")\n",
    "ax[1].hist(img.ravel(), bins=256)\n",
    "ax[1].set_xlabel(\"Pixel value\")\n",
    "ax[1].set_ylabel(\"Count of pixels\")\n",
    "ax[1].set_title(\"Distribution of the pixel values\")\n",
    "_ = fig.suptitle(\"Original image of Derek Zoolander\")"
   ]
  },
  {
   "cell_type": "markdown",
   "metadata": {},
   "source": [
    "Now we compress the image."
   ]
  },
  {
   "cell_type": "code",
   "execution_count": null,
   "metadata": {},
   "outputs": [],
   "source": [
    "n_bins = 10\n",
    "\n",
    "from sklearn.preprocessing import KBinsDiscretizer\n",
    "encoder = KBinsDiscretizer(\n",
    "    n_bins=n_bins,\n",
    "    encode=\"ordinal\",\n",
    "    strategy=\"uniform\",\n",
    "    random_state=0,\n",
    "    subsample=200_000,\n",
    ")\n",
    "compressed_img = encoder.fit_transform(img.reshape(-1, 1)).reshape(img.shape).astype(np.uint8)\n",
    "\n",
    "fig, ax = plt.subplots(ncols=2, figsize=(12, 4))\n",
    "ax[0].imshow(compressed_img, cmap=plt.cm.gray)\n",
    "ax[0].axis(\"off\")\n",
    "ax[0].set_title(\"Compressed Blue Steel\")\n",
    "ax[1].hist(compressed_img.ravel(), bins=256)\n",
    "ax[1].set_xlabel(\"Pixel value\")\n",
    "ax[1].set_ylabel(\"Number of pixels\")\n",
    "ax[1].set_title(\"Distribution of the pixel values\")\n",
    "_ = fig.suptitle(\"Derek Zoolander compressed using 3 bits and a K-means strategy\")"
   ]
  },
  {
   "cell_type": "markdown",
   "metadata": {},
   "source": [
    "This example was taken partially from the [Scikit-learn tutorial](https://scikit-learn.org/stable/auto_examples/cluster/plot_face_compress.html)."
   ]
  },
  {
   "cell_type": "markdown",
   "metadata": {},
   "source": [
    "## Exercises"
   ]
  },
  {
   "cell_type": "markdown",
   "metadata": {},
   "source": [
    "1. Use suitable functions and ranges to plot a circle of radius $3$ around the centre $(1,1)$.\n",
    "2. Plot the rational function $f(x) = \\frac{x^2 + x - 2}{x^3 + 6}$ and its derivative $f'(x)$ so that all interesting points (zeros, extreme values, inflection points, singularities, ...) are contained in the plot.\n",
    "3. Plot $f(x) = x^2 \\sin(\\pi/x)$ for $x$ in the range $[-0.3, 0.3]$."
   ]
  }
 ],
 "metadata": {
  "kernelspec": {
   "display_name": "Python 3",
   "language": "python",
   "name": "python3"
  },
  "language_info": {
   "codemirror_mode": {
    "name": "ipython",
    "version": 3
   },
   "file_extension": ".py",
   "mimetype": "text/x-python",
   "name": "python",
   "nbconvert_exporter": "python",
   "pygments_lexer": "ipython3",
   "version": "3.12.0"
  }
 },
 "nbformat": 4,
 "nbformat_minor": 2
}
