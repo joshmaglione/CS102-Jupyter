{
 "cells": [
  {
   "cell_type": "markdown",
   "metadata": {},
   "source": [
    "# Week 1: The basics"
   ]
  },
  {
   "cell_type": "markdown",
   "metadata": {},
   "source": [
    "In this part of CS102, we will study 4 ubiquitous [Python](https://www.python.org/) packages:\n",
    "- [NumPy](https://numpy.org/) : scientific computing\n",
    "- [pandas](https://pandas.pydata.org/) : data analysis\n",
    "- [Matplotlib](https://matplotlib.org/) : data visualisation\n",
    "- [scikit-learn](https://scikit-learn.org/stable/) : machine learning\n",
    "\n",
    "These cover the 4 main topics of CS102-2. We may use other pacakges as well, but these are our focus. "
   ]
  },
  {
   "cell_type": "markdown",
   "metadata": {},
   "source": [
    "## What are we even doing here? \n",
    "\n",
    "We will use [Jupyter notebooks](https://jupyter.org/). They enable to run code in real-time. \n",
    "\n",
    "There are a few ways to work with Jupyter notebooks (`ipynb` files). "
   ]
  },
  {
   "cell_type": "markdown",
   "metadata": {},
   "source": [
    "Install it on your local machine at [jupyter.org/install](https://jupyter.org/install).\n",
    "\n",
    "![](imgs/Jupyter.png)"
   ]
  },
  {
   "cell_type": "markdown",
   "metadata": {},
   "source": [
    "Use the [binder](https://mybinder.org/) button on the [GitHub page](https://github.com/joshmaglione/CS102-Jupyter?tab=readme-ov-file#binder).\n",
    "\n",
    "![](imgs/Binder.png)"
   ]
  },
  {
   "cell_type": "markdown",
   "metadata": {},
   "source": [
    "Do something else... You can read about what I do [here](https://github.com/joshmaglione/CS102-Jupyter?tab=readme-ov-file#the-way-i-jupyter-in-class)."
   ]
  },
  {
   "cell_type": "markdown",
   "metadata": {},
   "source": [
    "Either way, we need to interact with `Python`, which is the most popular language according to [TIOBE](https://www.tiobe.com/tiobe-index/)."
   ]
  },
  {
   "cell_type": "markdown",
   "metadata": {},
   "source": [
    "## OK, so how do I get `Python`? 🐍\n",
    "\n",
    "Multiple ways to get `Python` on your own machine."
   ]
  },
  {
   "cell_type": "markdown",
   "metadata": {},
   "source": [
    "Download and install from [python.org](https://www.python.org/downloads/).\n",
    "\n",
    "![](imgs/Python.png)"
   ]
  },
  {
   "cell_type": "markdown",
   "metadata": {},
   "source": [
    "Use [Conda](https://docs.conda.io/en/latest/) to install and manage various packages.\n",
    "\n",
    "![](imgs/Conda.png)"
   ]
  },
  {
   "cell_type": "markdown",
   "metadata": {},
   "source": []
  }
 ],
 "metadata": {
  "kernelspec": {
   "display_name": "Python 3 (ipykernel)",
   "language": "python",
   "name": "python3"
  },
  "language_info": {
   "codemirror_mode": {
    "name": "ipython",
    "version": 3
   },
   "file_extension": ".py",
   "mimetype": "text/x-python",
   "name": "python",
   "nbconvert_exporter": "python",
   "pygments_lexer": "ipython3",
   "version": "3.12.1"
  }
 },
 "nbformat": 4,
 "nbformat_minor": 4
}
