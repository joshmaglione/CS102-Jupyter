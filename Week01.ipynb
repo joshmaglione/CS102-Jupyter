{
 "cells": [
  {
   "cell_type": "markdown",
   "metadata": {},
   "source": [
    "[![Binder](https://mybinder.org/badge_logo.svg)](https://mybinder.org/v2/gh/joshmaglione/CS102-Jupyter/main?labpath=.%2FWeek01.ipynb)\n",
    "\n",
    "<a href=\"https://colab.research.google.com/github/joshmaglione/CS102-Jupyter/blob/main/Week01.ipynb\"><img src=\"https://colab.research.google.com/assets/colab-badge.svg\" alt=\"Open In Colab\"/></a>"
   ]
  },
  {
   "cell_type": "markdown",
   "metadata": {},
   "source": [
    "# Week 1: The basics"
   ]
  },
  {
   "cell_type": "markdown",
   "metadata": {},
   "source": [
    "## What are we even doing here? \n",
    "\n",
    "In this part of CS102, we will study 4 ubiquitous [Python](https://www.python.org/) packages:\n",
    "- [NumPy](https://numpy.org/) : scientific computing\n",
    "- [pandas](https://pandas.pydata.org/) : data analysis\n",
    "- [Matplotlib](https://matplotlib.org/) : data visualisation\n",
    "- [scikit-learn](https://scikit-learn.org/stable/) : machine learning\n",
    "\n",
    "These cover the 4 main topics of CS102-2. We may use other pacakges as well, but these are our focus. "
   ]
  },
  {
   "cell_type": "markdown",
   "metadata": {},
   "source": [
    "## Jupyter\n",
    "\n",
    "We will use [Jupyter notebooks](https://jupyter.org/). They enable us to display math (and text) and run code in real-time. \n",
    "\n",
    "There are a few ways to work with Jupyter notebooks (`ipynb` files). "
   ]
  },
  {
   "cell_type": "markdown",
   "metadata": {},
   "source": [
    "You can install it on your local machine at [jupyter.org/install](https://jupyter.org/install).\n",
    "\n",
    "![](imgs/Jupyter.png)"
   ]
  },
  {
   "cell_type": "markdown",
   "metadata": {},
   "source": [
    "You can use the [binder](https://mybinder.org/) button on the [GitHub page](https://github.com/joshmaglione/CS102-Jupyter?tab=readme-ov-file#binder).\n",
    "\n",
    "![](imgs/Binder.png)"
   ]
  },
  {
   "cell_type": "markdown",
   "metadata": {},
   "source": [
    "You can always just do something else... You can read about what I do [here](https://github.com/joshmaglione/CS102-Jupyter?tab=readme-ov-file#the-way-i-jupyter-in-class)."
   ]
  },
  {
   "cell_type": "markdown",
   "metadata": {},
   "source": [
    "Either way, we need to interact with `Python`, which is the most popular language according to [TIOBE](https://www.tiobe.com/tiobe-index/)."
   ]
  },
  {
   "cell_type": "markdown",
   "metadata": {},
   "source": [
    "## OK, so how do I get `Python`? 🐍\n",
    "\n",
    "Multiple ways to get `Python` on your own machine."
   ]
  },
  {
   "cell_type": "markdown",
   "metadata": {},
   "source": [
    "You can download and install from [python.org](https://www.python.org/downloads/).\n",
    "\n",
    "![](imgs/Python.png)"
   ]
  },
  {
   "cell_type": "markdown",
   "metadata": {},
   "source": [
    "You can use [Conda](https://docs.conda.io/en/latest/) to install and manage various packages.\n",
    "\n",
    "![](imgs/Conda.png)"
   ]
  },
  {
   "cell_type": "markdown",
   "metadata": {},
   "source": [
    "There are other ways as well. If you are having a hard time, send me an email (joshua.maglione@universityofgalway.ie), and we can figure it out."
   ]
  },
  {
   "cell_type": "markdown",
   "metadata": {},
   "source": [
    "## Show me what you've got\n",
    "\n",
    "Let's demonstrate these 4 packages (or modules) in concert. We will also use the `Pillow` package for image conversion. \n",
    "\n",
    "We will \n",
    "1. convert a picture into a list of its pixels in $\\mathbb{R}^3$ (for red, green, blue values), \n",
    "2. plot those points in a 3D scatter plot, \n",
    "3. then approximate our image using only $k$ distinct colours, for some input $k$."
   ]
  },
  {
   "cell_type": "markdown",
   "metadata": {},
   "source": [
    "Here is code to take a string (pointing to an image file) and return a 3D scatter plot of a sample of pixels. "
   ]
  },
  {
   "cell_type": "code",
   "execution_count": null,
   "metadata": {},
   "outputs": [],
   "source": [
    "def image_to_plot(file:str, N:int):\n",
    "    from PIL import Image\n",
    "    import numpy as np\n",
    "    import matplotlib.pyplot as plt\n",
    "    img = Image.open(file)\n",
    "    aimg = np.asarray(img)/255\n",
    "    acolor = aimg.reshape(aimg.shape[0]*aimg.shape[1], aimg.shape[2])\n",
    "    fig = plt.figure()\n",
    "    ax = fig.add_subplot(projection='3d')\n",
    "    rng = np.random.default_rng()\n",
    "    S = rng.choice(acolor.shape[0], size=N, replace=False)\n",
    "    # S = range(acolor.shape[0])\n",
    "    xs, ys, zs = np.array([acolor[s,:] for s in S]).T\n",
    "    ax.scatter3D(xs, ys, zs, s=0.5)\n",
    "    ax.set_xlabel(\"R\")\n",
    "    ax.set_ylabel(\"G\")\n",
    "    ax.set_zlabel(\"B\")\n",
    "    return ax"
   ]
  },
  {
   "cell_type": "markdown",
   "metadata": {},
   "source": [
    "Let's input our image which is `imgs/umbrellas.jpg`:\n",
    "\n",
    "![](imgs/umbrellas.jpg)\n",
    "\n",
    "This is about 400 x 600 pixels, so about $250,000$ total pixels."
   ]
  },
  {
   "cell_type": "code",
   "execution_count": null,
   "metadata": {},
   "outputs": [],
   "source": [
    "%matplotlib ipympl\n",
    "fig = image_to_plot(\"imgs/umbrellas.jpg\", 50000)"
   ]
  },
  {
   "cell_type": "code",
   "execution_count": null,
   "metadata": {},
   "outputs": [],
   "source": [
    "%matplotlib inline"
   ]
  },
  {
   "cell_type": "markdown",
   "metadata": {},
   "source": [
    "Now we provide the code to prescribe the exact number of colours."
   ]
  },
  {
   "cell_type": "code",
   "execution_count": null,
   "metadata": {},
   "outputs": [],
   "source": [
    "def k_colours(file:str, k:int):\n",
    "    from PIL import Image\n",
    "    import numpy as np\n",
    "    from sklearn.cluster import KMeans\n",
    "    import matplotlib.pyplot as plt\n",
    "    plt.figure().clear()\n",
    "    img = Image.open(file, )\n",
    "    aimg = np.asarray(img)/255\n",
    "    acolor = aimg.reshape(aimg.shape[0]*aimg.shape[1], aimg.shape[2])\n",
    "    kmeans = KMeans(n_clusters=k, random_state=0, n_init=\"auto\").fit(acolor)\n",
    "    means = [list(map(lambda x: x, pt)) for pt in kmeans.cluster_centers_]\n",
    "    result = np.asarray(list(map(lambda i: means[i], kmeans.labels_)))\n",
    "    aimg_new = result.reshape(aimg.shape[0], aimg.shape[1], aimg.shape[2])\n",
    "    return Image.fromarray((aimg_new * 255).astype(np.uint8))"
   ]
  },
  {
   "cell_type": "code",
   "execution_count": null,
   "metadata": {},
   "outputs": [],
   "source": [
    "k_colours(\"imgs/umbrellas.jpg\", 3)"
   ]
  },
  {
   "cell_type": "markdown",
   "metadata": {},
   "source": [
    "## Jupyter and IPython\n",
    "\n",
    "Jupyter notebooks run on `IPython` an interactive python interpreter. \n",
    "\n",
    "This provides additional functionality on top of python.\n",
    "\n",
    "We will discuss:\n",
    "1. `?` : documentation\n",
    "2. `<tab>` : auto-completion\n",
    "3. `%` : 'magic' commands\n",
    "4. `!` : shell commands"
   ]
  },
  {
   "cell_type": "markdown",
   "metadata": {},
   "source": [
    "### The `?` command\n",
    "\n",
    "The first command `?` gives basic help and guidance. "
   ]
  },
  {
   "cell_type": "code",
   "execution_count": null,
   "metadata": {},
   "outputs": [],
   "source": [
    "?"
   ]
  },
  {
   "cell_type": "markdown",
   "metadata": {},
   "source": [
    "We can use `?` on functions like `len` in python."
   ]
  },
  {
   "cell_type": "code",
   "execution_count": null,
   "metadata": {},
   "outputs": [],
   "source": [
    "len?"
   ]
  },
  {
   "cell_type": "markdown",
   "metadata": {},
   "source": [
    "We can use `?` on objects in python."
   ]
  },
  {
   "cell_type": "code",
   "execution_count": null,
   "metadata": {},
   "outputs": [],
   "source": [
    "L = [2, 3, 5, 7, 11]\n",
    "L?"
   ]
  },
  {
   "cell_type": "code",
   "execution_count": null,
   "metadata": {},
   "outputs": [],
   "source": [
    "?L"
   ]
  },
  {
   "cell_type": "markdown",
   "metadata": {},
   "source": [
    "It works on methods."
   ]
  },
  {
   "cell_type": "code",
   "execution_count": null,
   "metadata": {},
   "outputs": [],
   "source": [
    "L.append?"
   ]
  },
  {
   "cell_type": "markdown",
   "metadata": {},
   "source": [
    "It works on packages (i.e. modules)."
   ]
  },
  {
   "cell_type": "code",
   "execution_count": null,
   "metadata": {},
   "outputs": [],
   "source": [
    "import functools \n",
    "functools?"
   ]
  },
  {
   "cell_type": "markdown",
   "metadata": {},
   "source": [
    "Can use `??` for a verbose output. Sometimes it's the same as `?`."
   ]
  },
  {
   "cell_type": "markdown",
   "metadata": {},
   "source": [
    "### The `<tab>` command\n",
    "\n",
    "This is very simple. It can show you what is possible with a particular object."
   ]
  },
  {
   "cell_type": "code",
   "execution_count": null,
   "metadata": {},
   "outputs": [],
   "source": [
    "L = [2, 3, 5, 7, 11]\n",
    "i = 42\n",
    "# L.\n",
    "# i."
   ]
  },
  {
   "cell_type": "markdown",
   "metadata": {},
   "source": [
    "Also on packages."
   ]
  },
  {
   "cell_type": "code",
   "execution_count": null,
   "metadata": {},
   "outputs": [],
   "source": [
    "# functools."
   ]
  },
  {
   "cell_type": "markdown",
   "metadata": {},
   "source": [
    "### The 'magic' commands\n",
    "\n",
    "Magic commands are functions that are called 'outside' of python. \n",
    "\n",
    "I used one above: `%matplotlib`. This made the output from `matplotlib` *interactive*.\n",
    "\n",
    "You can read more about the possible magic commands in the [documentation](https://ipython.readthedocs.io/en/stable/interactive/magics.html). "
   ]
  },
  {
   "cell_type": "markdown",
   "metadata": {},
   "source": [
    "We can use `%timeit` to time the next function."
   ]
  },
  {
   "cell_type": "code",
   "execution_count": null,
   "metadata": {},
   "outputs": [],
   "source": [
    "%timeit _ = [x*x for x in range(100000)]\n",
    "# Computes x^2 for all integers x in [0, 100 000). "
   ]
  },
  {
   "cell_type": "markdown",
   "metadata": {},
   "source": [
    "There are magic commands for the entire cell. For example, we can write bash in the following cell."
   ]
  },
  {
   "cell_type": "code",
   "execution_count": null,
   "metadata": {},
   "outputs": [],
   "source": [
    "%%bash\n",
    "echo \"Hello world\"\n",
    "echo \"Goodbye cruel world\""
   ]
  },
  {
   "cell_type": "markdown",
   "metadata": {},
   "source": [
    "### The `!` command\n",
    "\n",
    "The `!` allows one to run shell commands in python. We will run `ls` and use it in our python script."
   ]
  },
  {
   "cell_type": "code",
   "execution_count": null,
   "metadata": {},
   "outputs": [],
   "source": [
    "files = !ls"
   ]
  },
  {
   "cell_type": "code",
   "execution_count": null,
   "metadata": {},
   "outputs": [],
   "source": [
    "print(\"The current working directory has the following files:\")\n",
    "for f in files: \n",
    "    print(\"\\t\" + f)"
   ]
  },
  {
   "cell_type": "markdown",
   "metadata": {},
   "source": [
    "## Importing packages in Python\n",
    "\n",
    "One of the main design philosophies of Python is *readability*. \n",
    "\n",
    "Python is not the fastest, but it is widely used in part because it is easy to read and write.\n",
    "\n",
    "The community has established conventions and 'unwritten rules' to help facilitate readability.\n",
    "\n",
    "One of those unwritten rules is how one imports popular packages."
   ]
  },
  {
   "cell_type": "code",
   "execution_count": null,
   "metadata": {},
   "outputs": [],
   "source": [
    "import numpy as np "
   ]
  },
  {
   "cell_type": "markdown",
   "metadata": {},
   "source": [
    "This enables us to interact with the `numpy` package by abbreviating `numpy` to `np`.\n",
    "\n",
    "Here are more conventions:"
   ]
  },
  {
   "cell_type": "code",
   "execution_count": null,
   "metadata": {},
   "outputs": [],
   "source": [
    "import matplotlib.pyplot as plt\n",
    "import pandas as pd"
   ]
  },
  {
   "cell_type": "markdown",
   "metadata": {},
   "source": [
    "With `scikit-learn` one often just imports what is needed. For example:"
   ]
  },
  {
   "cell_type": "code",
   "execution_count": null,
   "metadata": {},
   "outputs": [],
   "source": [
    "from sklearn.cluster import KMeans"
   ]
  },
  {
   "cell_type": "markdown",
   "metadata": {},
   "source": [
    "## Exercises\n",
    "\n",
    "Talk over the answers with a neighbour or two."
   ]
  },
  {
   "cell_type": "markdown",
   "metadata": {},
   "source": [
    "1. In `IPython` and in Jupyter notebooks, what operators provides access to the online documentation? \n",
    "2. Which command in Python gives one access to packages and libraries?\n",
    "3. What is the difference between `?` and `??`?\n",
    "4. What operator begins the magic commands? \n",
    "5. What is the difference between 'line magic' and 'cell magic'?\n",
    "6. What is the magic command for displaying the input history?\n",
    "7. Which key would one press for auto-completion?\n",
    "8. What happens when you run `In[1]`?\n",
    "9. What happens when you run `Out`?\n",
    "10. What symbol provides shell commands in Jupyter?"
   ]
  }
 ],
 "metadata": {
  "kernelspec": {
   "display_name": "Python 3 (ipykernel)",
   "language": "python",
   "name": "python3"
  },
  "language_info": {
   "codemirror_mode": {
    "name": "ipython",
    "version": 3
   },
   "file_extension": ".py",
   "mimetype": "text/x-python",
   "name": "python",
   "nbconvert_exporter": "python",
   "pygments_lexer": "ipython3",
   "version": "3.12.0"
  }
 },
 "nbformat": 4,
 "nbformat_minor": 4
}
