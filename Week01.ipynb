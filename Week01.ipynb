{
 "cells": [
  {
   "cell_type": "markdown",
   "metadata": {},
   "source": [
    "# Week 1: The basics"
   ]
  },
  {
   "cell_type": "markdown",
   "metadata": {},
   "source": [
    "In this part of CS102, we will study 4 ubiquitous [Python](https://www.python.org/) packages:\n",
    "- [NumPy](https://numpy.org/) : scientific computing\n",
    "- [pandas](https://pandas.pydata.org/) : data analysis\n",
    "- [Matplotlib](https://matplotlib.org/) : data visualisation\n",
    "- [scikit-learn](https://scikit-learn.org/stable/) : machine learning\n",
    "\n",
    "These cover the 4 main topics of CS102-2. We may use other pacakges as well, but these are our focus. "
   ]
  },
  {
   "cell_type": "markdown",
   "metadata": {},
   "source": [
    "## What are we even doing here? \n",
    "\n",
    "We will use [Jupyter notebooks](https://jupyter.org/). They enable to run code in real-time. \n",
    "\n",
    "There are a few ways to work with Jupyter notebooks (`ipynb` files). \n",
    "\n",
    "Install it on your local machine:\n",
    "\n",
    "![](imgs/Jupyter.png)\n",
    "\n",
    "Use the [binder](https://mybinder.org/) button:\n",
    "\n",
    "<embed src=\"https://github.com/joshmaglione/CS102-Jupyter\" width=\"600\" height=\"300\"/>\n",
    "\n",
    "Do something else  "
   ]
  },
  {
   "cell_type": "markdown",
   "metadata": {},
   "source": [
    "## OK, so how do I get Python? 🐍\n",
    "\n",
    "Multiple ways to get Python on your own machine.\n",
    "\n",
    "Download and install from [python.org](https://www.python.org/downloads/)\n",
    "\n",
    "<embed src=\"https://www.python.org/\" width=\"600\" height=\"200\"/>"
   ]
  },
  {
   "cell_type": "markdown",
   "metadata": {},
   "source": []
  }
 ],
 "metadata": {
  "kernelspec": {
   "display_name": "Python 3 (ipykernel)",
   "language": "python",
   "name": "python3"
  },
  "language_info": {
   "codemirror_mode": {
    "name": "ipython",
    "version": 3
   },
   "file_extension": ".py",
   "mimetype": "text/x-python",
   "name": "python",
   "nbconvert_exporter": "python",
   "pygments_lexer": "ipython3",
   "version": "3.12.1"
  }
 },
 "nbformat": 4,
 "nbformat_minor": 4
}
