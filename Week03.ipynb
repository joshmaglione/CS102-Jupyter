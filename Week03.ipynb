{
 "cells": [
  {
   "cell_type": "markdown",
   "metadata": {},
   "source": [
    "[![Binder](https://mybinder.org/badge_logo.svg)](https://mybinder.org/v2/gh/joshmaglione/CS102-Jupyter/main?labpath=.%2FWeek03.ipynb) (2m54s to load)\n",
    "\n",
    "<a href=\"https://colab.research.google.com/github/joshmaglione/CS102-Jupyter/blob/main/Week03.ipynb\"><img src=\"https://colab.research.google.com/assets/colab-badge.svg\" alt=\"Open In Colab\"/></a> (Google account needed)"
   ]
  },
  {
   "cell_type": "markdown",
   "metadata": {},
   "source": [
    "# Week 3: Indexing, Reshaping, and Computing with `ndarray`"
   ]
  },
  {
   "cell_type": "markdown",
   "metadata": {},
   "source": [
    "From last time:\n",
    "- NumPy arrays have type `ndarray`\n",
    "- `ndarray`s are *homogeneous multi-dimensional* collections of data. \n",
    "- Some attributes of an `ndarray`:\n",
    "  - `dtype` : the data type of the entries,\n",
    "  - `ndim` : the number of dimensions, \n",
    "  - `shape` : the size of each dimension, \n",
    "  - `size` : the total size of the array"
   ]
  },
  {
   "cell_type": "markdown",
   "metadata": {},
   "source": [
    "Additional attributes include:\n",
    "- `itemsize` : the size (in bytes) of each array element, \n",
    "- `nbytes` : the total bytes used by the array."
   ]
  },
  {
   "cell_type": "markdown",
   "metadata": {},
   "source": [
    "## Some advantages of the `ndarray`"
   ]
  },
  {
   "cell_type": "code",
   "execution_count": null,
   "metadata": {},
   "outputs": [],
   "source": [
    "import numpy as np"
   ]
  },
  {
   "cell_type": "markdown",
   "metadata": {},
   "source": [
    "### Memory efficiency"
   ]
  },
  {
   "cell_type": "markdown",
   "metadata": {},
   "source": [
    "Let's look at the size (in bytes) of an instance of `ndarray`."
   ]
  },
  {
   "cell_type": "code",
   "execution_count": null,
   "metadata": {},
   "outputs": [],
   "source": [
    "x3 = np.random.randint(10, size=(3, 2, 5)) \n",
    "print(x3)"
   ]
  },
  {
   "cell_type": "code",
   "execution_count": null,
   "metadata": {},
   "outputs": [],
   "source": [
    "print(f\"itemsize: {x3.itemsize} bytes\")\n",
    "print(f\"nbytes: {x3.nbytes} bytes\")"
   ]
  },
  {
   "cell_type": "markdown",
   "metadata": {},
   "source": [
    "Significantly fewer bytes. \n",
    "\n",
    "In general, `nbytes` is equal to `itemsize` times `size`."
   ]
  },
  {
   "cell_type": "code",
   "execution_count": null,
   "metadata": {},
   "outputs": [],
   "source": [
    "x3.itemsize * x3.size == x3.nbytes"
   ]
  },
  {
   "cell_type": "markdown",
   "metadata": {},
   "source": [
    "Let's compare this with a list in Python, and let's make them larger to more easily see the difference."
   ]
  },
  {
   "cell_type": "code",
   "execution_count": null,
   "metadata": {},
   "outputs": [],
   "source": [
    "from sys import getsizeof\n",
    "\n",
    "# Size of our lists\n",
    "N = 10000\n",
    "\n",
    "# Create a list of N elements \n",
    "S = range(N)\n",
    "\n",
    "# Get the size of every element and the container\n",
    "S_size = sum(getsizeof(x) for x in S) + getsizeof(S)\n",
    "\n",
    "# Create a Numpy array of N elements \n",
    "D = np.arange(N)\n",
    "\n",
    "print(f\"Size of the Python list + container:       {S_size} bytes\")\n",
    "print(f\"Size of one element in the NumPy array:    {D.itemsize} bytes\")\n",
    "print(f\"Size of the entire NumPy array:            {D.nbytes} bytes\")"
   ]
  },
  {
   "cell_type": "markdown",
   "metadata": {},
   "source": [
    "### Iterating through lists"
   ]
  },
  {
   "cell_type": "markdown",
   "metadata": {},
   "source": [
    "Let's do a simple operation with `list` and `ndarray`"
   ]
  },
  {
   "cell_type": "code",
   "execution_count": null,
   "metadata": {},
   "outputs": [],
   "source": [
    "# Create lists of size N\n",
    "N = 10000\n",
    "Xpy = range(N)\n",
    "Ypy = range(N)\n",
    "Xnp = np.arange(N)\n",
    "Ynp = np.arange(N)"
   ]
  },
  {
   "cell_type": "markdown",
   "metadata": {},
   "source": [
    "We will use the magic command `%timeit` to time how long it takes to execute."
   ]
  },
  {
   "cell_type": "code",
   "execution_count": null,
   "metadata": {},
   "outputs": [],
   "source": [
    "%timeit _ = [Xpy[i] + Ypy[i] for i in range(N)]"
   ]
  },
  {
   "cell_type": "code",
   "execution_count": null,
   "metadata": {},
   "outputs": [],
   "source": [
    "%timeit _ = Xnp + Ynp"
   ]
  },
  {
   "cell_type": "markdown",
   "metadata": {},
   "source": [
    "| prefix | symbol | value | \n",
    "| ------ | ------ | ----- | \n",
    "| deci   | d      | $10^{-1}$ |\n",
    "| centi  | c      | $10^{-2}$ |\n",
    "| milli  | m      | $10^{-3}$ |\n",
    "| micro  | μ      | $10^{-6}$ | \n",
    "| nano   | n      | $10^{-9}$ | \n",
    "| pico   | p      | $10^{-12}$ |\n",
    "| atto   | a      | $10^{-18}$ | \n",
    "\n",
    "[Attosecond physics 🤯](https://en.wikipedia.org/wiki/Attosecond_physics)"
   ]
  },
  {
   "cell_type": "markdown",
   "metadata": {},
   "source": [
    "The magnitude difference is 1000 times."
   ]
  },
  {
   "cell_type": "markdown",
   "metadata": {},
   "source": [
    "## Indexing with `ndarray`"
   ]
  },
  {
   "cell_type": "markdown",
   "metadata": {},
   "source": [
    "In Python counting starts with $0$, so it can be confusing.\n",
    "\n",
    "Sometimes I refer to the first entry of a list as the 'first' entry, and sometimes I refer to it as the 'zeroth' entry. \n",
    "\n",
    "This is confusing, but I try to correct myself and use 'zeroth'.\n",
    "\n",
    "For the other entries, I generally match what Python would use. "
   ]
  },
  {
   "cell_type": "markdown",
   "metadata": {},
   "source": [
    "The simplest example is the $1$-dimensional array, so let's work with that. "
   ]
  },
  {
   "cell_type": "code",
   "execution_count": null,
   "metadata": {},
   "outputs": [],
   "source": [
    "a1 = np.random.randint(100, size=6)\n",
    "print(a1)"
   ]
  },
  {
   "cell_type": "markdown",
   "metadata": {},
   "source": [
    "We access the entries of `a1` (and any $1$-dimensional array) with a single integer. \n",
    "\n",
    "In our example the integers $\\{0, 1, 2, 3, 4, 5\\}$ are suitable."
   ]
  },
  {
   "cell_type": "code",
   "execution_count": null,
   "metadata": {},
   "outputs": [],
   "source": [
    "a1[0]"
   ]
  },
  {
   "cell_type": "code",
   "execution_count": null,
   "metadata": {},
   "outputs": [],
   "source": [
    "a1[2]"
   ]
  },
  {
   "cell_type": "code",
   "execution_count": null,
   "metadata": {},
   "outputs": [],
   "source": [
    "a1[5]"
   ]
  },
  {
   "cell_type": "code",
   "execution_count": null,
   "metadata": {},
   "outputs": [],
   "source": [
    "# a1[6]       # naughty naughty"
   ]
  },
  {
   "cell_type": "markdown",
   "metadata": {},
   "source": [
    "Nonnegative integers are used to access entries from left to right.\n",
    "\n",
    "Negative integers are used to access entries from right to left.\n",
    "\n",
    "For our example, we can also use the integers from $\\{-1,-2,-3,-4,-5,-6\\}$."
   ]
  },
  {
   "cell_type": "code",
   "execution_count": null,
   "metadata": {},
   "outputs": [],
   "source": [
    "a1[-1]"
   ]
  },
  {
   "cell_type": "code",
   "execution_count": null,
   "metadata": {},
   "outputs": [],
   "source": [
    "a1[-3]"
   ]
  },
  {
   "cell_type": "code",
   "execution_count": null,
   "metadata": {},
   "outputs": [],
   "source": [
    "a1[-6]"
   ]
  },
  {
   "cell_type": "code",
   "execution_count": null,
   "metadata": {},
   "outputs": [],
   "source": [
    "# a[-10]        # naughty naughty"
   ]
  },
  {
   "cell_type": "markdown",
   "metadata": {},
   "source": [
    "Every $1$-dimensional `ndarray` of length $N$ can be indexed with the integers \n",
    "$$\n",
    "    \\{-N,\\ -N+1,\\ \\dots,\\ -1,\\ 0,\\ 1,\\ \\dots,\\ N-2,\\ N-1\\} . \n",
    "$$"
   ]
  },
  {
   "cell_type": "markdown",
   "metadata": {},
   "source": [
    "**Quick Note.** You can determine the length of an array `a` by `len(a)`."
   ]
  },
  {
   "cell_type": "markdown",
   "metadata": {},
   "source": [
    "We can surgically change one entry of the array"
   ]
  },
  {
   "cell_type": "code",
   "execution_count": null,
   "metadata": {},
   "outputs": [],
   "source": [
    "a1[3] = 137\n",
    "print(a1)"
   ]
  },
  {
   "cell_type": "markdown",
   "metadata": {},
   "source": [
    "We can take this ideas and generalize to higher dimensional arrays.\n",
    "\n",
    "Let's see the leap from $1$ to $2$ dimensions."
   ]
  },
  {
   "cell_type": "code",
   "execution_count": null,
   "metadata": {},
   "outputs": [],
   "source": [
    "a2 = np.random.randint(100, size=(3, 9))\n",
    "print(a2)"
   ]
  },
  {
   "cell_type": "markdown",
   "metadata": {},
   "source": [
    "Entries are indexed the same way we index matrices. \n",
    "\n",
    "For example, the $(i,j)$ entry of a matrix lies in the $i$th row and $j$th column. \n",
    "\n",
    "We access entries by pairs of integers."
   ]
  },
  {
   "cell_type": "code",
   "execution_count": null,
   "metadata": {},
   "outputs": [],
   "source": [
    "a2[0, 0]"
   ]
  },
  {
   "cell_type": "code",
   "execution_count": null,
   "metadata": {},
   "outputs": [],
   "source": [
    "a2[0, 4]"
   ]
  },
  {
   "cell_type": "code",
   "execution_count": null,
   "metadata": {},
   "outputs": [],
   "source": [
    "a2[2, 6]"
   ]
  },
  {
   "cell_type": "markdown",
   "metadata": {},
   "source": [
    "We can think of the first entry as taking an integer from \n",
    "$$\n",
    "    \\{-3, -2, -1, 0, 1, 2\\}\n",
    "$$\n",
    "\n",
    "and the second entry from\n",
    "$$\n",
    "    \\{-9, -8, -7, -6, -5, -4, -3, -2, -1, 0, 1, 2, 3, 4, 5, 6, 7, 8\\}.\n",
    "$$"
   ]
  },
  {
   "cell_type": "code",
   "execution_count": null,
   "metadata": {},
   "outputs": [],
   "source": [
    "a2[-2, 8]"
   ]
  },
  {
   "cell_type": "markdown",
   "metadata": {},
   "source": [
    "Moving to higher dimensions, the same ideas apply."
   ]
  },
  {
   "cell_type": "code",
   "execution_count": null,
   "metadata": {},
   "outputs": [],
   "source": [
    "a5 = np.random.randint(100, size=(4, 3, 5, 7, 2))\n",
    "print(a5)"
   ]
  },
  {
   "cell_type": "code",
   "execution_count": null,
   "metadata": {},
   "outputs": [],
   "source": [
    "a5[0, 0, 0, 0, 0]"
   ]
  },
  {
   "cell_type": "markdown",
   "metadata": {},
   "source": [
    "There are a few more indexing tricks, but this covers most of what one would do.\n",
    "\n",
    "If you want to learn more, check out the [documentation](https://numpy.org/doc/stable/user/basics.indexing.html)."
   ]
  },
  {
   "cell_type": "markdown",
   "metadata": {},
   "source": [
    "## Slicing arrays"
   ]
  },
  {
   "cell_type": "markdown",
   "metadata": {},
   "source": [
    "A slice of an array is a subarray, which can be lower-dimensional than the original."
   ]
  },
  {
   "cell_type": "markdown",
   "metadata": {},
   "source": [
    "### One-dimensional slices"
   ]
  },
  {
   "cell_type": "markdown",
   "metadata": {},
   "source": [
    "In some sense, this is the most boring, but it's also the easiest to understand.\n",
    "\n",
    "Accessing entries was done by `a1[k]` for some $k$.\n",
    "\n",
    "We will take a range of entries from `a1`."
   ]
  },
  {
   "cell_type": "code",
   "execution_count": null,
   "metadata": {},
   "outputs": [],
   "source": [
    "print(a1)"
   ]
  },
  {
   "cell_type": "code",
   "execution_count": null,
   "metadata": {},
   "outputs": [],
   "source": [
    "print(a1[1:5])"
   ]
  },
  {
   "cell_type": "markdown",
   "metadata": {},
   "source": [
    "The syntax `a1[i:j]` takes all entries from $i$ to (and including) $j-1$. "
   ]
  },
  {
   "cell_type": "code",
   "execution_count": null,
   "metadata": {},
   "outputs": [],
   "source": [
    "print(a1[0:6])"
   ]
  },
  {
   "cell_type": "code",
   "execution_count": null,
   "metadata": {},
   "outputs": [],
   "source": [
    "print(a1[-6:-1])"
   ]
  },
  {
   "cell_type": "markdown",
   "metadata": {},
   "source": [
    "There's a *third* argument you can use."
   ]
  },
  {
   "cell_type": "code",
   "execution_count": null,
   "metadata": {},
   "outputs": [],
   "source": [
    "a1 = np.arange(20)\n",
    "print(a1)"
   ]
  },
  {
   "cell_type": "code",
   "execution_count": null,
   "metadata": {},
   "outputs": [],
   "source": [
    "print(a1[0:20:2])"
   ]
  },
  {
   "cell_type": "code",
   "execution_count": null,
   "metadata": {},
   "outputs": [],
   "source": [
    "print(a1[:5])\n",
    "print(a1[5:])\n",
    "print(a1[:])"
   ]
  },
  {
   "cell_type": "code",
   "execution_count": null,
   "metadata": {},
   "outputs": [],
   "source": [
    "print(a1[::2])\n",
    "print(a1[::])\n",
    "print(a1[::-1])"
   ]
  },
  {
   "cell_type": "markdown",
   "metadata": {},
   "source": [
    "### Jumping to $3$ dimensions"
   ]
  },
  {
   "cell_type": "markdown",
   "metadata": {},
   "source": [
    "It might be helpful to visualize a $3$-dimensional array as a rectangular prism of data.\n",
    "\n",
    "The following is an illustration of a $(5\\times 6\\times 4)$-array.\n",
    "\n",
    "![](imgs/multiway_array.png)"
   ]
  },
  {
   "cell_type": "code",
   "execution_count": null,
   "metadata": {},
   "outputs": [],
   "source": [
    "a3 = np.random.randint(10, size=(5, 6, 4))\n",
    "print(a3)"
   ]
  },
  {
   "cell_type": "markdown",
   "metadata": {},
   "source": [
    "'Slicing' is an operation on arrays that yield 'subarrays'. \n",
    "\n",
    "For example, here are a few slices of the above array:\n",
    "\n",
    "![](imgs/sliced.png)"
   ]
  },
  {
   "cell_type": "code",
   "execution_count": null,
   "metadata": {},
   "outputs": [],
   "source": [
    "for k in range(4):\n",
    "    print(a3[:, :, k])\n",
    "    print()"
   ]
  },
  {
   "cell_type": "code",
   "execution_count": null,
   "metadata": {},
   "outputs": [],
   "source": [
    "print(a3[0])\n",
    "print()\n",
    "print(a3[0, :, :])"
   ]
  },
  {
   "cell_type": "markdown",
   "metadata": {},
   "source": [
    "## Creating copies"
   ]
  },
  {
   "cell_type": "markdown",
   "metadata": {},
   "source": [
    "This might seem silly, but it is important. \n",
    "\n",
    "Here's a problem without an error. "
   ]
  },
  {
   "cell_type": "code",
   "execution_count": null,
   "metadata": {},
   "outputs": [],
   "source": [
    "a2 = np.random.randint(10, size=(3, 4))\n",
    "print(a2)"
   ]
  },
  {
   "cell_type": "code",
   "execution_count": null,
   "metadata": {},
   "outputs": [],
   "source": [
    "b2 = a2[1:, 1:]\n",
    "print(b2)"
   ]
  },
  {
   "cell_type": "code",
   "execution_count": null,
   "metadata": {},
   "outputs": [],
   "source": [
    "b2[0, 0] = -1\n",
    "print(b2)"
   ]
  },
  {
   "cell_type": "code",
   "execution_count": null,
   "metadata": {},
   "outputs": [],
   "source": [
    "print(a2)"
   ]
  },
  {
   "cell_type": "markdown",
   "metadata": {},
   "source": [
    "This might not be intended. If you want to edit `b2` independently of `a2`, they need to be independent of each other.\n",
    "\n",
    "We can do this by the `copy` method."
   ]
  },
  {
   "cell_type": "code",
   "execution_count": null,
   "metadata": {},
   "outputs": [],
   "source": [
    "b2 = a2[1:, 1:].copy()\n",
    "print(b2)"
   ]
  },
  {
   "cell_type": "code",
   "execution_count": null,
   "metadata": {},
   "outputs": [],
   "source": [
    "b2[0, 0] = 42\n",
    "print(b2)\n",
    "print()\n",
    "print(a2)"
   ]
  },
  {
   "cell_type": "markdown",
   "metadata": {},
   "source": [
    "Be careful out there."
   ]
  },
  {
   "cell_type": "markdown",
   "metadata": {},
   "source": [
    "## Reshaping"
   ]
  },
  {
   "cell_type": "markdown",
   "metadata": {},
   "source": [
    "We can reshape arrays into other appropriate sizes."
   ]
  },
  {
   "cell_type": "code",
   "execution_count": null,
   "metadata": {},
   "outputs": [],
   "source": [
    "a1 = np.arange(10)\n",
    "a2 = a1.reshape(2, 5)\n",
    "print(a1)\n",
    "print()\n",
    "print(a2)"
   ]
  },
  {
   "cell_type": "code",
   "execution_count": null,
   "metadata": {},
   "outputs": [],
   "source": [
    "a2[0, 0] = 10\n",
    "print(a2)"
   ]
  },
  {
   "cell_type": "code",
   "execution_count": null,
   "metadata": {},
   "outputs": [],
   "source": [
    "print(a1)"
   ]
  },
  {
   "cell_type": "markdown",
   "metadata": {},
   "source": [
    "Therefore `reshape` is not making a copy in general. Keep that in mind. "
   ]
  },
  {
   "cell_type": "markdown",
   "metadata": {},
   "source": [
    "The shapes are all distinct:\n",
    "$$\n",
    "    (n),\\; (1, n),\\; (n, 1),\\; (n, 1, 1),\\; (1, 1, n, 1, 1, 1),\\; \\text{etc}.\n",
    "$$"
   ]
  },
  {
   "cell_type": "code",
   "execution_count": null,
   "metadata": {},
   "outputs": [],
   "source": [
    "a1 = np.arange(5)\n",
    "a2_r = np.arange(5).reshape(1, 5)\n",
    "a2_c = np.arange(5).reshape(5, 1)\n",
    "a4 = np.arange(5).reshape(1, 5, 1, 1)"
   ]
  },
  {
   "cell_type": "code",
   "execution_count": null,
   "metadata": {},
   "outputs": [],
   "source": [
    "print(a1)\n",
    "print(a2_r)\n",
    "print(a2_c)\n",
    "print(a4)"
   ]
  },
  {
   "cell_type": "markdown",
   "metadata": {},
   "source": [
    "### `newaxis`\n",
    "\n",
    "A common enough reshape occurs when one takes a $1$-dimensional array and converts it to either a row or column vector. \n",
    "\n",
    "`reshape` works here, but so does `newaxis`."
   ]
  },
  {
   "cell_type": "code",
   "execution_count": null,
   "metadata": {},
   "outputs": [],
   "source": [
    "print(a1)"
   ]
  },
  {
   "cell_type": "code",
   "execution_count": null,
   "metadata": {},
   "outputs": [],
   "source": [
    "print(a1[np.newaxis, :])"
   ]
  },
  {
   "cell_type": "code",
   "execution_count": null,
   "metadata": {},
   "outputs": [],
   "source": [
    "print(a1[:, np.newaxis])"
   ]
  },
  {
   "cell_type": "code",
   "execution_count": null,
   "metadata": {},
   "outputs": [],
   "source": [
    "print(a1[np.newaxis, :, np.newaxis, np.newaxis])"
   ]
  },
  {
   "cell_type": "markdown",
   "metadata": {},
   "source": [
    "## Concatenating"
   ]
  },
  {
   "cell_type": "markdown",
   "metadata": {},
   "source": [
    "As usual, with $1$-dimensional arrays the notion of concatenation is simple."
   ]
  },
  {
   "cell_type": "code",
   "execution_count": null,
   "metadata": {},
   "outputs": [],
   "source": [
    "a1 = np.arange(5)\n",
    "b1 = np.arange(20, 25)\n",
    "c1 = np.arange(9, 2, -2)"
   ]
  },
  {
   "cell_type": "code",
   "execution_count": null,
   "metadata": {},
   "outputs": [],
   "source": [
    "np.concatenate([a1, b1, c1])"
   ]
  },
  {
   "cell_type": "markdown",
   "metadata": {},
   "source": [
    "For higher dimensions, concatenation gets confusing. \n",
    "\n",
    "![](imgs/confused_thinking.png)"
   ]
  },
  {
   "cell_type": "markdown",
   "metadata": {},
   "source": [
    "**We concatenate *along* an axis.**\n",
    "\n",
    "For $1$-dimensional arrays, there is only one axis, so it is unambiguous. \n",
    "\n",
    "For $2$-dimensional arrays, you have horizontal and vertical. "
   ]
  },
  {
   "cell_type": "markdown",
   "metadata": {},
   "source": [
    "For an $n$-dimensional array, there are $n$ axes labeled $0$, $1$, up to $n-1$.\n",
    "\n",
    "When we indexed an entry, we gave specific coordinates to the *axes*.\n",
    "\n",
    "So `a3[i, j, k]` takes the entry in the $i^{th}$ position on axis 0, the $j^{th}$ position on axis 1, and the $k^{th}$ position on axis 2. "
   ]
  },
  {
   "cell_type": "markdown",
   "metadata": {},
   "source": [
    "#### Matrices\n",
    "\n",
    "Since `a2[i, j]` takes the entry in row $i$ and column $j$, we know \n",
    "- axis 0 : rows\n",
    "- axis 1 : columns\n",
    "\n",
    "Say it again:\n",
    "\n",
    "**We concatenate *along* an axis.**\n",
    "\n",
    "If we concatenate *along* axis 0, we concatenate along the rows. This is a *vertical* concatenation."
   ]
  },
  {
   "cell_type": "code",
   "execution_count": null,
   "metadata": {},
   "outputs": [],
   "source": [
    "a2 = np.arange(12).reshape(3, 4)\n",
    "b2 = np.arange(42, 50).reshape(2, 4)\n",
    "print(a2)\n",
    "print()\n",
    "print(b2)"
   ]
  },
  {
   "cell_type": "code",
   "execution_count": null,
   "metadata": {},
   "outputs": [],
   "source": [
    "print(np.concatenate([a2, b2], axis=0))"
   ]
  },
  {
   "cell_type": "markdown",
   "metadata": {},
   "source": [
    "If we concatenate *along* axis 1, we concatenate along the columns. This is a *horizontal* concatenation."
   ]
  },
  {
   "cell_type": "code",
   "execution_count": null,
   "metadata": {},
   "outputs": [],
   "source": [
    "a2 = np.arange(12).reshape(3, 4)\n",
    "b2 = np.arange(42, 48).reshape(3, 2)\n",
    "print(a2)\n",
    "print()\n",
    "print(b2)"
   ]
  },
  {
   "cell_type": "code",
   "execution_count": null,
   "metadata": {},
   "outputs": [],
   "source": [
    "print(np.concatenate([a2, b2], axis=1))"
   ]
  },
  {
   "cell_type": "markdown",
   "metadata": {},
   "source": [
    "I don't really want to go higher. "
   ]
  },
  {
   "cell_type": "markdown",
   "metadata": {},
   "source": [
    "## Splitting"
   ]
  },
  {
   "cell_type": "markdown",
   "metadata": {},
   "source": [
    "The function `split` is, in some sense, the inverse to `concatenate`, so we'll go fast."
   ]
  },
  {
   "cell_type": "code",
   "execution_count": null,
   "metadata": {},
   "outputs": [],
   "source": [
    "a1 = np.arange(8)\n",
    "print(a1)"
   ]
  },
  {
   "cell_type": "code",
   "execution_count": null,
   "metadata": {},
   "outputs": [],
   "source": [
    "print(np.split(a1, 4))"
   ]
  },
  {
   "cell_type": "code",
   "execution_count": null,
   "metadata": {},
   "outputs": [],
   "source": [
    "print(np.split(a1, [3, 4]))"
   ]
  },
  {
   "cell_type": "markdown",
   "metadata": {},
   "source": [
    "Running `np.split(a1, k)` for an integer $k$ returns `a1` split into *equal* sized arrays of length $k$.\n",
    "\n",
    "If $k$ is not a divisor of `len(a1)`, an error is raised."
   ]
  },
  {
   "cell_type": "markdown",
   "metadata": {},
   "source": [
    "Running `np.split(a1, [i, j, k])` with $i < j < k$, all three integers, then \n",
    "```python\n",
    "a1[:i],  a1[i:j],  a1[j:k],  a1[k:]\n",
    "```\n",
    "\n",
    "is returned."
   ]
  },
  {
   "cell_type": "markdown",
   "metadata": {},
   "source": [
    "The idea generalizes to higher dimensions using the keyword argument `axis`. \n",
    "\n",
    "As with concatenation, splitting happens *along* a given axis. "
   ]
  },
  {
   "cell_type": "markdown",
   "metadata": {},
   "source": [
    "## Exercises\n",
    "1. Starting with a $1$-dimensional array of length $60$,\n",
    "   reshape it into a $3$-dimensional array with dimensions\n",
    "   of sizes $5$, $4$ and $3$, respectively.\n",
    "2. Then split the array along the second dimenson,\n",
    "   the one of size $4$, into two halves.\n",
    "3. What does `np.newaxis` mean, and what is it used for?"
   ]
  }
 ],
 "metadata": {
  "kernelspec": {
   "display_name": "Python 3",
   "language": "python",
   "name": "python3"
  },
  "language_info": {
   "codemirror_mode": {
    "name": "ipython",
    "version": 3
   },
   "file_extension": ".py",
   "mimetype": "text/x-python",
   "name": "python",
   "nbconvert_exporter": "python",
   "pygments_lexer": "ipython3",
   "version": "3.12.0"
  }
 },
 "nbformat": 4,
 "nbformat_minor": 2
}
