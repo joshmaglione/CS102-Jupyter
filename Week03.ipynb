{
 "cells": [
  {
   "cell_type": "markdown",
   "metadata": {},
   "source": [
    "# Week 3: Indexing, Reshaping, and Computing with `ndarray`"
   ]
  },
  {
   "cell_type": "markdown",
   "metadata": {},
   "source": [
    "From last time:\n",
    "- NumPy arrays have type `ndarray`\n",
    "- `ndarray`s are *homogeneous multi-dimensional* collections of data. \n",
    "- Some attributes of an `ndarray`:\n",
    "  - `dtype` : the data type of the entries,\n",
    "  - `ndim` : the number of dimensions, \n",
    "  - `shape` : the size of each dimension, \n",
    "  - `size` : the total size of the array"
   ]
  },
  {
   "cell_type": "markdown",
   "metadata": {},
   "source": [
    "Additional attributes include:\n",
    "- `itemsize` : the size (in bytes) of each array element, \n",
    "- `nbytes` : the total bytes used by the array."
   ]
  },
  {
   "cell_type": "markdown",
   "metadata": {},
   "source": [
    "## Some advantages of the `ndarray`"
   ]
  },
  {
   "cell_type": "code",
   "execution_count": 1,
   "metadata": {},
   "outputs": [],
   "source": [
    "import numpy as np"
   ]
  },
  {
   "cell_type": "markdown",
   "metadata": {},
   "source": [
    "### Memory efficiency"
   ]
  },
  {
   "cell_type": "markdown",
   "metadata": {},
   "source": [
    "Let's look at the size (in bytes) of an instance of `ndarray`."
   ]
  },
  {
   "cell_type": "code",
   "execution_count": 5,
   "metadata": {},
   "outputs": [
    {
     "name": "stdout",
     "output_type": "stream",
     "text": [
      "[[[5 9 9 7 8]\n",
      "  [4 1 9 9 1]]\n",
      "\n",
      " [[7 2 9 9 1]\n",
      "  [6 3 6 0 2]]\n",
      "\n",
      " [[5 1 3 5 7]\n",
      "  [7 1 6 5 9]]]\n"
     ]
    }
   ],
   "source": [
    "x3 = np.random.randint(10, size=(3, 2, 5)) \n",
    "print(x3)"
   ]
  },
  {
   "cell_type": "code",
   "execution_count": 7,
   "metadata": {},
   "outputs": [
    {
     "name": "stdout",
     "output_type": "stream",
     "text": [
      "itemsize: 8 bytes\n",
      "nbytes: 240 bytes\n"
     ]
    }
   ],
   "source": [
    "print(f\"itemsize: {x3.itemsize} bytes\")\n",
    "print(f\"nbytes: {x3.nbytes} bytes\")"
   ]
  },
  {
   "cell_type": "markdown",
   "metadata": {},
   "source": [
    "Significantly fewer bytes. \n",
    "\n",
    "In general, `nbytes` is equal to `itemsize` times `size`."
   ]
  },
  {
   "cell_type": "code",
   "execution_count": 8,
   "metadata": {},
   "outputs": [
    {
     "data": {
      "text/plain": [
       "True"
      ]
     },
     "execution_count": 8,
     "metadata": {},
     "output_type": "execute_result"
    }
   ],
   "source": [
    "x3.itemsize * x3.size == x3.nbytes"
   ]
  },
  {
   "cell_type": "markdown",
   "metadata": {},
   "source": [
    "Let's compare this with a list in Python, and let's make them larger to more easily see the difference."
   ]
  },
  {
   "cell_type": "code",
   "execution_count": 9,
   "metadata": {},
   "outputs": [
    {
     "name": "stdout",
     "output_type": "stream",
     "text": [
      "Size of the list+container in bytes:  28048\n",
      "Size of each element of the Numpy array in bytes:  8\n",
      "Size of the whole Numpy array in bytes:  8000\n",
      "Size of the whole Numpy array in bytes:  8000\n"
     ]
    }
   ],
   "source": [
    "from sys import getsizeof\n",
    "\n",
    "# size of our lists\n",
    "N = 10000\n",
    "\n",
    "# declaring a list of 1000 elements \n",
    "S = range(N)\n",
    "\n",
    "# getting the size of every element and the container\n",
    "S_size = sum(getsizeof(x) for x in S) + getsizeof(S)\n",
    "\n",
    "print(f\"Size of the list + container: {S_size} bytes\")\n",
    "\n",
    "# declaring a Numpy array of 1000 elements \n",
    "D = np.arange(N)\n",
    "\n",
    "# printing size of each element of the Numpy array\n",
    "print(\"Size of each element of the Numpy array in bytes: \",D.itemsize)\n",
    "  \n",
    "# printing size of the whole Numpy array\n",
    "print(\"Size of the whole Numpy array in bytes: \",D.size*D.itemsize)\n",
    "print(\"Size of the whole Numpy array in bytes: \",D.nbytes)"
   ]
  },
  {
   "cell_type": "code",
   "execution_count": null,
   "metadata": {},
   "outputs": [],
   "source": []
  }
 ],
 "metadata": {
  "kernelspec": {
   "display_name": "Python 3",
   "language": "python",
   "name": "python3"
  },
  "language_info": {
   "codemirror_mode": {
    "name": "ipython",
    "version": 3
   },
   "file_extension": ".py",
   "mimetype": "text/x-python",
   "name": "python",
   "nbconvert_exporter": "python",
   "pygments_lexer": "ipython3",
   "version": "3.12.0"
  }
 },
 "nbformat": 4,
 "nbformat_minor": 2
}
