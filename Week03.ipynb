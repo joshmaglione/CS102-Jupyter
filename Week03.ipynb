{
 "cells": [
  {
   "cell_type": "markdown",
   "metadata": {},
   "source": [
    "# Week 3: Indexing, Reshaping, and Computing with `ndarray`"
   ]
  },
  {
   "cell_type": "markdown",
   "metadata": {},
   "source": [
    "From last time:\n",
    "- NumPy arrays have type `ndarray`\n",
    "- `ndarray`s are *homogeneous multi-dimensional* collections of data. \n",
    "- Some attributes of an `ndarray`:\n",
    "  - `dtype` : the data type of the entries,\n",
    "  - `ndim` : the number of dimensions, \n",
    "  - `shape` : the size of each dimension, \n",
    "  - `size` : the total size of the array"
   ]
  },
  {
   "cell_type": "markdown",
   "metadata": {},
   "source": [
    "Additional attributes include:\n",
    "- `itemsize` : the size (in bytes) of each array element, \n",
    "- `nbytes` : the total bytes used by the array."
   ]
  },
  {
   "cell_type": "markdown",
   "metadata": {},
   "source": []
  }
 ],
 "metadata": {
  "language_info": {
   "name": "python"
  }
 },
 "nbformat": 4,
 "nbformat_minor": 2
}
